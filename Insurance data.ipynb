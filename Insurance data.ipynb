{
 "cells": [
  {
   "cell_type": "code",
   "execution_count": 1,
   "metadata": {},
   "outputs": [],
   "source": [
    "import pandas as pd\n",
    "import numpy as np\n",
    "import scipy\n",
    "import matplotlib.pyplot as plt\n",
    "import seaborn as sns\n",
    "import statsmodels.api as sm\n",
    "import statsmodels.formula.api as smf\n",
    "from sklearn.model_selection import StratifiedShuffleSplit, StratifiedKFold, cross_val_score, train_test_split, cross_val_predict\n",
    "from sklearn.linear_model import LogisticRegression\n",
    "from sklearn.metrics import accuracy_score, confusion_matrix, classification_report\n",
    "from sklearn.tree import DecisionTreeClassifier\n",
    "from sklearn.ensemble import RandomForestClassifier\n",
    "from sklearn.discriminant_analysis import LinearDiscriminantAnalysis, QuadraticDiscriminantAnalysis"
   ]
  },
  {
   "cell_type": "code",
   "execution_count": 2,
   "metadata": {},
   "outputs": [
    {
     "data": {
      "text/html": [
       "<div>\n",
       "<style scoped>\n",
       "    .dataframe tbody tr th:only-of-type {\n",
       "        vertical-align: middle;\n",
       "    }\n",
       "\n",
       "    .dataframe tbody tr th {\n",
       "        vertical-align: top;\n",
       "    }\n",
       "\n",
       "    .dataframe thead th {\n",
       "        text-align: right;\n",
       "    }\n",
       "</style>\n",
       "<table border=\"1\" class=\"dataframe\">\n",
       "  <thead>\n",
       "    <tr style=\"text-align: right;\">\n",
       "      <th></th>\n",
       "      <th>Customer Id</th>\n",
       "      <th>YearOfObservation</th>\n",
       "      <th>Insured_Period</th>\n",
       "      <th>Residential</th>\n",
       "      <th>Building_Painted</th>\n",
       "      <th>Building_Fenced</th>\n",
       "      <th>Garden</th>\n",
       "      <th>Settlement</th>\n",
       "      <th>Building Dimension</th>\n",
       "      <th>Building_Type</th>\n",
       "      <th>Date_of_Occupancy</th>\n",
       "      <th>NumberOfWindows</th>\n",
       "      <th>Geo_Code</th>\n",
       "      <th>Claim</th>\n",
       "    </tr>\n",
       "  </thead>\n",
       "  <tbody>\n",
       "    <tr>\n",
       "      <th>0</th>\n",
       "      <td>H14663</td>\n",
       "      <td>2013</td>\n",
       "      <td>1.0</td>\n",
       "      <td>0</td>\n",
       "      <td>N</td>\n",
       "      <td>V</td>\n",
       "      <td>V</td>\n",
       "      <td>U</td>\n",
       "      <td>290.0</td>\n",
       "      <td>1</td>\n",
       "      <td>1960.0</td>\n",
       "      <td>.</td>\n",
       "      <td>1053</td>\n",
       "      <td>0</td>\n",
       "    </tr>\n",
       "    <tr>\n",
       "      <th>1</th>\n",
       "      <td>H2037</td>\n",
       "      <td>2015</td>\n",
       "      <td>1.0</td>\n",
       "      <td>0</td>\n",
       "      <td>V</td>\n",
       "      <td>N</td>\n",
       "      <td>O</td>\n",
       "      <td>R</td>\n",
       "      <td>490.0</td>\n",
       "      <td>1</td>\n",
       "      <td>1850.0</td>\n",
       "      <td>4</td>\n",
       "      <td>1053</td>\n",
       "      <td>0</td>\n",
       "    </tr>\n",
       "    <tr>\n",
       "      <th>2</th>\n",
       "      <td>H3802</td>\n",
       "      <td>2014</td>\n",
       "      <td>1.0</td>\n",
       "      <td>0</td>\n",
       "      <td>N</td>\n",
       "      <td>V</td>\n",
       "      <td>V</td>\n",
       "      <td>U</td>\n",
       "      <td>595.0</td>\n",
       "      <td>1</td>\n",
       "      <td>1960.0</td>\n",
       "      <td>.</td>\n",
       "      <td>1053</td>\n",
       "      <td>0</td>\n",
       "    </tr>\n",
       "    <tr>\n",
       "      <th>3</th>\n",
       "      <td>H3834</td>\n",
       "      <td>2013</td>\n",
       "      <td>1.0</td>\n",
       "      <td>0</td>\n",
       "      <td>V</td>\n",
       "      <td>V</td>\n",
       "      <td>V</td>\n",
       "      <td>U</td>\n",
       "      <td>2840.0</td>\n",
       "      <td>1</td>\n",
       "      <td>1960.0</td>\n",
       "      <td>.</td>\n",
       "      <td>1053</td>\n",
       "      <td>0</td>\n",
       "    </tr>\n",
       "    <tr>\n",
       "      <th>4</th>\n",
       "      <td>H5053</td>\n",
       "      <td>2014</td>\n",
       "      <td>1.0</td>\n",
       "      <td>0</td>\n",
       "      <td>V</td>\n",
       "      <td>N</td>\n",
       "      <td>O</td>\n",
       "      <td>R</td>\n",
       "      <td>680.0</td>\n",
       "      <td>1</td>\n",
       "      <td>1800.0</td>\n",
       "      <td>3</td>\n",
       "      <td>1053</td>\n",
       "      <td>0</td>\n",
       "    </tr>\n",
       "  </tbody>\n",
       "</table>\n",
       "</div>"
      ],
      "text/plain": [
       "  Customer Id  YearOfObservation  Insured_Period  Residential  \\\n",
       "0      H14663               2013             1.0            0   \n",
       "1       H2037               2015             1.0            0   \n",
       "2       H3802               2014             1.0            0   \n",
       "3       H3834               2013             1.0            0   \n",
       "4       H5053               2014             1.0            0   \n",
       "\n",
       "  Building_Painted Building_Fenced Garden Settlement  Building Dimension  \\\n",
       "0                N               V      V          U               290.0   \n",
       "1                V               N      O          R               490.0   \n",
       "2                N               V      V          U               595.0   \n",
       "3                V               V      V          U              2840.0   \n",
       "4                V               N      O          R               680.0   \n",
       "\n",
       "   Building_Type  Date_of_Occupancy NumberOfWindows Geo_Code  Claim  \n",
       "0              1             1960.0               .     1053      0  \n",
       "1              1             1850.0               4     1053      0  \n",
       "2              1             1960.0               .     1053      0  \n",
       "3              1             1960.0               .     1053      0  \n",
       "4              1             1800.0               3     1053      0  "
      ]
     },
     "execution_count": 2,
     "metadata": {},
     "output_type": "execute_result"
    }
   ],
   "source": [
    "df = pd.read_csv('train_data.csv', na_values={' ':np.nan})\n",
    "df.head()"
   ]
  },
  {
   "cell_type": "code",
   "execution_count": 3,
   "metadata": {},
   "outputs": [],
   "source": [
    "df = df.drop(columns='NumberOfWindows')"
   ]
  },
  {
   "cell_type": "code",
   "execution_count": 4,
   "metadata": {},
   "outputs": [
    {
     "data": {
      "text/html": [
       "<div>\n",
       "<style scoped>\n",
       "    .dataframe tbody tr th:only-of-type {\n",
       "        vertical-align: middle;\n",
       "    }\n",
       "\n",
       "    .dataframe tbody tr th {\n",
       "        vertical-align: top;\n",
       "    }\n",
       "\n",
       "    .dataframe thead th {\n",
       "        text-align: right;\n",
       "    }\n",
       "</style>\n",
       "<table border=\"1\" class=\"dataframe\">\n",
       "  <thead>\n",
       "    <tr style=\"text-align: right;\">\n",
       "      <th></th>\n",
       "      <th>Customer Id</th>\n",
       "      <th>YearOfObservation</th>\n",
       "      <th>Insured_Period</th>\n",
       "      <th>Residential</th>\n",
       "      <th>Building_Painted</th>\n",
       "      <th>Building_Fenced</th>\n",
       "      <th>Garden</th>\n",
       "      <th>Settlement</th>\n",
       "      <th>Building Dimension</th>\n",
       "      <th>Building_Type</th>\n",
       "      <th>Date_of_Occupancy</th>\n",
       "      <th>Geo_Code</th>\n",
       "      <th>Claim</th>\n",
       "    </tr>\n",
       "  </thead>\n",
       "  <tbody>\n",
       "    <tr>\n",
       "      <th>0</th>\n",
       "      <td>H14663</td>\n",
       "      <td>2013</td>\n",
       "      <td>1.0</td>\n",
       "      <td>0</td>\n",
       "      <td>N</td>\n",
       "      <td>V</td>\n",
       "      <td>V</td>\n",
       "      <td>U</td>\n",
       "      <td>290.0</td>\n",
       "      <td>1</td>\n",
       "      <td>1960.0</td>\n",
       "      <td>1053</td>\n",
       "      <td>0</td>\n",
       "    </tr>\n",
       "    <tr>\n",
       "      <th>1</th>\n",
       "      <td>H2037</td>\n",
       "      <td>2015</td>\n",
       "      <td>1.0</td>\n",
       "      <td>0</td>\n",
       "      <td>V</td>\n",
       "      <td>N</td>\n",
       "      <td>O</td>\n",
       "      <td>R</td>\n",
       "      <td>490.0</td>\n",
       "      <td>1</td>\n",
       "      <td>1850.0</td>\n",
       "      <td>1053</td>\n",
       "      <td>0</td>\n",
       "    </tr>\n",
       "    <tr>\n",
       "      <th>2</th>\n",
       "      <td>H3802</td>\n",
       "      <td>2014</td>\n",
       "      <td>1.0</td>\n",
       "      <td>0</td>\n",
       "      <td>N</td>\n",
       "      <td>V</td>\n",
       "      <td>V</td>\n",
       "      <td>U</td>\n",
       "      <td>595.0</td>\n",
       "      <td>1</td>\n",
       "      <td>1960.0</td>\n",
       "      <td>1053</td>\n",
       "      <td>0</td>\n",
       "    </tr>\n",
       "    <tr>\n",
       "      <th>3</th>\n",
       "      <td>H3834</td>\n",
       "      <td>2013</td>\n",
       "      <td>1.0</td>\n",
       "      <td>0</td>\n",
       "      <td>V</td>\n",
       "      <td>V</td>\n",
       "      <td>V</td>\n",
       "      <td>U</td>\n",
       "      <td>2840.0</td>\n",
       "      <td>1</td>\n",
       "      <td>1960.0</td>\n",
       "      <td>1053</td>\n",
       "      <td>0</td>\n",
       "    </tr>\n",
       "    <tr>\n",
       "      <th>4</th>\n",
       "      <td>H5053</td>\n",
       "      <td>2014</td>\n",
       "      <td>1.0</td>\n",
       "      <td>0</td>\n",
       "      <td>V</td>\n",
       "      <td>N</td>\n",
       "      <td>O</td>\n",
       "      <td>R</td>\n",
       "      <td>680.0</td>\n",
       "      <td>1</td>\n",
       "      <td>1800.0</td>\n",
       "      <td>1053</td>\n",
       "      <td>0</td>\n",
       "    </tr>\n",
       "  </tbody>\n",
       "</table>\n",
       "</div>"
      ],
      "text/plain": [
       "  Customer Id  YearOfObservation  Insured_Period  Residential  \\\n",
       "0      H14663               2013             1.0            0   \n",
       "1       H2037               2015             1.0            0   \n",
       "2       H3802               2014             1.0            0   \n",
       "3       H3834               2013             1.0            0   \n",
       "4       H5053               2014             1.0            0   \n",
       "\n",
       "  Building_Painted Building_Fenced Garden Settlement  Building Dimension  \\\n",
       "0                N               V      V          U               290.0   \n",
       "1                V               N      O          R               490.0   \n",
       "2                N               V      V          U               595.0   \n",
       "3                V               V      V          U              2840.0   \n",
       "4                V               N      O          R               680.0   \n",
       "\n",
       "   Building_Type  Date_of_Occupancy Geo_Code  Claim  \n",
       "0              1             1960.0     1053      0  \n",
       "1              1             1850.0     1053      0  \n",
       "2              1             1960.0     1053      0  \n",
       "3              1             1960.0     1053      0  \n",
       "4              1             1800.0     1053      0  "
      ]
     },
     "execution_count": 4,
     "metadata": {},
     "output_type": "execute_result"
    }
   ],
   "source": [
    "df.head()"
   ]
  },
  {
   "cell_type": "code",
   "execution_count": 5,
   "metadata": {},
   "outputs": [],
   "source": [
    "df['Building_Dimension'] = df['Building Dimension']\n",
    "df = df.drop(columns='Building Dimension')"
   ]
  },
  {
   "cell_type": "code",
   "execution_count": 6,
   "metadata": {},
   "outputs": [
    {
     "data": {
      "text/html": [
       "<div>\n",
       "<style scoped>\n",
       "    .dataframe tbody tr th:only-of-type {\n",
       "        vertical-align: middle;\n",
       "    }\n",
       "\n",
       "    .dataframe tbody tr th {\n",
       "        vertical-align: top;\n",
       "    }\n",
       "\n",
       "    .dataframe thead th {\n",
       "        text-align: right;\n",
       "    }\n",
       "</style>\n",
       "<table border=\"1\" class=\"dataframe\">\n",
       "  <thead>\n",
       "    <tr style=\"text-align: right;\">\n",
       "      <th></th>\n",
       "      <th>Customer Id</th>\n",
       "      <th>YearOfObservation</th>\n",
       "      <th>Insured_Period</th>\n",
       "      <th>Residential</th>\n",
       "      <th>Building_Painted</th>\n",
       "      <th>Building_Fenced</th>\n",
       "      <th>Garden</th>\n",
       "      <th>Settlement</th>\n",
       "      <th>Building_Type</th>\n",
       "      <th>Date_of_Occupancy</th>\n",
       "      <th>Geo_Code</th>\n",
       "      <th>Claim</th>\n",
       "      <th>Building_Dimension</th>\n",
       "    </tr>\n",
       "  </thead>\n",
       "  <tbody>\n",
       "    <tr>\n",
       "      <th>0</th>\n",
       "      <td>H14663</td>\n",
       "      <td>2013</td>\n",
       "      <td>1.0</td>\n",
       "      <td>0</td>\n",
       "      <td>N</td>\n",
       "      <td>V</td>\n",
       "      <td>V</td>\n",
       "      <td>U</td>\n",
       "      <td>1</td>\n",
       "      <td>1960.0</td>\n",
       "      <td>1053</td>\n",
       "      <td>0</td>\n",
       "      <td>290.0</td>\n",
       "    </tr>\n",
       "    <tr>\n",
       "      <th>1</th>\n",
       "      <td>H2037</td>\n",
       "      <td>2015</td>\n",
       "      <td>1.0</td>\n",
       "      <td>0</td>\n",
       "      <td>V</td>\n",
       "      <td>N</td>\n",
       "      <td>O</td>\n",
       "      <td>R</td>\n",
       "      <td>1</td>\n",
       "      <td>1850.0</td>\n",
       "      <td>1053</td>\n",
       "      <td>0</td>\n",
       "      <td>490.0</td>\n",
       "    </tr>\n",
       "    <tr>\n",
       "      <th>2</th>\n",
       "      <td>H3802</td>\n",
       "      <td>2014</td>\n",
       "      <td>1.0</td>\n",
       "      <td>0</td>\n",
       "      <td>N</td>\n",
       "      <td>V</td>\n",
       "      <td>V</td>\n",
       "      <td>U</td>\n",
       "      <td>1</td>\n",
       "      <td>1960.0</td>\n",
       "      <td>1053</td>\n",
       "      <td>0</td>\n",
       "      <td>595.0</td>\n",
       "    </tr>\n",
       "    <tr>\n",
       "      <th>3</th>\n",
       "      <td>H3834</td>\n",
       "      <td>2013</td>\n",
       "      <td>1.0</td>\n",
       "      <td>0</td>\n",
       "      <td>V</td>\n",
       "      <td>V</td>\n",
       "      <td>V</td>\n",
       "      <td>U</td>\n",
       "      <td>1</td>\n",
       "      <td>1960.0</td>\n",
       "      <td>1053</td>\n",
       "      <td>0</td>\n",
       "      <td>2840.0</td>\n",
       "    </tr>\n",
       "    <tr>\n",
       "      <th>4</th>\n",
       "      <td>H5053</td>\n",
       "      <td>2014</td>\n",
       "      <td>1.0</td>\n",
       "      <td>0</td>\n",
       "      <td>V</td>\n",
       "      <td>N</td>\n",
       "      <td>O</td>\n",
       "      <td>R</td>\n",
       "      <td>1</td>\n",
       "      <td>1800.0</td>\n",
       "      <td>1053</td>\n",
       "      <td>0</td>\n",
       "      <td>680.0</td>\n",
       "    </tr>\n",
       "  </tbody>\n",
       "</table>\n",
       "</div>"
      ],
      "text/plain": [
       "  Customer Id  YearOfObservation  Insured_Period  Residential  \\\n",
       "0      H14663               2013             1.0            0   \n",
       "1       H2037               2015             1.0            0   \n",
       "2       H3802               2014             1.0            0   \n",
       "3       H3834               2013             1.0            0   \n",
       "4       H5053               2014             1.0            0   \n",
       "\n",
       "  Building_Painted Building_Fenced Garden Settlement  Building_Type  \\\n",
       "0                N               V      V          U              1   \n",
       "1                V               N      O          R              1   \n",
       "2                N               V      V          U              1   \n",
       "3                V               V      V          U              1   \n",
       "4                V               N      O          R              1   \n",
       "\n",
       "   Date_of_Occupancy Geo_Code  Claim  Building_Dimension  \n",
       "0             1960.0     1053      0               290.0  \n",
       "1             1850.0     1053      0               490.0  \n",
       "2             1960.0     1053      0               595.0  \n",
       "3             1960.0     1053      0              2840.0  \n",
       "4             1800.0     1053      0               680.0  "
      ]
     },
     "execution_count": 6,
     "metadata": {},
     "output_type": "execute_result"
    }
   ],
   "source": [
    "df.head()"
   ]
  },
  {
   "cell_type": "code",
   "execution_count": 7,
   "metadata": {},
   "outputs": [
    {
     "data": {
      "text/plain": [
       "Customer Id             0\n",
       "YearOfObservation       0\n",
       "Insured_Period          0\n",
       "Residential             0\n",
       "Building_Painted        0\n",
       "Building_Fenced         0\n",
       "Garden                  7\n",
       "Settlement              0\n",
       "Building_Type           0\n",
       "Date_of_Occupancy     508\n",
       "Geo_Code              102\n",
       "Claim                   0\n",
       "Building_Dimension    106\n",
       "dtype: int64"
      ]
     },
     "execution_count": 7,
     "metadata": {},
     "output_type": "execute_result"
    }
   ],
   "source": [
    "df.isnull().sum()"
   ]
  },
  {
   "cell_type": "code",
   "execution_count": 8,
   "metadata": {},
   "outputs": [
    {
     "data": {
      "text/plain": [
       "False    0.985196\n",
       "True     0.014804\n",
       "Name: Building_Dimension, dtype: float64"
      ]
     },
     "execution_count": 8,
     "metadata": {},
     "output_type": "execute_result"
    }
   ],
   "source": [
    "# Percentage of missing values in Building Dimension\n",
    "df['Building_Dimension'].isnull().value_counts()/len(df)"
   ]
  },
  {
   "cell_type": "code",
   "execution_count": 9,
   "metadata": {},
   "outputs": [
    {
     "data": {
      "text/plain": [
       "False    0.92905\n",
       "True     0.07095\n",
       "Name: Date_of_Occupancy, dtype: float64"
      ]
     },
     "execution_count": 9,
     "metadata": {},
     "output_type": "execute_result"
    }
   ],
   "source": [
    "# Percentage of missing values in Date_of_Occupancy\n",
    "df['Date_of_Occupancy'].isnull().value_counts()/len(df)"
   ]
  },
  {
   "cell_type": "code",
   "execution_count": 10,
   "metadata": {},
   "outputs": [],
   "source": [
    "# Replace missing values with median\n",
    "df['Building_Dimension'].fillna(df['Building_Dimension'].median(), inplace=True)\n",
    "df['Date_of_Occupancy'].fillna(df['Date_of_Occupancy'].median(), inplace=True)\n",
    "# df['Geo_Code'].fillna(df['Geo_Code'].median(), inplace=True)"
   ]
  },
  {
   "cell_type": "code",
   "execution_count": 11,
   "metadata": {},
   "outputs": [],
   "source": [
    "# Pick only rows that don't contain missing values\n",
    "df_clean = df[df['Customer Id'].notnull() & df['YearOfObservation'].notnull() & df['Insured_Period'].notnull()\n",
    "             & df['Residential'].notnull() & df['Building_Painted'].notnull() & df['Building_Fenced'].notnull()\n",
    "             & df['Garden'].notnull() & df['Settlement'].notnull() & df['Building_Dimension'].notnull()\n",
    "             & df['Building_Type'].notnull() & df['Date_of_Occupancy'].notnull() & df['Geo_Code'].notnull()\n",
    "             & df['Claim'].notnull()]"
   ]
  },
  {
   "cell_type": "code",
   "execution_count": 12,
   "metadata": {},
   "outputs": [
    {
     "data": {
      "text/plain": [
       "7051"
      ]
     },
     "execution_count": 12,
     "metadata": {},
     "output_type": "execute_result"
    }
   ],
   "source": [
    "len(df_clean)"
   ]
  },
  {
   "cell_type": "code",
   "execution_count": 13,
   "metadata": {},
   "outputs": [
    {
     "data": {
      "text/plain": [
       "Customer Id           0\n",
       "YearOfObservation     0\n",
       "Insured_Period        0\n",
       "Residential           0\n",
       "Building_Painted      0\n",
       "Building_Fenced       0\n",
       "Garden                0\n",
       "Settlement            0\n",
       "Building_Type         0\n",
       "Date_of_Occupancy     0\n",
       "Geo_Code              0\n",
       "Claim                 0\n",
       "Building_Dimension    0\n",
       "dtype: int64"
      ]
     },
     "execution_count": 13,
     "metadata": {},
     "output_type": "execute_result"
    }
   ],
   "source": [
    "df_clean.isnull().sum()"
   ]
  },
  {
   "cell_type": "code",
   "execution_count": 14,
   "metadata": {},
   "outputs": [
    {
     "data": {
      "text/html": [
       "<div>\n",
       "<style scoped>\n",
       "    .dataframe tbody tr th:only-of-type {\n",
       "        vertical-align: middle;\n",
       "    }\n",
       "\n",
       "    .dataframe tbody tr th {\n",
       "        vertical-align: top;\n",
       "    }\n",
       "\n",
       "    .dataframe thead th {\n",
       "        text-align: right;\n",
       "    }\n",
       "</style>\n",
       "<table border=\"1\" class=\"dataframe\">\n",
       "  <thead>\n",
       "    <tr style=\"text-align: right;\">\n",
       "      <th></th>\n",
       "      <th>Customer Id</th>\n",
       "      <th>YearOfObservation</th>\n",
       "      <th>Insured_Period</th>\n",
       "      <th>Residential</th>\n",
       "      <th>Building_Painted</th>\n",
       "      <th>Building_Fenced</th>\n",
       "      <th>Garden</th>\n",
       "      <th>Settlement</th>\n",
       "      <th>Building_Type</th>\n",
       "      <th>Date_of_Occupancy</th>\n",
       "      <th>Geo_Code</th>\n",
       "      <th>Claim</th>\n",
       "      <th>Building_Dimension</th>\n",
       "    </tr>\n",
       "  </thead>\n",
       "  <tbody>\n",
       "    <tr>\n",
       "      <th>0</th>\n",
       "      <td>H14663</td>\n",
       "      <td>2013</td>\n",
       "      <td>1.0</td>\n",
       "      <td>0</td>\n",
       "      <td>N</td>\n",
       "      <td>V</td>\n",
       "      <td>V</td>\n",
       "      <td>U</td>\n",
       "      <td>1</td>\n",
       "      <td>1960.0</td>\n",
       "      <td>1053</td>\n",
       "      <td>0</td>\n",
       "      <td>290.0</td>\n",
       "    </tr>\n",
       "    <tr>\n",
       "      <th>1</th>\n",
       "      <td>H2037</td>\n",
       "      <td>2015</td>\n",
       "      <td>1.0</td>\n",
       "      <td>0</td>\n",
       "      <td>V</td>\n",
       "      <td>N</td>\n",
       "      <td>O</td>\n",
       "      <td>R</td>\n",
       "      <td>1</td>\n",
       "      <td>1850.0</td>\n",
       "      <td>1053</td>\n",
       "      <td>0</td>\n",
       "      <td>490.0</td>\n",
       "    </tr>\n",
       "    <tr>\n",
       "      <th>2</th>\n",
       "      <td>H3802</td>\n",
       "      <td>2014</td>\n",
       "      <td>1.0</td>\n",
       "      <td>0</td>\n",
       "      <td>N</td>\n",
       "      <td>V</td>\n",
       "      <td>V</td>\n",
       "      <td>U</td>\n",
       "      <td>1</td>\n",
       "      <td>1960.0</td>\n",
       "      <td>1053</td>\n",
       "      <td>0</td>\n",
       "      <td>595.0</td>\n",
       "    </tr>\n",
       "    <tr>\n",
       "      <th>3</th>\n",
       "      <td>H3834</td>\n",
       "      <td>2013</td>\n",
       "      <td>1.0</td>\n",
       "      <td>0</td>\n",
       "      <td>V</td>\n",
       "      <td>V</td>\n",
       "      <td>V</td>\n",
       "      <td>U</td>\n",
       "      <td>1</td>\n",
       "      <td>1960.0</td>\n",
       "      <td>1053</td>\n",
       "      <td>0</td>\n",
       "      <td>2840.0</td>\n",
       "    </tr>\n",
       "    <tr>\n",
       "      <th>4</th>\n",
       "      <td>H5053</td>\n",
       "      <td>2014</td>\n",
       "      <td>1.0</td>\n",
       "      <td>0</td>\n",
       "      <td>V</td>\n",
       "      <td>N</td>\n",
       "      <td>O</td>\n",
       "      <td>R</td>\n",
       "      <td>1</td>\n",
       "      <td>1800.0</td>\n",
       "      <td>1053</td>\n",
       "      <td>0</td>\n",
       "      <td>680.0</td>\n",
       "    </tr>\n",
       "  </tbody>\n",
       "</table>\n",
       "</div>"
      ],
      "text/plain": [
       "  Customer Id  YearOfObservation  Insured_Period  Residential  \\\n",
       "0      H14663               2013             1.0            0   \n",
       "1       H2037               2015             1.0            0   \n",
       "2       H3802               2014             1.0            0   \n",
       "3       H3834               2013             1.0            0   \n",
       "4       H5053               2014             1.0            0   \n",
       "\n",
       "  Building_Painted Building_Fenced Garden Settlement  Building_Type  \\\n",
       "0                N               V      V          U              1   \n",
       "1                V               N      O          R              1   \n",
       "2                N               V      V          U              1   \n",
       "3                V               V      V          U              1   \n",
       "4                V               N      O          R              1   \n",
       "\n",
       "   Date_of_Occupancy Geo_Code  Claim  Building_Dimension  \n",
       "0             1960.0     1053      0               290.0  \n",
       "1             1850.0     1053      0               490.0  \n",
       "2             1960.0     1053      0               595.0  \n",
       "3             1960.0     1053      0              2840.0  \n",
       "4             1800.0     1053      0               680.0  "
      ]
     },
     "execution_count": 14,
     "metadata": {},
     "output_type": "execute_result"
    }
   ],
   "source": [
    "df_clean.head()"
   ]
  },
  {
   "cell_type": "code",
   "execution_count": 15,
   "metadata": {},
   "outputs": [
    {
     "data": {
      "text/plain": [
       "Text(0.5, 0.98, 'Frequency of observations by YearOfObservation')"
      ]
     },
     "execution_count": 15,
     "metadata": {},
     "output_type": "execute_result"
    },
    {
     "data": {
      "image/png": "[encoded data removed]",
      "text/plain": [
       "<Figure size 432x288 with 1 Axes>"
      ]
     },
     "metadata": {
      "needs_background": "light"
     },
     "output_type": "display_data"
    }
   ],
   "source": [
    "# Visualizing YearOfObservation\n",
    "sns.countplot(x='YearOfObservation', data=df_clean)\n",
    "plt.suptitle('Frequency of observations by YearOfObservation')"
   ]
  },
  {
   "cell_type": "code",
   "execution_count": 16,
   "metadata": {},
   "outputs": [
    {
     "data": {
      "text/plain": [
       "Text(0.5, 0.98, 'Frequency of observations by Insured Period')"
      ]
     },
     "execution_count": 16,
     "metadata": {},
     "output_type": "execute_result"
    },
    {
     "data": {
      "image/png": "[encoded data removed]",
      "text/plain": [
       "<Figure size 432x288 with 1 Axes>"
      ]
     },
     "metadata": {
      "needs_background": "light"
     },
     "output_type": "display_data"
    }
   ],
   "source": [
    "# Visualizing Residential\n",
    "sns.countplot(x='Residential', data=df_clean)\n",
    "plt.suptitle('Frequency of observations by Insured Period')"
   ]
  },
  {
   "cell_type": "code",
   "execution_count": 17,
   "metadata": {},
   "outputs": [
    {
     "data": {
      "text/plain": [
       "0    0.771238\n",
       "1    0.228762\n",
       "Name: Claim, dtype: float64"
      ]
     },
     "execution_count": 17,
     "metadata": {},
     "output_type": "execute_result"
    }
   ],
   "source": [
    "df_clean['Claim'].value_counts(normalize=True)"
   ]
  },
  {
   "cell_type": "code",
   "execution_count": 18,
   "metadata": {},
   "outputs": [
    {
     "data": {
      "text/plain": [
       "Text(0.5, 0.98, 'Frequency of observations by Claim')"
      ]
     },
     "execution_count": 18,
     "metadata": {},
     "output_type": "execute_result"
    },
    {
     "data": {
      "image/png": "[encoded data removed]",
      "text/plain": [
       "<Figure size 432x288 with 1 Axes>"
      ]
     },
     "metadata": {
      "needs_background": "light"
     },
     "output_type": "display_data"
    }
   ],
   "source": [
    "#Visualizing claim\n",
    "sns.countplot(x='Claim', data=df_clean)\n",
    "plt.suptitle('Frequency of observations by Claim')"
   ]
  },
  {
   "cell_type": "code",
   "execution_count": 19,
   "metadata": {},
   "outputs": [
    {
     "data": {
      "text/plain": [
       "Text(0.5, 0.98, 'Frequency of observations by Building Painted')"
      ]
     },
     "execution_count": 19,
     "metadata": {},
     "output_type": "execute_result"
    },
    {
     "data": {
      "image/png": "[encoded data removed]",
      "text/plain": [
       "<Figure size 432x288 with 1 Axes>"
      ]
     },
     "metadata": {
      "needs_background": "light"
     },
     "output_type": "display_data"
    }
   ],
   "source": [
    "sns.countplot(x='Building_Painted', data=df_clean)\n",
    "plt.suptitle('Frequency of observations by Building Painted')"
   ]
  },
  {
   "cell_type": "code",
   "execution_count": 20,
   "metadata": {},
   "outputs": [
    {
     "data": {
      "text/plain": [
       "Text(0.5, 0.98, 'Frequency of observations by Building Fenced')"
      ]
     },
     "execution_count": 20,
     "metadata": {},
     "output_type": "execute_result"
    },
    {
     "data": {
      "image/png": "[encoded data removed]",
      "text/plain": [
       "<Figure size 432x288 with 1 Axes>"
      ]
     },
     "metadata": {
      "needs_background": "light"
     },
     "output_type": "display_data"
    }
   ],
   "source": [
    "sns.countplot(x='Building_Fenced', data=df_clean)\n",
    "plt.suptitle('Frequency of observations by Building Fenced')"
   ]
  },
  {
   "cell_type": "code",
   "execution_count": 21,
   "metadata": {},
   "outputs": [
    {
     "data": {
      "text/plain": [
       "Text(0.5, 0.98, 'Frequency of Buildings based on Garden')"
      ]
     },
     "execution_count": 21,
     "metadata": {},
     "output_type": "execute_result"
    },
    {
     "data": {
      "image/png": "[encoded data removed]",
      "text/plain": [
       "<Figure size 432x288 with 1 Axes>"
      ]
     },
     "metadata": {
      "needs_background": "light"
     },
     "output_type": "display_data"
    }
   ],
   "source": [
    "sns.countplot(x='Garden', data=df_clean)\n",
    "plt.suptitle('Frequency of Buildings based on Garden')"
   ]
  },
  {
   "cell_type": "code",
   "execution_count": 22,
   "metadata": {},
   "outputs": [
    {
     "data": {
      "text/plain": [
       "Text(0.5, 0.98, 'Frequency of observations by settlement')"
      ]
     },
     "execution_count": 22,
     "metadata": {},
     "output_type": "execute_result"
    },
    {
     "data": {
      "image/png": "[encoded data removed]",
      "text/plain": [
       "<Figure size 432x288 with 1 Axes>"
      ]
     },
     "metadata": {
      "needs_background": "light"
     },
     "output_type": "display_data"
    }
   ],
   "source": [
    "sns.countplot(x='Settlement', data=df_clean)\n",
    "plt.suptitle('Frequency of observations by settlement')"
   ]
  },
  {
   "cell_type": "code",
   "execution_count": 23,
   "metadata": {},
   "outputs": [
    {
     "data": {
      "text/plain": [
       "Text(0.5, 0.98, 'Frequency of observations by Building Type')"
      ]
     },
     "execution_count": 23,
     "metadata": {},
     "output_type": "execute_result"
    },
    {
     "data": {
      "image/png": "[encoded data removed]",
      "text/plain": [
       "<Figure size 432x288 with 1 Axes>"
      ]
     },
     "metadata": {
      "needs_background": "light"
     },
     "output_type": "display_data"
    }
   ],
   "source": [
    "sns.countplot(x='Building_Type', data=df_clean)\n",
    "plt.suptitle('Frequency of observations by Building Type')"
   ]
  },
  {
   "cell_type": "code",
   "execution_count": 24,
   "metadata": {},
   "outputs": [
    {
     "data": {
      "text/plain": [
       "count    7051.000000\n",
       "mean        0.910195\n",
       "std         0.239368\n",
       "min         0.000000\n",
       "25%         0.997268\n",
       "50%         1.000000\n",
       "75%         1.000000\n",
       "max         1.000000\n",
       "Name: Insured_Period, dtype: float64"
      ]
     },
     "execution_count": 24,
     "metadata": {},
     "output_type": "execute_result"
    }
   ],
   "source": [
    "# Give a description of the insured period\n",
    "df_clean['Insured_Period'].describe()"
   ]
  },
  {
   "cell_type": "code",
   "execution_count": 25,
   "metadata": {},
   "outputs": [
    {
     "name": "stderr",
     "output_type": "stream",
     "text": [
      "<ipython-input-25-709ecffc1519>:2: SettingWithCopyWarning: \n",
      "A value is trying to be set on a copy of a slice from a DataFrame.\n",
      "Try using .loc[row_indexer,col_indexer] = value instead\n",
      "\n",
      "See the caveats in the documentation: https://pandas.pydata.org/pandas-docs/stable/user_guide/indexing.html#returning-a-view-versus-a-copy\n",
      "  df_clean['Insured_Period'] = df_clean['Insured_Period'] * 12\n"
     ]
    }
   ],
   "source": [
    "# Convert insured period to months\n",
    "df_clean['Insured_Period'] = df_clean['Insured_Period'] * 12"
   ]
  },
  {
   "cell_type": "code",
   "execution_count": 26,
   "metadata": {},
   "outputs": [
    {
     "name": "stderr",
     "output_type": "stream",
     "text": [
      "<ipython-input-26-819929acbbfe>:1: SettingWithCopyWarning: \n",
      "A value is trying to be set on a copy of a slice from a DataFrame.\n",
      "Try using .loc[row_indexer,col_indexer] = value instead\n",
      "\n",
      "See the caveats in the documentation: https://pandas.pydata.org/pandas-docs/stable/user_guide/indexing.html#returning-a-view-versus-a-copy\n",
      "  df_clean['Insured_Period'] = df_clean['Insured_Period'].astype(dtype='int32')\n"
     ]
    }
   ],
   "source": [
    "df_clean['Insured_Period'] = df_clean['Insured_Period'].astype(dtype='int32')"
   ]
  },
  {
   "cell_type": "code",
   "execution_count": 27,
   "metadata": {},
   "outputs": [
    {
     "data": {
      "text/plain": [
       "count    7051.000000\n",
       "mean       10.747837\n",
       "std         2.990236\n",
       "min         0.000000\n",
       "25%        11.000000\n",
       "50%        12.000000\n",
       "75%        12.000000\n",
       "max        12.000000\n",
       "Name: Insured_Period, dtype: float64"
      ]
     },
     "execution_count": 27,
     "metadata": {},
     "output_type": "execute_result"
    }
   ],
   "source": [
    "df_clean['Insured_Period'].describe()"
   ]
  },
  {
   "cell_type": "code",
   "execution_count": 28,
   "metadata": {},
   "outputs": [
    {
     "data": {
      "text/plain": [
       "<matplotlib.axes._subplots.AxesSubplot at 0x285da5751f0>"
      ]
     },
     "execution_count": 28,
     "metadata": {},
     "output_type": "execute_result"
    },
    {
     "data": {
      "image/png": "[encoded data removed]",
      "text/plain": [
       "<Figure size 432x288 with 1 Axes>"
      ]
     },
     "metadata": {
      "needs_background": "light"
     },
     "output_type": "display_data"
    }
   ],
   "source": [
    "sns.distplot(df_clean['Insured_Period'])"
   ]
  },
  {
   "cell_type": "code",
   "execution_count": 29,
   "metadata": {},
   "outputs": [
    {
     "data": {
      "text/plain": [
       "<matplotlib.axes._subplots.AxesSubplot at 0x285da5a8220>"
      ]
     },
     "execution_count": 29,
     "metadata": {},
     "output_type": "execute_result"
    },
    {
     "data": {
      "image/png": "[encoded data removed]",
      "text/plain": [
       "<Figure size 432x288 with 1 Axes>"
      ]
     },
     "metadata": {
      "needs_background": "light"
     },
     "output_type": "display_data"
    }
   ],
   "source": [
    "sns.countplot(x='Insured_Period', data=df_clean)"
   ]
  },
  {
   "cell_type": "code",
   "execution_count": 30,
   "metadata": {},
   "outputs": [
    {
     "data": {
      "text/plain": [
       "count     7051.000000\n",
       "mean      1881.766132\n",
       "std       2276.399414\n",
       "min          1.000000\n",
       "25%        528.000000\n",
       "50%       1083.000000\n",
       "75%       2286.500000\n",
       "max      20940.000000\n",
       "Name: Building_Dimension, dtype: float64"
      ]
     },
     "execution_count": 30,
     "metadata": {},
     "output_type": "execute_result"
    }
   ],
   "source": [
    "df_clean['Building_Dimension'].describe()"
   ]
  },
  {
   "cell_type": "code",
   "execution_count": 31,
   "metadata": {},
   "outputs": [
    {
     "data": {
      "text/plain": [
       "Text(0.5, 0.98, 'Distribution of Building Dimension')"
      ]
     },
     "execution_count": 31,
     "metadata": {},
     "output_type": "execute_result"
    },
    {
     "data": {
      "image/png": "[encoded data removed]",
      "text/plain": [
       "<Figure size 432x288 with 1 Axes>"
      ]
     },
     "metadata": {
      "needs_background": "light"
     },
     "output_type": "display_data"
    }
   ],
   "source": [
    "sns.distplot(df_clean['Building_Dimension'])\n",
    "plt.suptitle('Distribution of Building Dimension')"
   ]
  },
  {
   "cell_type": "code",
   "execution_count": 32,
   "metadata": {},
   "outputs": [
    {
     "data": {
      "text/plain": [
       "count    7051.000000\n",
       "mean     1964.853354\n",
       "std        34.440695\n",
       "min      1545.000000\n",
       "25%      1960.000000\n",
       "50%      1970.000000\n",
       "75%      1980.000000\n",
       "max      2016.000000\n",
       "Name: Date_of_Occupancy, dtype: float64"
      ]
     },
     "execution_count": 32,
     "metadata": {},
     "output_type": "execute_result"
    }
   ],
   "source": [
    "df_clean['Date_of_Occupancy'].describe()"
   ]
  },
  {
   "cell_type": "code",
   "execution_count": 33,
   "metadata": {},
   "outputs": [
    {
     "data": {
      "text/plain": [
       "Text(0.5, 0.98, 'Date_of_Occupancy')"
      ]
     },
     "execution_count": 33,
     "metadata": {},
     "output_type": "execute_result"
    },
    {
     "data": {
      "image/png": "[encoded data removed]",
      "text/plain": [
       "<Figure size 432x288 with 1 Axes>"
      ]
     },
     "metadata": {
      "needs_background": "light"
     },
     "output_type": "display_data"
    }
   ],
   "source": [
    "sns.distplot(df_clean['Date_of_Occupancy'], bins=14)\n",
    "plt.suptitle('Date_of_Occupancy')"
   ]
  },
  {
   "cell_type": "code",
   "execution_count": 34,
   "metadata": {},
   "outputs": [],
   "source": [
    "# Bivariate Analysis"
   ]
  },
  {
   "cell_type": "code",
   "execution_count": 35,
   "metadata": {},
   "outputs": [
    {
     "name": "stderr",
     "output_type": "stream",
     "text": [
      "<ipython-input-35-e53570e3d6cc>:2: SettingWithCopyWarning: \n",
      "A value is trying to be set on a copy of a slice from a DataFrame.\n",
      "Try using .loc[row_indexer,col_indexer] = value instead\n",
      "\n",
      "See the caveats in the documentation: https://pandas.pydata.org/pandas-docs/stable/user_guide/indexing.html#returning-a-view-versus-a-copy\n",
      "  df_clean['Building_Painted'] = df_clean.Building_Painted.factorize()[0]\n",
      "<ipython-input-35-e53570e3d6cc>:3: SettingWithCopyWarning: \n",
      "A value is trying to be set on a copy of a slice from a DataFrame.\n",
      "Try using .loc[row_indexer,col_indexer] = value instead\n",
      "\n",
      "See the caveats in the documentation: https://pandas.pydata.org/pandas-docs/stable/user_guide/indexing.html#returning-a-view-versus-a-copy\n",
      "  df_clean['Building_Fenced'] = df_clean.Building_Fenced.factorize()[0]\n",
      "<ipython-input-35-e53570e3d6cc>:4: SettingWithCopyWarning: \n",
      "A value is trying to be set on a copy of a slice from a DataFrame.\n",
      "Try using .loc[row_indexer,col_indexer] = value instead\n",
      "\n",
      "See the caveats in the documentation: https://pandas.pydata.org/pandas-docs/stable/user_guide/indexing.html#returning-a-view-versus-a-copy\n",
      "  df_clean['Garden'] = df_clean.Garden.factorize()[0]\n",
      "<ipython-input-35-e53570e3d6cc>:5: SettingWithCopyWarning: \n",
      "A value is trying to be set on a copy of a slice from a DataFrame.\n",
      "Try using .loc[row_indexer,col_indexer] = value instead\n",
      "\n",
      "See the caveats in the documentation: https://pandas.pydata.org/pandas-docs/stable/user_guide/indexing.html#returning-a-view-versus-a-copy\n",
      "  df_clean['Settlement'] = df_clean.Settlement.factorize()[0]\n"
     ]
    }
   ],
   "source": [
    "# Before going ahead, split data into 90% train and 10% test.\n",
    "df_clean['Building_Painted'] = df_clean.Building_Painted.factorize()[0]\n",
    "df_clean['Building_Fenced'] = df_clean.Building_Fenced.factorize()[0]\n",
    "df_clean['Garden'] = df_clean.Garden.factorize()[0]\n",
    "df_clean['Settlement'] = df_clean.Settlement.factorize()[0]"
   ]
  },
  {
   "cell_type": "code",
   "execution_count": 36,
   "metadata": {},
   "outputs": [],
   "source": [
    "split = StratifiedShuffleSplit(n_splits=1, test_size=0.1, random_state=42)"
   ]
  },
  {
   "cell_type": "code",
   "execution_count": 37,
   "metadata": {},
   "outputs": [],
   "source": [
    "# for train_index, test_index in split.split(df_clean, df_clean['Claim']):\n",
    "    # train = df_clean.loc[train_index]\n",
    "    # test = df_clean.loc[test_index]"
   ]
  },
  {
   "cell_type": "code",
   "execution_count": 38,
   "metadata": {
    "scrolled": true
   },
   "outputs": [
    {
     "name": "stderr",
     "output_type": "stream",
     "text": [
      "C:\\Users\\Administrator\\anaconda3\\lib\\site-packages\\seaborn\\categorical.py:3666: UserWarning: The `factorplot` function has been renamed to `catplot`. The original name will be removed in a future release. Please update your code. Note that the default `kind` in `factorplot` (`'point'`) has changed `'strip'` in `catplot`.\n",
      "  warnings.warn(msg)\n"
     ]
    },
    {
     "data": {
      "text/plain": [
       "<seaborn.axisgrid.FacetGrid at 0x285da7b5880>"
      ]
     },
     "execution_count": 38,
     "metadata": {},
     "output_type": "execute_result"
    },
    {
     "data": {
      "image/png": "[encoded data removed]",
      "text/plain": [
       "<Figure size 360x360 with 1 Axes>"
      ]
     },
     "metadata": {
      "needs_background": "light"
     },
     "output_type": "display_data"
    }
   ],
   "source": [
    "# Bivariate Analysis between Categorial and Continous using Factorplot\n",
    "sns.factorplot(x='Building_Fenced', y='Building_Dimension', kind='bar', data=df_clean)"
   ]
  },
  {
   "cell_type": "code",
   "execution_count": 39,
   "metadata": {},
   "outputs": [
    {
     "data": {
      "text/plain": [
       "<seaborn.axisgrid.FacetGrid at 0x285da8c37c0>"
      ]
     },
     "execution_count": 39,
     "metadata": {},
     "output_type": "execute_result"
    },
    {
     "data": {
      "image/png": "[encoded data removed]",
      "text/plain": [
       "<Figure size 360x360 with 1 Axes>"
      ]
     },
     "metadata": {
      "needs_background": "light"
     },
     "output_type": "display_data"
    }
   ],
   "source": [
    "sns.factorplot(x='Claim', y='Building_Dimension', kind='bar', data=df_clean)"
   ]
  },
  {
   "cell_type": "code",
   "execution_count": 40,
   "metadata": {},
   "outputs": [
    {
     "data": {
      "text/plain": [
       "<seaborn.axisgrid.FacetGrid at 0x285da93d070>"
      ]
     },
     "execution_count": 40,
     "metadata": {},
     "output_type": "execute_result"
    },
    {
     "data": {
      "image/png": "[encoded data removed]",
      "text/plain": [
       "<Figure size 360x360 with 1 Axes>"
      ]
     },
     "metadata": {
      "needs_background": "light"
     },
     "output_type": "display_data"
    }
   ],
   "source": [
    "sns.factorplot(x='Claim', y='Date_of_Occupancy', kind='bar', data=df_clean)"
   ]
  },
  {
   "cell_type": "code",
   "execution_count": 41,
   "metadata": {},
   "outputs": [
    {
     "data": {
      "text/plain": [
       "<seaborn.axisgrid.FacetGrid at 0x285da9cec40>"
      ]
     },
     "execution_count": 41,
     "metadata": {},
     "output_type": "execute_result"
    },
    {
     "data": {
      "image/png": "[encoded data removed]",
      "text/plain": [
       "<Figure size 360x360 with 1 Axes>"
      ]
     },
     "metadata": {
      "needs_background": "light"
     },
     "output_type": "display_data"
    }
   ],
   "source": [
    "sns.factorplot(x='Claim', y='Insured_Period', kind='bar', data=df_clean)"
   ]
  },
  {
   "cell_type": "code",
   "execution_count": 42,
   "metadata": {},
   "outputs": [
    {
     "data": {
      "text/plain": [
       "<seaborn.axisgrid.FacetGrid at 0x285da8d2910>"
      ]
     },
     "execution_count": 42,
     "metadata": {},
     "output_type": "execute_result"
    },
    {
     "data": {
      "image/png": "[encoded data removed]",
      "text/plain": [
       "<Figure size 360x360 with 1 Axes>"
      ]
     },
     "metadata": {
      "needs_background": "light"
     },
     "output_type": "display_data"
    }
   ],
   "source": [
    "sns.factorplot(x='Settlement', y='Building_Dimension', kind='bar', data=df_clean)"
   ]
  },
  {
   "cell_type": "code",
   "execution_count": 43,
   "metadata": {},
   "outputs": [
    {
     "data": {
      "text/html": [
       "<div>\n",
       "<style scoped>\n",
       "    .dataframe tbody tr th:only-of-type {\n",
       "        vertical-align: middle;\n",
       "    }\n",
       "\n",
       "    .dataframe tbody tr th {\n",
       "        vertical-align: top;\n",
       "    }\n",
       "\n",
       "    .dataframe thead th {\n",
       "        text-align: right;\n",
       "    }\n",
       "</style>\n",
       "<table border=\"1\" class=\"dataframe\">\n",
       "  <thead>\n",
       "    <tr style=\"text-align: right;\">\n",
       "      <th></th>\n",
       "      <th>YearOfObservation</th>\n",
       "      <th>Insured_Period</th>\n",
       "      <th>Residential</th>\n",
       "      <th>Building_Painted</th>\n",
       "      <th>Building_Fenced</th>\n",
       "      <th>Garden</th>\n",
       "      <th>Settlement</th>\n",
       "      <th>Building_Type</th>\n",
       "      <th>Date_of_Occupancy</th>\n",
       "      <th>Claim</th>\n",
       "      <th>Building_Dimension</th>\n",
       "    </tr>\n",
       "  </thead>\n",
       "  <tbody>\n",
       "    <tr>\n",
       "      <th>YearOfObservation</th>\n",
       "      <td>1.000000</td>\n",
       "      <td>-0.016097</td>\n",
       "      <td>-0.038979</td>\n",
       "      <td>0.060451</td>\n",
       "      <td>0.117359</td>\n",
       "      <td>0.117222</td>\n",
       "      <td>0.117084</td>\n",
       "      <td>0.006034</td>\n",
       "      <td>-0.028625</td>\n",
       "      <td>-0.015073</td>\n",
       "      <td>0.009140</td>\n",
       "    </tr>\n",
       "    <tr>\n",
       "      <th>Insured_Period</th>\n",
       "      <td>-0.016097</td>\n",
       "      <td>1.000000</td>\n",
       "      <td>-0.038930</td>\n",
       "      <td>-0.034335</td>\n",
       "      <td>0.041469</td>\n",
       "      <td>0.041588</td>\n",
       "      <td>0.040853</td>\n",
       "      <td>-0.019766</td>\n",
       "      <td>-0.009601</td>\n",
       "      <td>0.088390</td>\n",
       "      <td>0.004167</td>\n",
       "    </tr>\n",
       "    <tr>\n",
       "      <th>Residential</th>\n",
       "      <td>-0.038979</td>\n",
       "      <td>-0.038930</td>\n",
       "      <td>1.000000</td>\n",
       "      <td>-0.033945</td>\n",
       "      <td>0.085648</td>\n",
       "      <td>0.085460</td>\n",
       "      <td>0.085889</td>\n",
       "      <td>0.334110</td>\n",
       "      <td>-0.034339</td>\n",
       "      <td>0.063926</td>\n",
       "      <td>0.057014</td>\n",
       "    </tr>\n",
       "    <tr>\n",
       "      <th>Building_Painted</th>\n",
       "      <td>0.060451</td>\n",
       "      <td>-0.034335</td>\n",
       "      <td>-0.033945</td>\n",
       "      <td>1.000000</td>\n",
       "      <td>0.588678</td>\n",
       "      <td>0.588847</td>\n",
       "      <td>0.589015</td>\n",
       "      <td>-0.046312</td>\n",
       "      <td>-0.095846</td>\n",
       "      <td>0.030898</td>\n",
       "      <td>0.092098</td>\n",
       "    </tr>\n",
       "    <tr>\n",
       "      <th>Building_Fenced</th>\n",
       "      <td>0.117359</td>\n",
       "      <td>0.041469</td>\n",
       "      <td>0.085648</td>\n",
       "      <td>0.588678</td>\n",
       "      <td>1.000000</td>\n",
       "      <td>0.999716</td>\n",
       "      <td>0.999433</td>\n",
       "      <td>0.017957</td>\n",
       "      <td>-0.180575</td>\n",
       "      <td>0.050813</td>\n",
       "      <td>0.132077</td>\n",
       "    </tr>\n",
       "    <tr>\n",
       "      <th>Garden</th>\n",
       "      <td>0.117222</td>\n",
       "      <td>0.041588</td>\n",
       "      <td>0.085460</td>\n",
       "      <td>0.588847</td>\n",
       "      <td>0.999716</td>\n",
       "      <td>1.000000</td>\n",
       "      <td>0.999716</td>\n",
       "      <td>0.017900</td>\n",
       "      <td>-0.180492</td>\n",
       "      <td>0.051334</td>\n",
       "      <td>0.132030</td>\n",
       "    </tr>\n",
       "    <tr>\n",
       "      <th>Settlement</th>\n",
       "      <td>0.117084</td>\n",
       "      <td>0.040853</td>\n",
       "      <td>0.085889</td>\n",
       "      <td>0.589015</td>\n",
       "      <td>0.999433</td>\n",
       "      <td>0.999716</td>\n",
       "      <td>1.000000</td>\n",
       "      <td>0.017843</td>\n",
       "      <td>-0.180451</td>\n",
       "      <td>0.051180</td>\n",
       "      <td>0.131931</td>\n",
       "    </tr>\n",
       "    <tr>\n",
       "      <th>Building_Type</th>\n",
       "      <td>0.006034</td>\n",
       "      <td>-0.019766</td>\n",
       "      <td>0.334110</td>\n",
       "      <td>-0.046312</td>\n",
       "      <td>0.017957</td>\n",
       "      <td>0.017900</td>\n",
       "      <td>0.017843</td>\n",
       "      <td>1.000000</td>\n",
       "      <td>-0.139681</td>\n",
       "      <td>0.111817</td>\n",
       "      <td>0.007970</td>\n",
       "    </tr>\n",
       "    <tr>\n",
       "      <th>Date_of_Occupancy</th>\n",
       "      <td>-0.028625</td>\n",
       "      <td>-0.009601</td>\n",
       "      <td>-0.034339</td>\n",
       "      <td>-0.095846</td>\n",
       "      <td>-0.180575</td>\n",
       "      <td>-0.180492</td>\n",
       "      <td>-0.180451</td>\n",
       "      <td>-0.139681</td>\n",
       "      <td>1.000000</td>\n",
       "      <td>0.017192</td>\n",
       "      <td>0.199083</td>\n",
       "    </tr>\n",
       "    <tr>\n",
       "      <th>Claim</th>\n",
       "      <td>-0.015073</td>\n",
       "      <td>0.088390</td>\n",
       "      <td>0.063926</td>\n",
       "      <td>0.030898</td>\n",
       "      <td>0.050813</td>\n",
       "      <td>0.051334</td>\n",
       "      <td>0.051180</td>\n",
       "      <td>0.111817</td>\n",
       "      <td>0.017192</td>\n",
       "      <td>1.000000</td>\n",
       "      <td>0.296741</td>\n",
       "    </tr>\n",
       "    <tr>\n",
       "      <th>Building_Dimension</th>\n",
       "      <td>0.009140</td>\n",
       "      <td>0.004167</td>\n",
       "      <td>0.057014</td>\n",
       "      <td>0.092098</td>\n",
       "      <td>0.132077</td>\n",
       "      <td>0.132030</td>\n",
       "      <td>0.131931</td>\n",
       "      <td>0.007970</td>\n",
       "      <td>0.199083</td>\n",
       "      <td>0.296741</td>\n",
       "      <td>1.000000</td>\n",
       "    </tr>\n",
       "  </tbody>\n",
       "</table>\n",
       "</div>"
      ],
      "text/plain": [
       "                    YearOfObservation  Insured_Period  Residential  \\\n",
       "YearOfObservation            1.000000       -0.016097    -0.038979   \n",
       "Insured_Period              -0.016097        1.000000    -0.038930   \n",
       "Residential                 -0.038979       -0.038930     1.000000   \n",
       "Building_Painted             0.060451       -0.034335    -0.033945   \n",
       "Building_Fenced              0.117359        0.041469     0.085648   \n",
       "Garden                       0.117222        0.041588     0.085460   \n",
       "Settlement                   0.117084        0.040853     0.085889   \n",
       "Building_Type                0.006034       -0.019766     0.334110   \n",
       "Date_of_Occupancy           -0.028625       -0.009601    -0.034339   \n",
       "Claim                       -0.015073        0.088390     0.063926   \n",
       "Building_Dimension           0.009140        0.004167     0.057014   \n",
       "\n",
       "                    Building_Painted  Building_Fenced    Garden  Settlement  \\\n",
       "YearOfObservation           0.060451         0.117359  0.117222    0.117084   \n",
       "Insured_Period             -0.034335         0.041469  0.041588    0.040853   \n",
       "Residential                -0.033945         0.085648  0.085460    0.085889   \n",
       "Building_Painted            1.000000         0.588678  0.588847    0.589015   \n",
       "Building_Fenced             0.588678         1.000000  0.999716    0.999433   \n",
       "Garden                      0.588847         0.999716  1.000000    0.999716   \n",
       "Settlement                  0.589015         0.999433  0.999716    1.000000   \n",
       "Building_Type              -0.046312         0.017957  0.017900    0.017843   \n",
       "Date_of_Occupancy          -0.095846        -0.180575 -0.180492   -0.180451   \n",
       "Claim                       0.030898         0.050813  0.051334    0.051180   \n",
       "Building_Dimension          0.092098         0.132077  0.132030    0.131931   \n",
       "\n",
       "                    Building_Type  Date_of_Occupancy     Claim  \\\n",
       "YearOfObservation        0.006034          -0.028625 -0.015073   \n",
       "Insured_Period          -0.019766          -0.009601  0.088390   \n",
       "Residential              0.334110          -0.034339  0.063926   \n",
       "Building_Painted        -0.046312          -0.095846  0.030898   \n",
       "Building_Fenced          0.017957          -0.180575  0.050813   \n",
       "Garden                   0.017900          -0.180492  0.051334   \n",
       "Settlement               0.017843          -0.180451  0.051180   \n",
       "Building_Type            1.000000          -0.139681  0.111817   \n",
       "Date_of_Occupancy       -0.139681           1.000000  0.017192   \n",
       "Claim                    0.111817           0.017192  1.000000   \n",
       "Building_Dimension       0.007970           0.199083  0.296741   \n",
       "\n",
       "                    Building_Dimension  \n",
       "YearOfObservation             0.009140  \n",
       "Insured_Period                0.004167  \n",
       "Residential                   0.057014  \n",
       "Building_Painted              0.092098  \n",
       "Building_Fenced               0.132077  \n",
       "Garden                        0.132030  \n",
       "Settlement                    0.131931  \n",
       "Building_Type                 0.007970  \n",
       "Date_of_Occupancy             0.199083  \n",
       "Claim                         0.296741  \n",
       "Building_Dimension            1.000000  "
      ]
     },
     "execution_count": 43,
     "metadata": {},
     "output_type": "execute_result"
    }
   ],
   "source": [
    "# Check correlation. Settlement, Building_Fenced, and Garden are highly correlated\n",
    "df_clean.corr()"
   ]
  },
  {
   "cell_type": "code",
   "execution_count": 44,
   "metadata": {},
   "outputs": [
    {
     "data": {
      "text/plain": [
       "Claim  Settlement\n",
       "0      0             2735\n",
       "       1             2703\n",
       "1      1              900\n",
       "       0              713\n",
       "Name: Settlement, dtype: int64"
      ]
     },
     "execution_count": 44,
     "metadata": {},
     "output_type": "execute_result"
    }
   ],
   "source": [
    "# Categorical and Categorical variables. Groupby Claim and describe\n",
    "df_clean.groupby('Claim')['Settlement'].value_counts()"
   ]
  },
  {
   "cell_type": "code",
   "execution_count": 45,
   "metadata": {},
   "outputs": [
    {
     "data": {
      "text/plain": [
       "Claim  Garden\n",
       "0      0         2736\n",
       "       1         2702\n",
       "1      1          900\n",
       "       0          713\n",
       "Name: Garden, dtype: int64"
      ]
     },
     "execution_count": 45,
     "metadata": {},
     "output_type": "execute_result"
    }
   ],
   "source": [
    "df_clean.groupby('Claim')['Garden'].value_counts()"
   ]
  },
  {
   "cell_type": "code",
   "execution_count": 46,
   "metadata": {},
   "outputs": [
    {
     "data": {
      "text/plain": [
       "Building_Type  Claim\n",
       "1              0        1381\n",
       "               1         300\n",
       "2              0        2551\n",
       "               1         701\n",
       "3              0         908\n",
       "               1         305\n",
       "4              0         598\n",
       "               1         307\n",
       "Name: Claim, dtype: int64"
      ]
     },
     "execution_count": 46,
     "metadata": {},
     "output_type": "execute_result"
    }
   ],
   "source": [
    "df_clean.groupby('Building_Type')['Claim'].value_counts()"
   ]
  },
  {
   "cell_type": "code",
   "execution_count": 47,
   "metadata": {},
   "outputs": [
    {
     "data": {
      "text/html": [
       "<div>\n",
       "<style scoped>\n",
       "    .dataframe tbody tr th:only-of-type {\n",
       "        vertical-align: middle;\n",
       "    }\n",
       "\n",
       "    .dataframe tbody tr th {\n",
       "        vertical-align: top;\n",
       "    }\n",
       "\n",
       "    .dataframe thead th {\n",
       "        text-align: right;\n",
       "    }\n",
       "</style>\n",
       "<table border=\"1\" class=\"dataframe\">\n",
       "  <thead>\n",
       "    <tr style=\"text-align: right;\">\n",
       "      <th></th>\n",
       "      <th>YearOfObservation</th>\n",
       "      <th>Insured_Period</th>\n",
       "      <th>Residential</th>\n",
       "      <th>Building_Painted</th>\n",
       "      <th>Building_Fenced</th>\n",
       "      <th>Garden</th>\n",
       "      <th>Settlement</th>\n",
       "      <th>Building_Type</th>\n",
       "      <th>Date_of_Occupancy</th>\n",
       "      <th>Claim</th>\n",
       "      <th>Building_Dimension</th>\n",
       "    </tr>\n",
       "  </thead>\n",
       "  <tbody>\n",
       "    <tr>\n",
       "      <th>YearOfObservation</th>\n",
       "      <td>1.000000</td>\n",
       "      <td>-0.016097</td>\n",
       "      <td>-0.038979</td>\n",
       "      <td>0.060451</td>\n",
       "      <td>0.117359</td>\n",
       "      <td>0.117222</td>\n",
       "      <td>0.117084</td>\n",
       "      <td>0.006034</td>\n",
       "      <td>-0.028625</td>\n",
       "      <td>-0.015073</td>\n",
       "      <td>0.009140</td>\n",
       "    </tr>\n",
       "    <tr>\n",
       "      <th>Insured_Period</th>\n",
       "      <td>-0.016097</td>\n",
       "      <td>1.000000</td>\n",
       "      <td>-0.038930</td>\n",
       "      <td>-0.034335</td>\n",
       "      <td>0.041469</td>\n",
       "      <td>0.041588</td>\n",
       "      <td>0.040853</td>\n",
       "      <td>-0.019766</td>\n",
       "      <td>-0.009601</td>\n",
       "      <td>0.088390</td>\n",
       "      <td>0.004167</td>\n",
       "    </tr>\n",
       "    <tr>\n",
       "      <th>Residential</th>\n",
       "      <td>-0.038979</td>\n",
       "      <td>-0.038930</td>\n",
       "      <td>1.000000</td>\n",
       "      <td>-0.033945</td>\n",
       "      <td>0.085648</td>\n",
       "      <td>0.085460</td>\n",
       "      <td>0.085889</td>\n",
       "      <td>0.334110</td>\n",
       "      <td>-0.034339</td>\n",
       "      <td>0.063926</td>\n",
       "      <td>0.057014</td>\n",
       "    </tr>\n",
       "    <tr>\n",
       "      <th>Building_Painted</th>\n",
       "      <td>0.060451</td>\n",
       "      <td>-0.034335</td>\n",
       "      <td>-0.033945</td>\n",
       "      <td>1.000000</td>\n",
       "      <td>0.588678</td>\n",
       "      <td>0.588847</td>\n",
       "      <td>0.589015</td>\n",
       "      <td>-0.046312</td>\n",
       "      <td>-0.095846</td>\n",
       "      <td>0.030898</td>\n",
       "      <td>0.092098</td>\n",
       "    </tr>\n",
       "    <tr>\n",
       "      <th>Building_Fenced</th>\n",
       "      <td>0.117359</td>\n",
       "      <td>0.041469</td>\n",
       "      <td>0.085648</td>\n",
       "      <td>0.588678</td>\n",
       "      <td>1.000000</td>\n",
       "      <td>0.999716</td>\n",
       "      <td>0.999433</td>\n",
       "      <td>0.017957</td>\n",
       "      <td>-0.180575</td>\n",
       "      <td>0.050813</td>\n",
       "      <td>0.132077</td>\n",
       "    </tr>\n",
       "    <tr>\n",
       "      <th>Garden</th>\n",
       "      <td>0.117222</td>\n",
       "      <td>0.041588</td>\n",
       "      <td>0.085460</td>\n",
       "      <td>0.588847</td>\n",
       "      <td>0.999716</td>\n",
       "      <td>1.000000</td>\n",
       "      <td>0.999716</td>\n",
       "      <td>0.017900</td>\n",
       "      <td>-0.180492</td>\n",
       "      <td>0.051334</td>\n",
       "      <td>0.132030</td>\n",
       "    </tr>\n",
       "    <tr>\n",
       "      <th>Settlement</th>\n",
       "      <td>0.117084</td>\n",
       "      <td>0.040853</td>\n",
       "      <td>0.085889</td>\n",
       "      <td>0.589015</td>\n",
       "      <td>0.999433</td>\n",
       "      <td>0.999716</td>\n",
       "      <td>1.000000</td>\n",
       "      <td>0.017843</td>\n",
       "      <td>-0.180451</td>\n",
       "      <td>0.051180</td>\n",
       "      <td>0.131931</td>\n",
       "    </tr>\n",
       "    <tr>\n",
       "      <th>Building_Type</th>\n",
       "      <td>0.006034</td>\n",
       "      <td>-0.019766</td>\n",
       "      <td>0.334110</td>\n",
       "      <td>-0.046312</td>\n",
       "      <td>0.017957</td>\n",
       "      <td>0.017900</td>\n",
       "      <td>0.017843</td>\n",
       "      <td>1.000000</td>\n",
       "      <td>-0.139681</td>\n",
       "      <td>0.111817</td>\n",
       "      <td>0.007970</td>\n",
       "    </tr>\n",
       "    <tr>\n",
       "      <th>Date_of_Occupancy</th>\n",
       "      <td>-0.028625</td>\n",
       "      <td>-0.009601</td>\n",
       "      <td>-0.034339</td>\n",
       "      <td>-0.095846</td>\n",
       "      <td>-0.180575</td>\n",
       "      <td>-0.180492</td>\n",
       "      <td>-0.180451</td>\n",
       "      <td>-0.139681</td>\n",
       "      <td>1.000000</td>\n",
       "      <td>0.017192</td>\n",
       "      <td>0.199083</td>\n",
       "    </tr>\n",
       "    <tr>\n",
       "      <th>Claim</th>\n",
       "      <td>-0.015073</td>\n",
       "      <td>0.088390</td>\n",
       "      <td>0.063926</td>\n",
       "      <td>0.030898</td>\n",
       "      <td>0.050813</td>\n",
       "      <td>0.051334</td>\n",
       "      <td>0.051180</td>\n",
       "      <td>0.111817</td>\n",
       "      <td>0.017192</td>\n",
       "      <td>1.000000</td>\n",
       "      <td>0.296741</td>\n",
       "    </tr>\n",
       "    <tr>\n",
       "      <th>Building_Dimension</th>\n",
       "      <td>0.009140</td>\n",
       "      <td>0.004167</td>\n",
       "      <td>0.057014</td>\n",
       "      <td>0.092098</td>\n",
       "      <td>0.132077</td>\n",
       "      <td>0.132030</td>\n",
       "      <td>0.131931</td>\n",
       "      <td>0.007970</td>\n",
       "      <td>0.199083</td>\n",
       "      <td>0.296741</td>\n",
       "      <td>1.000000</td>\n",
       "    </tr>\n",
       "  </tbody>\n",
       "</table>\n",
       "</div>"
      ],
      "text/plain": [
       "                    YearOfObservation  Insured_Period  Residential  \\\n",
       "YearOfObservation            1.000000       -0.016097    -0.038979   \n",
       "Insured_Period              -0.016097        1.000000    -0.038930   \n",
       "Residential                 -0.038979       -0.038930     1.000000   \n",
       "Building_Painted             0.060451       -0.034335    -0.033945   \n",
       "Building_Fenced              0.117359        0.041469     0.085648   \n",
       "Garden                       0.117222        0.041588     0.085460   \n",
       "Settlement                   0.117084        0.040853     0.085889   \n",
       "Building_Type                0.006034       -0.019766     0.334110   \n",
       "Date_of_Occupancy           -0.028625       -0.009601    -0.034339   \n",
       "Claim                       -0.015073        0.088390     0.063926   \n",
       "Building_Dimension           0.009140        0.004167     0.057014   \n",
       "\n",
       "                    Building_Painted  Building_Fenced    Garden  Settlement  \\\n",
       "YearOfObservation           0.060451         0.117359  0.117222    0.117084   \n",
       "Insured_Period             -0.034335         0.041469  0.041588    0.040853   \n",
       "Residential                -0.033945         0.085648  0.085460    0.085889   \n",
       "Building_Painted            1.000000         0.588678  0.588847    0.589015   \n",
       "Building_Fenced             0.588678         1.000000  0.999716    0.999433   \n",
       "Garden                      0.588847         0.999716  1.000000    0.999716   \n",
       "Settlement                  0.589015         0.999433  0.999716    1.000000   \n",
       "Building_Type              -0.046312         0.017957  0.017900    0.017843   \n",
       "Date_of_Occupancy          -0.095846        -0.180575 -0.180492   -0.180451   \n",
       "Claim                       0.030898         0.050813  0.051334    0.051180   \n",
       "Building_Dimension          0.092098         0.132077  0.132030    0.131931   \n",
       "\n",
       "                    Building_Type  Date_of_Occupancy     Claim  \\\n",
       "YearOfObservation        0.006034          -0.028625 -0.015073   \n",
       "Insured_Period          -0.019766          -0.009601  0.088390   \n",
       "Residential              0.334110          -0.034339  0.063926   \n",
       "Building_Painted        -0.046312          -0.095846  0.030898   \n",
       "Building_Fenced          0.017957          -0.180575  0.050813   \n",
       "Garden                   0.017900          -0.180492  0.051334   \n",
       "Settlement               0.017843          -0.180451  0.051180   \n",
       "Building_Type            1.000000          -0.139681  0.111817   \n",
       "Date_of_Occupancy       -0.139681           1.000000  0.017192   \n",
       "Claim                    0.111817           0.017192  1.000000   \n",
       "Building_Dimension       0.007970           0.199083  0.296741   \n",
       "\n",
       "                    Building_Dimension  \n",
       "YearOfObservation             0.009140  \n",
       "Insured_Period                0.004167  \n",
       "Residential                   0.057014  \n",
       "Building_Painted              0.092098  \n",
       "Building_Fenced               0.132077  \n",
       "Garden                        0.132030  \n",
       "Settlement                    0.131931  \n",
       "Building_Type                 0.007970  \n",
       "Date_of_Occupancy             0.199083  \n",
       "Claim                         0.296741  \n",
       "Building_Dimension            1.000000  "
      ]
     },
     "execution_count": 47,
     "metadata": {},
     "output_type": "execute_result"
    }
   ],
   "source": [
    "df_clean.corr()"
   ]
  },
  {
   "cell_type": "code",
   "execution_count": 48,
   "metadata": {},
   "outputs": [],
   "source": [
    "# Now we can move to inferential statistics\n",
    "\n",
    "# Hypothesis Testing:\n",
    "#1. Define null hypothesis and alternate hypothesis\n",
    "#2. Choose sample\n",
    "#3. Analyze evidence\n",
    "#4. Interpret results\n",
    "\n",
    "#Typical H0: there is no relationship between the explanatory and response\n",
    "#Typical H1: there is a statistically significant relationship\n",
    "\n",
    "#Bivariate statistical tools:\n",
    "#ANOVA; chi-square; correlation coefficient\n"
   ]
  },
  {
   "cell_type": "code",
   "execution_count": 49,
   "metadata": {},
   "outputs": [],
   "source": [
    "# Statistical tools we will use\n",
    "# Explanatory categorical and response quantitative: ANOVA\n",
    "# Explanatory categorical and response categorical: Chi Square test\n",
    "# Explanatory quantitative and response categorical: classify/bin explanatory\n",
    "# Explanatory quantitative and response quantitative: pearson correlation"
   ]
  },
  {
   "cell_type": "code",
   "execution_count": 50,
   "metadata": {},
   "outputs": [],
   "source": [
    "# First Hypothesis\n",
    "# null hypothesis: there is no relationship btw claim and the predictors\n",
    "# alternative hypothesis: there is at least one predictor that is related to claim"
   ]
  },
  {
   "cell_type": "code",
   "execution_count": 51,
   "metadata": {},
   "outputs": [
    {
     "name": "stdout",
     "output_type": "stream",
     "text": [
      "Building_Type     1     2    3    4\n",
      "Claim                              \n",
      "0              1381  2551  908  598\n",
      "1               300   701  305  307\n"
     ]
    }
   ],
   "source": [
    "# Using a contingency table for building_type and claim (observed counts)\n",
    "# the crosstab function allows us to cross one variable with another\n",
    "# when creating contingency tables, we put the response variable first(vertical), and the explanatory variable second(horizontal)\n",
    "\n",
    "ct1 = pd.crosstab(df_clean['Claim'], df_clean['Building_Type'])\n",
    "print(ct1)"
   ]
  },
  {
   "cell_type": "code",
   "execution_count": 52,
   "metadata": {},
   "outputs": [
    {
     "name": "stdout",
     "output_type": "stream",
     "text": [
      "Building_Type         1        2         3         4\n",
      "Claim                                               \n",
      "0              0.821535  0.78444  0.748557  0.660773\n",
      "1              0.178465  0.21556  0.251443  0.339227\n"
     ]
    }
   ],
   "source": [
    "# Column percentages\n",
    "colsum = ct1.sum(axis=0)\n",
    "colpct = ct1/colsum\n",
    "print(colpct)"
   ]
  },
  {
   "cell_type": "code",
   "execution_count": 53,
   "metadata": {},
   "outputs": [
    {
     "name": "stdout",
     "output_type": "stream",
     "text": [
      "chi-square value, p value, expected counts\n",
      "(93.44525781792424, 3.984868173103473e-20, 3, array([[1296.45128351, 2508.06637356,  935.51184229,  697.97050064],\n",
      "       [ 384.54871649,  743.93362644,  277.48815771,  207.02949936]]))\n"
     ]
    }
   ],
   "source": [
    "# chi-square test\n",
    "print('chi-square value, p value, expected counts')\n",
    "csi = scipy.stats.chi2_contingency(ct1)\n",
    "print(csi)\n",
    "\n",
    "# Building_Type is significant "
   ]
  },
  {
   "cell_type": "code",
   "execution_count": 54,
   "metadata": {},
   "outputs": [
    {
     "name": "stdout",
     "output_type": "stream",
     "text": [
      "Settlement     0     1\n",
      "Claim                 \n",
      "0           2735  2703\n",
      "1            713   900\n"
     ]
    }
   ],
   "source": [
    "# Check if Claim is independent of Settlement or not\n",
    "\n",
    "ct2 = pd.crosstab(df_clean['Claim'], df_clean['Settlement'])\n",
    "print(ct2)"
   ]
  },
  {
   "cell_type": "code",
   "execution_count": 55,
   "metadata": {},
   "outputs": [
    {
     "name": "stdout",
     "output_type": "stream",
     "text": [
      "Settlement         0         1\n",
      "Claim                         \n",
      "0           0.793213  0.750208\n",
      "1           0.206787  0.249792\n"
     ]
    }
   ],
   "source": [
    "colsum2 = ct2.sum(axis=0)\n",
    "colpct2 = ct2/colsum2\n",
    "print(colpct2)"
   ]
  },
  {
   "cell_type": "code",
   "execution_count": 56,
   "metadata": {},
   "outputs": [
    {
     "name": "stdout",
     "output_type": "stream",
     "text": [
      "chi-square value, p value, expected counts\n",
      "(18.226442104687504, 1.9613684669947748e-05, 1, array([[2659.22904553, 2778.77095447],\n",
      "       [ 788.77095447,  824.22904553]]))\n"
     ]
    }
   ],
   "source": [
    "# chi-square test\n",
    "print('chi-square value, p value, expected counts')\n",
    "cs2 = scipy.stats.chi2_contingency(ct2)\n",
    "print(cs2)"
   ]
  },
  {
   "cell_type": "code",
   "execution_count": 57,
   "metadata": {},
   "outputs": [
    {
     "name": "stdout",
     "output_type": "stream",
     "text": [
      "                            OLS Regression Results                            \n",
      "==============================================================================\n",
      "Dep. Variable:      Date_of_Occupancy   R-squared:                       0.000\n",
      "Model:                            OLS   Adj. R-squared:                  0.000\n",
      "Method:                 Least Squares   F-statistic:                     2.084\n",
      "Date:                Fri, 16 Oct 2020   Prob (F-statistic):              0.149\n",
      "Time:                        10:34:55   Log-Likelihood:                -34959.\n",
      "No. Observations:                7051   AIC:                         6.992e+04\n",
      "Df Residuals:                    7049   BIC:                         6.993e+04\n",
      "Df Model:                           1                                         \n",
      "Covariance Type:            nonrobust                                         \n",
      "=================================================================================\n",
      "                    coef    std err          t      P>|t|      [0.025      0.975]\n",
      "---------------------------------------------------------------------------------\n",
      "Intercept      1964.5309      0.467   4206.685      0.000    1963.615    1965.446\n",
      "C(Claim)[T.1]     1.4096      0.976      1.444      0.149      -0.504       3.324\n",
      "==============================================================================\n",
      "Omnibus:                     5330.246   Durbin-Watson:                   1.390\n",
      "Prob(Omnibus):                  0.000   Jarque-Bera (JB):           175522.801\n",
      "Skew:                          -3.303   Prob(JB):                         0.00\n",
      "Kurtosis:                      26.533   Cond. No.                         2.53\n",
      "==============================================================================\n",
      "\n",
      "Warnings:\n",
      "[1] Standard Errors assume that the covariance matrix of the errors is correctly specified.\n"
     ]
    }
   ],
   "source": [
    "# Checking an anova table for the relationship between Date of Occupancy and Insurance\n",
    "est = smf.ols('Date_of_Occupancy ~ C(Claim)', df_clean).fit()\n",
    "print(est.summary())\n",
    "\n",
    "# Apparently, date of occupancy is insignificant to predicting Insurance Claim"
   ]
  },
  {
   "cell_type": "code",
   "execution_count": 58,
   "metadata": {},
   "outputs": [
    {
     "name": "stdout",
     "output_type": "stream",
     "text": [
      "                            OLS Regression Results                            \n",
      "==============================================================================\n",
      "Dep. Variable:     Building_Dimension   R-squared:                       0.088\n",
      "Model:                            OLS   Adj. R-squared:                  0.088\n",
      "Method:                 Least Squares   F-statistic:                     680.6\n",
      "Date:                Fri, 16 Oct 2020   Prob (F-statistic):          2.59e-143\n",
      "Time:                        10:34:55   Log-Likelihood:                -64186.\n",
      "No. Observations:                7051   AIC:                         1.284e+05\n",
      "Df Residuals:                    7049   BIC:                         1.284e+05\n",
      "Df Model:                           1                                         \n",
      "Covariance Type:            nonrobust                                         \n",
      "=================================================================================\n",
      "                    coef    std err          t      P>|t|      [0.025      0.975]\n",
      "---------------------------------------------------------------------------------\n",
      "Intercept      1513.8970     29.481     51.351      0.000    1456.105    1571.689\n",
      "C(Claim)[T.1]  1608.0875     61.638     26.089      0.000    1487.257    1728.917\n",
      "==============================================================================\n",
      "Omnibus:                     4576.597   Durbin-Watson:                   1.526\n",
      "Prob(Omnibus):                  0.000   Jarque-Bera (JB):            61410.609\n",
      "Skew:                           2.961   Prob(JB):                         0.00\n",
      "Kurtosis:                      16.189   Cond. No.                         2.53\n",
      "==============================================================================\n",
      "\n",
      "Warnings:\n",
      "[1] Standard Errors assume that the covariance matrix of the errors is correctly specified.\n"
     ]
    }
   ],
   "source": [
    "# Checking an anova table for the relationship between Building_Dimension and Insurance\n",
    "est = smf.ols('Building_Dimension ~ C(Claim)', df_clean).fit()\n",
    "print(est.summary())\n",
    "\n",
    "# Apparently, Building Dimension is highly significant to predicting Insurance Claim"
   ]
  },
  {
   "cell_type": "code",
   "execution_count": 59,
   "metadata": {},
   "outputs": [
    {
     "name": "stderr",
     "output_type": "stream",
     "text": [
      "C:\\Users\\Administrator\\anaconda3\\lib\\site-packages\\seaborn\\regression.py:421: MatplotlibDeprecationWarning: Saw kwargs ['c', 'color'] which are all aliases for 'color'.  Kept value from 'color'.  Passing multiple aliases for the same property will raise a TypeError in 3.3.\n",
      "  line, = ax.plot(grid, yhat, **kws)\n"
     ]
    },
    {
     "data": {
      "text/plain": [
       "Text(0.5, 0.98, 'Relationship between Date of Occupancy and Building Dimension')"
      ]
     },
     "execution_count": 59,
     "metadata": {},
     "output_type": "execute_result"
    },
    {
     "data": {
      "image/png": "[encoded data removed]",
      "text/plain": [
       "<Figure size 432x288 with 1 Axes>"
      ]
     },
     "metadata": {
      "needs_background": "light"
     },
     "output_type": "display_data"
    }
   ],
   "source": [
    "# Regression Plot between Date of Occupancy and Building Dimension\n",
    "sns.regplot(x='Date_of_Occupancy', y='Building_Dimension', data=df_clean, ci=None, line_kws={'c':'r'})\n",
    "plt.xlabel('Date of Occupancy')\n",
    "plt.ylabel('Building Dimension')\n",
    "plt.suptitle('Relationship between Date of Occupancy and Building Dimension')"
   ]
  },
  {
   "cell_type": "code",
   "execution_count": 60,
   "metadata": {},
   "outputs": [
    {
     "name": "stdout",
     "output_type": "stream",
     "text": [
      "Association between Date of Occupancy and Building Dimension\n",
      "(0.1990831387167786, 5.9650115264274396e-64)\n"
     ]
    }
   ],
   "source": [
    "print('Association between Date of Occupancy and Building Dimension')\n",
    "print(scipy.stats.pearsonr(df_clean['Date_of_Occupancy'], df_clean['Building_Dimension']))"
   ]
  },
  {
   "cell_type": "code",
   "execution_count": 61,
   "metadata": {},
   "outputs": [],
   "source": [
    "geo_code = df_clean['Geo_Code']\n",
    "df_clean = df_clean.drop(columns='Geo_Code')"
   ]
  },
  {
   "cell_type": "code",
   "execution_count": 62,
   "metadata": {},
   "outputs": [],
   "source": [
    "# For features used in building linear models, make sure your categorical var begins with a class 0 \n",
    "# and your quantitative variables are centered.\n",
    "\n",
    "recode_building_type = {1:0, 2:1, 3:2, 4:3}\n",
    "df_clean['Building_Type_p'] = df_clean['Building_Type'].map(recode_building_type)"
   ]
  },
  {
   "cell_type": "code",
   "execution_count": 63,
   "metadata": {},
   "outputs": [],
   "source": [
    "# Centering quantitative variiables\n",
    "df_clean['YearOfObservation_c'] = df_clean['YearOfObservation'] - df_clean['YearOfObservation'].mean()\n",
    "df_clean['Insured_Period_c'] = df_clean['Insured_Period'] - df_clean['Insured_Period'].mean()\n",
    "df_clean['Date_of_Occupancy_c'] = df_clean['Date_of_Occupancy'] - df_clean['Date_of_Occupancy'].mean()\n",
    "df_clean['Building_Dimension_c'] = df_clean['Building_Dimension'] - df_clean['Building_Dimension'].mean()"
   ]
  },
  {
   "cell_type": "code",
   "execution_count": 64,
   "metadata": {},
   "outputs": [],
   "source": [
    "# Create a new dataframe with new features. You always wanna \n",
    "df_clean_c = df_clean[['Customer Id', 'YearOfObservation_c', 'Insured_Period_c', 'Residential', 'Building_Painted', \n",
    "                      'Building_Fenced', 'Garden', 'Settlement', 'Building_Type_p', 'Date_of_Occupancy_c', 'Building_Dimension_c', 'Claim']]"
   ]
  },
  {
   "cell_type": "code",
   "execution_count": 65,
   "metadata": {},
   "outputs": [
    {
     "data": {
      "text/html": [
       "<div>\n",
       "<style scoped>\n",
       "    .dataframe tbody tr th:only-of-type {\n",
       "        vertical-align: middle;\n",
       "    }\n",
       "\n",
       "    .dataframe tbody tr th {\n",
       "        vertical-align: top;\n",
       "    }\n",
       "\n",
       "    .dataframe thead th {\n",
       "        text-align: right;\n",
       "    }\n",
       "</style>\n",
       "<table border=\"1\" class=\"dataframe\">\n",
       "  <thead>\n",
       "    <tr style=\"text-align: right;\">\n",
       "      <th></th>\n",
       "      <th>Customer Id</th>\n",
       "      <th>YearOfObservation_c</th>\n",
       "      <th>Insured_Period_c</th>\n",
       "      <th>Residential</th>\n",
       "      <th>Building_Painted</th>\n",
       "      <th>Building_Fenced</th>\n",
       "      <th>Garden</th>\n",
       "      <th>Settlement</th>\n",
       "      <th>Building_Type_p</th>\n",
       "      <th>Date_of_Occupancy_c</th>\n",
       "      <th>Building_Dimension_c</th>\n",
       "      <th>Claim</th>\n",
       "    </tr>\n",
       "  </thead>\n",
       "  <tbody>\n",
       "    <tr>\n",
       "      <th>0</th>\n",
       "      <td>H14663</td>\n",
       "      <td>-0.676925</td>\n",
       "      <td>1.252163</td>\n",
       "      <td>0</td>\n",
       "      <td>0</td>\n",
       "      <td>0</td>\n",
       "      <td>0</td>\n",
       "      <td>0</td>\n",
       "      <td>0</td>\n",
       "      <td>-4.853354</td>\n",
       "      <td>-1591.766132</td>\n",
       "      <td>0</td>\n",
       "    </tr>\n",
       "    <tr>\n",
       "      <th>1</th>\n",
       "      <td>H2037</td>\n",
       "      <td>1.323075</td>\n",
       "      <td>1.252163</td>\n",
       "      <td>0</td>\n",
       "      <td>1</td>\n",
       "      <td>1</td>\n",
       "      <td>1</td>\n",
       "      <td>1</td>\n",
       "      <td>0</td>\n",
       "      <td>-114.853354</td>\n",
       "      <td>-1391.766132</td>\n",
       "      <td>0</td>\n",
       "    </tr>\n",
       "    <tr>\n",
       "      <th>2</th>\n",
       "      <td>H3802</td>\n",
       "      <td>0.323075</td>\n",
       "      <td>1.252163</td>\n",
       "      <td>0</td>\n",
       "      <td>0</td>\n",
       "      <td>0</td>\n",
       "      <td>0</td>\n",
       "      <td>0</td>\n",
       "      <td>0</td>\n",
       "      <td>-4.853354</td>\n",
       "      <td>-1286.766132</td>\n",
       "      <td>0</td>\n",
       "    </tr>\n",
       "    <tr>\n",
       "      <th>3</th>\n",
       "      <td>H3834</td>\n",
       "      <td>-0.676925</td>\n",
       "      <td>1.252163</td>\n",
       "      <td>0</td>\n",
       "      <td>1</td>\n",
       "      <td>0</td>\n",
       "      <td>0</td>\n",
       "      <td>0</td>\n",
       "      <td>0</td>\n",
       "      <td>-4.853354</td>\n",
       "      <td>958.233868</td>\n",
       "      <td>0</td>\n",
       "    </tr>\n",
       "    <tr>\n",
       "      <th>4</th>\n",
       "      <td>H5053</td>\n",
       "      <td>0.323075</td>\n",
       "      <td>1.252163</td>\n",
       "      <td>0</td>\n",
       "      <td>1</td>\n",
       "      <td>1</td>\n",
       "      <td>1</td>\n",
       "      <td>1</td>\n",
       "      <td>0</td>\n",
       "      <td>-164.853354</td>\n",
       "      <td>-1201.766132</td>\n",
       "      <td>0</td>\n",
       "    </tr>\n",
       "  </tbody>\n",
       "</table>\n",
       "</div>"
      ],
      "text/plain": [
       "  Customer Id  YearOfObservation_c  Insured_Period_c  Residential  \\\n",
       "0      H14663            -0.676925          1.252163            0   \n",
       "1       H2037             1.323075          1.252163            0   \n",
       "2       H3802             0.323075          1.252163            0   \n",
       "3       H3834            -0.676925          1.252163            0   \n",
       "4       H5053             0.323075          1.252163            0   \n",
       "\n",
       "   Building_Painted  Building_Fenced  Garden  Settlement  Building_Type_p  \\\n",
       "0                 0                0       0           0                0   \n",
       "1                 1                1       1           1                0   \n",
       "2                 0                0       0           0                0   \n",
       "3                 1                0       0           0                0   \n",
       "4                 1                1       1           1                0   \n",
       "\n",
       "   Date_of_Occupancy_c  Building_Dimension_c  Claim  \n",
       "0            -4.853354          -1591.766132      0  \n",
       "1          -114.853354          -1391.766132      0  \n",
       "2            -4.853354          -1286.766132      0  \n",
       "3            -4.853354            958.233868      0  \n",
       "4          -164.853354          -1201.766132      0  "
      ]
     },
     "execution_count": 65,
     "metadata": {},
     "output_type": "execute_result"
    }
   ],
   "source": [
    "df_clean_c.head()"
   ]
  },
  {
   "cell_type": "code",
   "execution_count": 66,
   "metadata": {},
   "outputs": [
    {
     "name": "stdout",
     "output_type": "stream",
     "text": [
      "                             OLS Regression Results                             \n",
      "================================================================================\n",
      "Dep. Variable:     Building_Dimension_c   R-squared:                       0.152\n",
      "Model:                              OLS   Adj. R-squared:                  0.150\n",
      "Method:                   Least Squares   F-statistic:                     104.9\n",
      "Date:                  Fri, 16 Oct 2020   Prob (F-statistic):          9.64e-241\n",
      "Time:                          10:34:55   Log-Likelihood:                -63931.\n",
      "No. Observations:                  7051   AIC:                         1.279e+05\n",
      "Df Residuals:                      7038   BIC:                         1.280e+05\n",
      "Df Model:                            12                                         \n",
      "Covariance Type:              nonrobust                                         \n",
      "============================================================================================\n",
      "                               coef    std err          t      P>|t|      [0.025      0.975]\n",
      "--------------------------------------------------------------------------------------------\n",
      "Intercept                 -797.0040     70.094    -11.371      0.000    -934.409    -659.599\n",
      "C(Residential)[T.1]        181.8920     58.842      3.091      0.002      66.545     297.239\n",
      "C(Building_Painted)[T.1]   106.0073     71.908      1.474      0.140     -34.955     246.969\n",
      "C(Building_Fenced)[T.1]   1994.6296   2099.432      0.950      0.342   -2120.889    6110.149\n",
      "C(Garden)[T.1]            -865.6788   2969.465     -0.292      0.771   -6686.724    4955.366\n",
      "C(Settlement)[T.1]        -476.5355   2100.601     -0.227      0.821   -4594.345    3641.274\n",
      "C(Building_Type_p)[T.1]    -20.1069     63.292     -0.318      0.751    -144.179     103.965\n",
      "C(Building_Type_p)[T.2]    -60.0209     82.479     -0.728      0.467    -221.704     101.662\n",
      "C(Building_Type_p)[T.3]    -39.6634     91.275     -0.435      0.664    -218.590     139.264\n",
      "C(Claim)[T.1]             1547.5455     60.320     25.656      0.000    1429.300    1665.791\n",
      "YearOfObservation_c          4.6167     18.194      0.254      0.800     -31.048      40.282\n",
      "Insured_Period_c           -17.3711      8.442     -2.058      0.040     -33.920      -0.823\n",
      "Date_of_Occupancy_c         14.6731      0.746     19.664      0.000      13.210      16.136\n",
      "==============================================================================\n",
      "Omnibus:                     4721.470   Durbin-Watson:                   1.567\n",
      "Prob(Omnibus):                  0.000   Jarque-Bera (JB):            71948.623\n",
      "Skew:                           3.041   Prob(JB):                         0.00\n",
      "Kurtosis:                      17.419   Cond. No.                     5.01e+03\n",
      "==============================================================================\n",
      "\n",
      "Warnings:\n",
      "[1] Standard Errors assume that the covariance matrix of the errors is correctly specified.\n",
      "[2] The condition number is large, 5.01e+03. This might indicate that there are\n",
      "strong multicollinearity or other numerical problems.\n"
     ]
    }
   ],
   "source": [
    "# Try predicting Building Dimension using the rest of the features\n",
    "model = smf.ols('Building_Dimension_c ~ YearOfObservation_c + Insured_Period_c + C(Residential) + C(Building_Painted) + C(Building_Fenced)' \n",
    "                '+ C(Garden) + C(Settlement) + C(Building_Type_p) + Date_of_Occupancy_c + C(Claim)', df_clean_c).fit()\n",
    "print(model.summary())"
   ]
  },
  {
   "cell_type": "code",
   "execution_count": 67,
   "metadata": {},
   "outputs": [
    {
     "data": {
      "image/png": "[encoded data removed]",
      "text/plain": [
       "<Figure size 432x288 with 1 Axes>"
      ]
     },
     "metadata": {
      "needs_background": "light"
     },
     "output_type": "display_data"
    }
   ],
   "source": [
    "# Check your residual plot for non-linear relationships and see if residuals are normally distributed\n",
    "fig1 = sm.qqplot(model.resid, line='r')"
   ]
  },
  {
   "cell_type": "code",
   "execution_count": 68,
   "metadata": {},
   "outputs": [
    {
     "data": {
      "text/plain": [
       "Text(0.5, 0, 'Observation Number')"
      ]
     },
     "execution_count": 68,
     "metadata": {},
     "output_type": "execute_result"
    },
    {
     "data": {
      "image/png": "[encoded data removed]",
      "text/plain": [
       "<Figure size 432x288 with 1 Axes>"
      ]
     },
     "metadata": {
      "needs_background": "light"
     },
     "output_type": "display_data"
    }
   ],
   "source": [
    "# Plotting pearson residuals\n",
    "stdres = pd.DataFrame(model.resid_pearson)\n",
    "plt.plot(stdres, 'o', ls='None')\n",
    "l = plt.axhline(color='r')\n",
    "plt.ylabel('Standardized Residual')\n",
    "plt.xlabel('Observation Number')"
   ]
  },
  {
   "cell_type": "code",
   "execution_count": 69,
   "metadata": {},
   "outputs": [
    {
     "name": "stdout",
     "output_type": "stream",
     "text": [
      "Warning: Maximum number of iterations has been exceeded.\n",
      "         Current function value: 0.487759\n",
      "         Iterations: 35\n",
      "                           Logit Regression Results                           \n",
      "==============================================================================\n",
      "Dep. Variable:                  Claim   No. Observations:                 7051\n",
      "Model:                          Logit   Df Residuals:                     7038\n",
      "Method:                           MLE   Df Model:                           12\n",
      "Date:                Fri, 16 Oct 2020   Pseudo R-squ.:                 0.09301\n",
      "Time:                        10:34:56   Log-Likelihood:                -3439.2\n",
      "converged:                      False   LL-Null:                       -3791.9\n",
      "Covariance Type:            nonrobust   LLR p-value:                3.161e-143\n",
      "============================================================================================\n",
      "                               coef    std err          z      P>|z|      [0.025      0.975]\n",
      "--------------------------------------------------------------------------------------------\n",
      "Intercept                   -1.6980      0.089    -19.035      0.000      -1.873      -1.523\n",
      "C(Residential)[T.1]          0.1062      0.069      1.533      0.125      -0.030       0.242\n",
      "C(Building_Painted)[T.1]     0.0740      0.088      0.837      0.403      -0.099       0.247\n",
      "C(Building_Fenced)[T.1]      7.1463     71.368      0.100      0.920    -132.733     147.025\n",
      "C(Garden)[T.1]              18.6140   1.21e+06   1.54e-05      1.000   -2.37e+06    2.37e+06\n",
      "C(Settlement)[T.1]         -25.7907   1.21e+06  -2.13e-05      1.000   -2.37e+06    2.37e+06\n",
      "C(Building_Type_p)[T.1]      0.2524      0.081      3.130      0.002       0.094       0.410\n",
      "C(Building_Type_p)[T.2]      0.4361      0.101      4.338      0.000       0.239       0.633\n",
      "C(Building_Type_p)[T.3]      0.8696      0.105      8.296      0.000       0.664       1.075\n",
      "YearOfObservation_c         -0.0277      0.022     -1.258      0.208      -0.071       0.015\n",
      "Insured_Period_c             0.1010      0.013      7.863      0.000       0.076       0.126\n",
      "Date_of_Occupancy_c         -0.0019      0.001     -2.095      0.036      -0.004      -0.000\n",
      "Building_Dimension_c         0.0003   1.45e-05     20.426      0.000       0.000       0.000\n",
      "============================================================================================\n"
     ]
    },
    {
     "name": "stderr",
     "output_type": "stream",
     "text": [
      "C:\\Users\\Administrator\\anaconda3\\lib\\site-packages\\statsmodels\\base\\model.py:567: ConvergenceWarning: Maximum Likelihood optimization failed to converge. Check mle_retvals\n",
      "  warn(\"Maximum Likelihood optimization failed to converge. \"\n"
     ]
    }
   ],
   "source": [
    "# Logistic Regression\n",
    "model = smf.logit('Claim ~ YearOfObservation_c + Insured_Period_c + C(Residential) + C(Building_Painted) + C(Building_Fenced)' \n",
    "                '+ C(Garden) + C(Settlement) + C(Building_Type_p) + Date_of_Occupancy_c + Building_Dimension_c', df_clean_c).fit()\n",
    "print(model.summary())"
   ]
  },
  {
   "cell_type": "code",
   "execution_count": 70,
   "metadata": {},
   "outputs": [
    {
     "data": {
      "text/html": [
       "<div>\n",
       "<style scoped>\n",
       "    .dataframe tbody tr th:only-of-type {\n",
       "        vertical-align: middle;\n",
       "    }\n",
       "\n",
       "    .dataframe tbody tr th {\n",
       "        vertical-align: top;\n",
       "    }\n",
       "\n",
       "    .dataframe thead th {\n",
       "        text-align: right;\n",
       "    }\n",
       "</style>\n",
       "<table border=\"1\" class=\"dataframe\">\n",
       "  <thead>\n",
       "    <tr style=\"text-align: right;\">\n",
       "      <th></th>\n",
       "      <th>Customer Id</th>\n",
       "      <th>YearOfObservation_c</th>\n",
       "      <th>Insured_Period_c</th>\n",
       "      <th>Residential</th>\n",
       "      <th>Building_Painted</th>\n",
       "      <th>Building_Fenced</th>\n",
       "      <th>Garden</th>\n",
       "      <th>Settlement</th>\n",
       "      <th>Building_Type_p</th>\n",
       "      <th>Date_of_Occupancy_c</th>\n",
       "      <th>Building_Dimension_c</th>\n",
       "      <th>Claim</th>\n",
       "    </tr>\n",
       "  </thead>\n",
       "  <tbody>\n",
       "    <tr>\n",
       "      <th>0</th>\n",
       "      <td>H14663</td>\n",
       "      <td>-0.676925</td>\n",
       "      <td>1.252163</td>\n",
       "      <td>0</td>\n",
       "      <td>0</td>\n",
       "      <td>0</td>\n",
       "      <td>0</td>\n",
       "      <td>0</td>\n",
       "      <td>0</td>\n",
       "      <td>-4.853354</td>\n",
       "      <td>-1591.766132</td>\n",
       "      <td>0</td>\n",
       "    </tr>\n",
       "    <tr>\n",
       "      <th>1</th>\n",
       "      <td>H2037</td>\n",
       "      <td>1.323075</td>\n",
       "      <td>1.252163</td>\n",
       "      <td>0</td>\n",
       "      <td>1</td>\n",
       "      <td>1</td>\n",
       "      <td>1</td>\n",
       "      <td>1</td>\n",
       "      <td>0</td>\n",
       "      <td>-114.853354</td>\n",
       "      <td>-1391.766132</td>\n",
       "      <td>0</td>\n",
       "    </tr>\n",
       "    <tr>\n",
       "      <th>2</th>\n",
       "      <td>H3802</td>\n",
       "      <td>0.323075</td>\n",
       "      <td>1.252163</td>\n",
       "      <td>0</td>\n",
       "      <td>0</td>\n",
       "      <td>0</td>\n",
       "      <td>0</td>\n",
       "      <td>0</td>\n",
       "      <td>0</td>\n",
       "      <td>-4.853354</td>\n",
       "      <td>-1286.766132</td>\n",
       "      <td>0</td>\n",
       "    </tr>\n",
       "    <tr>\n",
       "      <th>3</th>\n",
       "      <td>H3834</td>\n",
       "      <td>-0.676925</td>\n",
       "      <td>1.252163</td>\n",
       "      <td>0</td>\n",
       "      <td>1</td>\n",
       "      <td>0</td>\n",
       "      <td>0</td>\n",
       "      <td>0</td>\n",
       "      <td>0</td>\n",
       "      <td>-4.853354</td>\n",
       "      <td>958.233868</td>\n",
       "      <td>0</td>\n",
       "    </tr>\n",
       "    <tr>\n",
       "      <th>4</th>\n",
       "      <td>H5053</td>\n",
       "      <td>0.323075</td>\n",
       "      <td>1.252163</td>\n",
       "      <td>0</td>\n",
       "      <td>1</td>\n",
       "      <td>1</td>\n",
       "      <td>1</td>\n",
       "      <td>1</td>\n",
       "      <td>0</td>\n",
       "      <td>-164.853354</td>\n",
       "      <td>-1201.766132</td>\n",
       "      <td>0</td>\n",
       "    </tr>\n",
       "  </tbody>\n",
       "</table>\n",
       "</div>"
      ],
      "text/plain": [
       "  Customer Id  YearOfObservation_c  Insured_Period_c  Residential  \\\n",
       "0      H14663            -0.676925          1.252163            0   \n",
       "1       H2037             1.323075          1.252163            0   \n",
       "2       H3802             0.323075          1.252163            0   \n",
       "3       H3834            -0.676925          1.252163            0   \n",
       "4       H5053             0.323075          1.252163            0   \n",
       "\n",
       "   Building_Painted  Building_Fenced  Garden  Settlement  Building_Type_p  \\\n",
       "0                 0                0       0           0                0   \n",
       "1                 1                1       1           1                0   \n",
       "2                 0                0       0           0                0   \n",
       "3                 1                0       0           0                0   \n",
       "4                 1                1       1           1                0   \n",
       "\n",
       "   Date_of_Occupancy_c  Building_Dimension_c  Claim  \n",
       "0            -4.853354          -1591.766132      0  \n",
       "1          -114.853354          -1391.766132      0  \n",
       "2            -4.853354          -1286.766132      0  \n",
       "3            -4.853354            958.233868      0  \n",
       "4          -164.853354          -1201.766132      0  "
      ]
     },
     "execution_count": 70,
     "metadata": {},
     "output_type": "execute_result"
    }
   ],
   "source": [
    "df_clean_c.head()"
   ]
  },
  {
   "cell_type": "code",
   "execution_count": 71,
   "metadata": {},
   "outputs": [],
   "source": [
    "customer_id = df_clean_c['Customer Id']\n",
    "df_clean_c = df_clean_c.drop(columns='Customer Id')"
   ]
  },
  {
   "cell_type": "code",
   "execution_count": 72,
   "metadata": {},
   "outputs": [],
   "source": [
    "y = df_clean_c['Claim']\n",
    "X = df_clean_c.drop(columns='Claim')"
   ]
  },
  {
   "cell_type": "code",
   "execution_count": 73,
   "metadata": {},
   "outputs": [],
   "source": [
    "log_reg = LogisticRegression()"
   ]
  },
  {
   "cell_type": "code",
   "execution_count": 74,
   "metadata": {},
   "outputs": [],
   "source": [
    "# cross_val_score(log_reg, X=X, y=y, cv=10, scoring='sensitivity').mean()"
   ]
  },
  {
   "cell_type": "code",
   "execution_count": 75,
   "metadata": {},
   "outputs": [],
   "source": [
    "df_clean_copy = df_clean_c.copy()"
   ]
  },
  {
   "cell_type": "code",
   "execution_count": 76,
   "metadata": {},
   "outputs": [],
   "source": [
    "# Do one hot encoding with pd.get_dummies\n",
    "df_residential = pd.get_dummies(df_clean_copy['Residential'], prefix='Residential')\n",
    "df_painted = pd.get_dummies(df_clean_copy['Building_Painted'], prefix='Building_Painted')\n",
    "df_fenced = pd.get_dummies(df_clean_copy['Building_Fenced'], prefix='Building_Fenced')\n",
    "df_garden = pd.get_dummies(df_clean_copy['Garden'], prefix='Garden')\n",
    "df_settlement = pd.get_dummies(df_clean_copy['Settlement'], prefix='Settlement')\n",
    "df_building_type = pd.get_dummies(df_clean_copy['Building_Type_p'], prefix='Building_Type')"
   ]
  },
  {
   "cell_type": "code",
   "execution_count": 77,
   "metadata": {},
   "outputs": [
    {
     "data": {
      "text/html": [
       "<div>\n",
       "<style scoped>\n",
       "    .dataframe tbody tr th:only-of-type {\n",
       "        vertical-align: middle;\n",
       "    }\n",
       "\n",
       "    .dataframe tbody tr th {\n",
       "        vertical-align: top;\n",
       "    }\n",
       "\n",
       "    .dataframe thead th {\n",
       "        text-align: right;\n",
       "    }\n",
       "</style>\n",
       "<table border=\"1\" class=\"dataframe\">\n",
       "  <thead>\n",
       "    <tr style=\"text-align: right;\">\n",
       "      <th></th>\n",
       "      <th>Residential_0</th>\n",
       "      <th>Residential_1</th>\n",
       "    </tr>\n",
       "  </thead>\n",
       "  <tbody>\n",
       "    <tr>\n",
       "      <th>0</th>\n",
       "      <td>1</td>\n",
       "      <td>0</td>\n",
       "    </tr>\n",
       "    <tr>\n",
       "      <th>1</th>\n",
       "      <td>1</td>\n",
       "      <td>0</td>\n",
       "    </tr>\n",
       "    <tr>\n",
       "      <th>2</th>\n",
       "      <td>1</td>\n",
       "      <td>0</td>\n",
       "    </tr>\n",
       "    <tr>\n",
       "      <th>3</th>\n",
       "      <td>1</td>\n",
       "      <td>0</td>\n",
       "    </tr>\n",
       "    <tr>\n",
       "      <th>4</th>\n",
       "      <td>1</td>\n",
       "      <td>0</td>\n",
       "    </tr>\n",
       "  </tbody>\n",
       "</table>\n",
       "</div>"
      ],
      "text/plain": [
       "   Residential_0  Residential_1\n",
       "0              1              0\n",
       "1              1              0\n",
       "2              1              0\n",
       "3              1              0\n",
       "4              1              0"
      ]
     },
     "execution_count": 77,
     "metadata": {},
     "output_type": "execute_result"
    }
   ],
   "source": [
    "df_residential.head()"
   ]
  },
  {
   "cell_type": "code",
   "execution_count": 78,
   "metadata": {},
   "outputs": [],
   "source": [
    "df_clean_copy = df_clean_copy.drop(columns=['Residential', 'Building_Painted', 'Building_Fenced', 'Garden', 'Settlement',\n",
    "                                           'Building_Type_p'])\n",
    "df_clean_copy = pd.concat([df_clean_copy, df_residential, df_painted, df_fenced, df_garden, df_settlement, df_building_type], axis=1)"
   ]
  },
  {
   "cell_type": "code",
   "execution_count": 79,
   "metadata": {},
   "outputs": [
    {
     "data": {
      "text/html": [
       "<div>\n",
       "<style scoped>\n",
       "    .dataframe tbody tr th:only-of-type {\n",
       "        vertical-align: middle;\n",
       "    }\n",
       "\n",
       "    .dataframe tbody tr th {\n",
       "        vertical-align: top;\n",
       "    }\n",
       "\n",
       "    .dataframe thead th {\n",
       "        text-align: right;\n",
       "    }\n",
       "</style>\n",
       "<table border=\"1\" class=\"dataframe\">\n",
       "  <thead>\n",
       "    <tr style=\"text-align: right;\">\n",
       "      <th></th>\n",
       "      <th>YearOfObservation_c</th>\n",
       "      <th>Insured_Period_c</th>\n",
       "      <th>Date_of_Occupancy_c</th>\n",
       "      <th>Building_Dimension_c</th>\n",
       "      <th>Claim</th>\n",
       "      <th>Residential_0</th>\n",
       "      <th>Residential_1</th>\n",
       "      <th>Building_Painted_0</th>\n",
       "      <th>Building_Painted_1</th>\n",
       "      <th>Building_Fenced_0</th>\n",
       "      <th>Building_Fenced_1</th>\n",
       "      <th>Garden_0</th>\n",
       "      <th>Garden_1</th>\n",
       "      <th>Settlement_0</th>\n",
       "      <th>Settlement_1</th>\n",
       "      <th>Building_Type_0</th>\n",
       "      <th>Building_Type_1</th>\n",
       "      <th>Building_Type_2</th>\n",
       "      <th>Building_Type_3</th>\n",
       "    </tr>\n",
       "  </thead>\n",
       "  <tbody>\n",
       "    <tr>\n",
       "      <th>0</th>\n",
       "      <td>-0.676925</td>\n",
       "      <td>1.252163</td>\n",
       "      <td>-4.853354</td>\n",
       "      <td>-1591.766132</td>\n",
       "      <td>0</td>\n",
       "      <td>1</td>\n",
       "      <td>0</td>\n",
       "      <td>1</td>\n",
       "      <td>0</td>\n",
       "      <td>1</td>\n",
       "      <td>0</td>\n",
       "      <td>1</td>\n",
       "      <td>0</td>\n",
       "      <td>1</td>\n",
       "      <td>0</td>\n",
       "      <td>1</td>\n",
       "      <td>0</td>\n",
       "      <td>0</td>\n",
       "      <td>0</td>\n",
       "    </tr>\n",
       "    <tr>\n",
       "      <th>1</th>\n",
       "      <td>1.323075</td>\n",
       "      <td>1.252163</td>\n",
       "      <td>-114.853354</td>\n",
       "      <td>-1391.766132</td>\n",
       "      <td>0</td>\n",
       "      <td>1</td>\n",
       "      <td>0</td>\n",
       "      <td>0</td>\n",
       "      <td>1</td>\n",
       "      <td>0</td>\n",
       "      <td>1</td>\n",
       "      <td>0</td>\n",
       "      <td>1</td>\n",
       "      <td>0</td>\n",
       "      <td>1</td>\n",
       "      <td>1</td>\n",
       "      <td>0</td>\n",
       "      <td>0</td>\n",
       "      <td>0</td>\n",
       "    </tr>\n",
       "    <tr>\n",
       "      <th>2</th>\n",
       "      <td>0.323075</td>\n",
       "      <td>1.252163</td>\n",
       "      <td>-4.853354</td>\n",
       "      <td>-1286.766132</td>\n",
       "      <td>0</td>\n",
       "      <td>1</td>\n",
       "      <td>0</td>\n",
       "      <td>1</td>\n",
       "      <td>0</td>\n",
       "      <td>1</td>\n",
       "      <td>0</td>\n",
       "      <td>1</td>\n",
       "      <td>0</td>\n",
       "      <td>1</td>\n",
       "      <td>0</td>\n",
       "      <td>1</td>\n",
       "      <td>0</td>\n",
       "      <td>0</td>\n",
       "      <td>0</td>\n",
       "    </tr>\n",
       "    <tr>\n",
       "      <th>3</th>\n",
       "      <td>-0.676925</td>\n",
       "      <td>1.252163</td>\n",
       "      <td>-4.853354</td>\n",
       "      <td>958.233868</td>\n",
       "      <td>0</td>\n",
       "      <td>1</td>\n",
       "      <td>0</td>\n",
       "      <td>0</td>\n",
       "      <td>1</td>\n",
       "      <td>1</td>\n",
       "      <td>0</td>\n",
       "      <td>1</td>\n",
       "      <td>0</td>\n",
       "      <td>1</td>\n",
       "      <td>0</td>\n",
       "      <td>1</td>\n",
       "      <td>0</td>\n",
       "      <td>0</td>\n",
       "      <td>0</td>\n",
       "    </tr>\n",
       "    <tr>\n",
       "      <th>4</th>\n",
       "      <td>0.323075</td>\n",
       "      <td>1.252163</td>\n",
       "      <td>-164.853354</td>\n",
       "      <td>-1201.766132</td>\n",
       "      <td>0</td>\n",
       "      <td>1</td>\n",
       "      <td>0</td>\n",
       "      <td>0</td>\n",
       "      <td>1</td>\n",
       "      <td>0</td>\n",
       "      <td>1</td>\n",
       "      <td>0</td>\n",
       "      <td>1</td>\n",
       "      <td>0</td>\n",
       "      <td>1</td>\n",
       "      <td>1</td>\n",
       "      <td>0</td>\n",
       "      <td>0</td>\n",
       "      <td>0</td>\n",
       "    </tr>\n",
       "  </tbody>\n",
       "</table>\n",
       "</div>"
      ],
      "text/plain": [
       "   YearOfObservation_c  Insured_Period_c  Date_of_Occupancy_c  \\\n",
       "0            -0.676925          1.252163            -4.853354   \n",
       "1             1.323075          1.252163          -114.853354   \n",
       "2             0.323075          1.252163            -4.853354   \n",
       "3            -0.676925          1.252163            -4.853354   \n",
       "4             0.323075          1.252163          -164.853354   \n",
       "\n",
       "   Building_Dimension_c  Claim  Residential_0  Residential_1  \\\n",
       "0          -1591.766132      0              1              0   \n",
       "1          -1391.766132      0              1              0   \n",
       "2          -1286.766132      0              1              0   \n",
       "3            958.233868      0              1              0   \n",
       "4          -1201.766132      0              1              0   \n",
       "\n",
       "   Building_Painted_0  Building_Painted_1  Building_Fenced_0  \\\n",
       "0                   1                   0                  1   \n",
       "1                   0                   1                  0   \n",
       "2                   1                   0                  1   \n",
       "3                   0                   1                  1   \n",
       "4                   0                   1                  0   \n",
       "\n",
       "   Building_Fenced_1  Garden_0  Garden_1  Settlement_0  Settlement_1  \\\n",
       "0                  0         1         0             1             0   \n",
       "1                  1         0         1             0             1   \n",
       "2                  0         1         0             1             0   \n",
       "3                  0         1         0             1             0   \n",
       "4                  1         0         1             0             1   \n",
       "\n",
       "   Building_Type_0  Building_Type_1  Building_Type_2  Building_Type_3  \n",
       "0                1                0                0                0  \n",
       "1                1                0                0                0  \n",
       "2                1                0                0                0  \n",
       "3                1                0                0                0  \n",
       "4                1                0                0                0  "
      ]
     },
     "execution_count": 79,
     "metadata": {},
     "output_type": "execute_result"
    }
   ],
   "source": [
    "df_clean_copy.head()"
   ]
  },
  {
   "cell_type": "code",
   "execution_count": 80,
   "metadata": {},
   "outputs": [],
   "source": [
    "y = df_clean_copy['Claim']\n",
    "X = df_clean_copy.drop(columns='Claim')"
   ]
  },
  {
   "cell_type": "code",
   "execution_count": 81,
   "metadata": {},
   "outputs": [
    {
     "data": {
      "text/plain": [
       "0    0.771238\n",
       "1    0.228762\n",
       "Name: Claim, dtype: float64"
      ]
     },
     "execution_count": 81,
     "metadata": {},
     "output_type": "execute_result"
    }
   ],
   "source": [
    "y.value_counts()/len(y)"
   ]
  },
  {
   "cell_type": "code",
   "execution_count": 82,
   "metadata": {},
   "outputs": [],
   "source": [
    "# Split into train and test using stratified shuffle split\n",
    "X_train, X_test, y_train, y_test = train_test_split(X, y, test_size=0.2, stratify=y)"
   ]
  },
  {
   "cell_type": "code",
   "execution_count": 83,
   "metadata": {},
   "outputs": [
    {
     "data": {
      "text/plain": [
       "0    0.771277\n",
       "1    0.228723\n",
       "Name: Claim, dtype: float64"
      ]
     },
     "execution_count": 83,
     "metadata": {},
     "output_type": "execute_result"
    }
   ],
   "source": [
    "y_train.value_counts()/len(y_train)"
   ]
  },
  {
   "cell_type": "code",
   "execution_count": 84,
   "metadata": {},
   "outputs": [
    {
     "data": {
      "text/plain": [
       "0    0.771084\n",
       "1    0.228916\n",
       "Name: Claim, dtype: float64"
      ]
     },
     "execution_count": 84,
     "metadata": {},
     "output_type": "execute_result"
    }
   ],
   "source": [
    "y_test.value_counts()/len(y_test)"
   ]
  },
  {
   "cell_type": "code",
   "execution_count": 85,
   "metadata": {},
   "outputs": [],
   "source": [
    "clf = DecisionTreeClassifier()\n",
    "log_reg = LogisticRegression()"
   ]
  },
  {
   "cell_type": "code",
   "execution_count": 86,
   "metadata": {},
   "outputs": [
    {
     "data": {
      "text/plain": [
       "0.6946808510638298"
      ]
     },
     "execution_count": 86,
     "metadata": {},
     "output_type": "execute_result"
    }
   ],
   "source": [
    "cross_val_score(clf, X=X_train, y=y_train, cv=10, scoring='accuracy').mean()"
   ]
  },
  {
   "cell_type": "code",
   "execution_count": 87,
   "metadata": {
    "scrolled": true
   },
   "outputs": [
    {
     "name": "stderr",
     "output_type": "stream",
     "text": [
      "C:\\Users\\Administrator\\anaconda3\\lib\\site-packages\\sklearn\\linear_model\\_logistic.py:762: ConvergenceWarning: lbfgs failed to converge (status=1):\n",
      "STOP: TOTAL NO. of ITERATIONS REACHED LIMIT.\n",
      "\n",
      "Increase the number of iterations (max_iter) or scale the data as shown in:\n",
      "    https://scikit-learn.org/stable/modules/preprocessing.html\n",
      "Please also refer to the documentation for alternative solver options:\n",
      "    https://scikit-learn.org/stable/modules/linear_model.html#logistic-regression\n",
      "  n_iter_i = _check_optimize_result(\n",
      "C:\\Users\\Administrator\\anaconda3\\lib\\site-packages\\sklearn\\linear_model\\_logistic.py:762: ConvergenceWarning: lbfgs failed to converge (status=1):\n",
      "STOP: TOTAL NO. of ITERATIONS REACHED LIMIT.\n",
      "\n",
      "Increase the number of iterations (max_iter) or scale the data as shown in:\n",
      "    https://scikit-learn.org/stable/modules/preprocessing.html\n",
      "Please also refer to the documentation for alternative solver options:\n",
      "    https://scikit-learn.org/stable/modules/linear_model.html#logistic-regression\n",
      "  n_iter_i = _check_optimize_result(\n",
      "C:\\Users\\Administrator\\anaconda3\\lib\\site-packages\\sklearn\\linear_model\\_logistic.py:762: ConvergenceWarning: lbfgs failed to converge (status=1):\n",
      "STOP: TOTAL NO. of ITERATIONS REACHED LIMIT.\n",
      "\n",
      "Increase the number of iterations (max_iter) or scale the data as shown in:\n",
      "    https://scikit-learn.org/stable/modules/preprocessing.html\n",
      "Please also refer to the documentation for alternative solver options:\n",
      "    https://scikit-learn.org/stable/modules/linear_model.html#logistic-regression\n",
      "  n_iter_i = _check_optimize_result(\n",
      "C:\\Users\\Administrator\\anaconda3\\lib\\site-packages\\sklearn\\linear_model\\_logistic.py:762: ConvergenceWarning: lbfgs failed to converge (status=1):\n",
      "STOP: TOTAL NO. of ITERATIONS REACHED LIMIT.\n",
      "\n",
      "Increase the number of iterations (max_iter) or scale the data as shown in:\n",
      "    https://scikit-learn.org/stable/modules/preprocessing.html\n",
      "Please also refer to the documentation for alternative solver options:\n",
      "    https://scikit-learn.org/stable/modules/linear_model.html#logistic-regression\n",
      "  n_iter_i = _check_optimize_result(\n",
      "C:\\Users\\Administrator\\anaconda3\\lib\\site-packages\\sklearn\\linear_model\\_logistic.py:762: ConvergenceWarning: lbfgs failed to converge (status=1):\n",
      "STOP: TOTAL NO. of ITERATIONS REACHED LIMIT.\n",
      "\n",
      "Increase the number of iterations (max_iter) or scale the data as shown in:\n",
      "    https://scikit-learn.org/stable/modules/preprocessing.html\n",
      "Please also refer to the documentation for alternative solver options:\n",
      "    https://scikit-learn.org/stable/modules/linear_model.html#logistic-regression\n",
      "  n_iter_i = _check_optimize_result(\n",
      "C:\\Users\\Administrator\\anaconda3\\lib\\site-packages\\sklearn\\linear_model\\_logistic.py:762: ConvergenceWarning: lbfgs failed to converge (status=1):\n",
      "STOP: TOTAL NO. of ITERATIONS REACHED LIMIT.\n",
      "\n",
      "Increase the number of iterations (max_iter) or scale the data as shown in:\n",
      "    https://scikit-learn.org/stable/modules/preprocessing.html\n",
      "Please also refer to the documentation for alternative solver options:\n",
      "    https://scikit-learn.org/stable/modules/linear_model.html#logistic-regression\n",
      "  n_iter_i = _check_optimize_result(\n",
      "C:\\Users\\Administrator\\anaconda3\\lib\\site-packages\\sklearn\\linear_model\\_logistic.py:762: ConvergenceWarning: lbfgs failed to converge (status=1):\n",
      "STOP: TOTAL NO. of ITERATIONS REACHED LIMIT.\n",
      "\n",
      "Increase the number of iterations (max_iter) or scale the data as shown in:\n",
      "    https://scikit-learn.org/stable/modules/preprocessing.html\n",
      "Please also refer to the documentation for alternative solver options:\n",
      "    https://scikit-learn.org/stable/modules/linear_model.html#logistic-regression\n",
      "  n_iter_i = _check_optimize_result(\n",
      "C:\\Users\\Administrator\\anaconda3\\lib\\site-packages\\sklearn\\linear_model\\_logistic.py:762: ConvergenceWarning: lbfgs failed to converge (status=1):\n",
      "STOP: TOTAL NO. of ITERATIONS REACHED LIMIT.\n",
      "\n",
      "Increase the number of iterations (max_iter) or scale the data as shown in:\n",
      "    https://scikit-learn.org/stable/modules/preprocessing.html\n",
      "Please also refer to the documentation for alternative solver options:\n",
      "    https://scikit-learn.org/stable/modules/linear_model.html#logistic-regression\n",
      "  n_iter_i = _check_optimize_result(\n",
      "C:\\Users\\Administrator\\anaconda3\\lib\\site-packages\\sklearn\\linear_model\\_logistic.py:762: ConvergenceWarning: lbfgs failed to converge (status=1):\n",
      "STOP: TOTAL NO. of ITERATIONS REACHED LIMIT.\n",
      "\n",
      "Increase the number of iterations (max_iter) or scale the data as shown in:\n",
      "    https://scikit-learn.org/stable/modules/preprocessing.html\n",
      "Please also refer to the documentation for alternative solver options:\n",
      "    https://scikit-learn.org/stable/modules/linear_model.html#logistic-regression\n",
      "  n_iter_i = _check_optimize_result(\n"
     ]
    },
    {
     "data": {
      "text/plain": [
       "0.7819148936170212"
      ]
     },
     "execution_count": 87,
     "metadata": {},
     "output_type": "execute_result"
    }
   ],
   "source": [
    "cross_val_score(log_reg, X=X_train, y=y_train, cv=10, scoring='accuracy').mean()"
   ]
  },
  {
   "cell_type": "code",
   "execution_count": 88,
   "metadata": {
    "scrolled": true
   },
   "outputs": [],
   "source": [
    "# y_pred = log_reg.predict(X_test)"
   ]
  },
  {
   "cell_type": "code",
   "execution_count": 89,
   "metadata": {},
   "outputs": [
    {
     "name": "stdout",
     "output_type": "stream",
     "text": [
      "Accuracy score: 0.6737588652482269\n",
      "Accuracy score: 0.6702127659574468\n",
      "Accuracy score: 0.7092198581560284\n",
      "Accuracy score: 0.7039007092198581\n",
      "Accuracy score: 0.6737588652482269\n",
      "Accuracy score: 0.6666666666666666\n",
      "Accuracy score: 0.6968085106382979\n",
      "Accuracy score: 0.6684397163120568\n",
      "Accuracy score: 0.6950354609929078\n",
      "Accuracy score: 0.725177304964539\n"
     ]
    }
   ],
   "source": [
    "# Using stratifiedKFold so as to preserve distribution\n",
    "kf = StratifiedKFold(n_splits=10, shuffle=True, random_state=42)\n",
    "cv_score = []\n",
    "\n",
    "for train_index, test_index in kf.split(X_train, y_train):\n",
    "    X_train1, X_val = X.iloc[train_index], X.iloc[test_index]\n",
    "    y_train1, y_val = y.iloc[train_index], y.iloc[test_index]\n",
    "    \n",
    "    #model\n",
    "    # log_reg = LogisticRegression()\n",
    "    clf = DecisionTreeClassifier()\n",
    "    clf.fit(X_train1, y_train1)\n",
    "    score = accuracy_score(y_val, clf.predict(X_val))\n",
    "    \n",
    "    print('Accuracy score:', score)\n",
    "    cv_score.append(score)\n",
    "    # print(train_index)"
   ]
  },
  {
   "cell_type": "code",
   "execution_count": 1,
   "metadata": {},
   "outputs": [
    {
     "ename": "NameError",
     "evalue": "name 'cross_val_score' is not defined",
     "output_type": "error",
     "traceback": [
      "\u001b[1;31m---------------------------------------------------------------------------\u001b[0m",
      "\u001b[1;31mNameError\u001b[0m                                 Traceback (most recent call last)",
      "\u001b[1;32m<ipython-input-1-7c269d0401f4>\u001b[0m in \u001b[0;36m<module>\u001b[1;34m\u001b[0m\n\u001b[1;32m----> 1\u001b[1;33m \u001b[0mcross_val_score\u001b[0m\u001b[1;33m(\u001b[0m\u001b[0mlog_reg\u001b[0m\u001b[1;33m,\u001b[0m \u001b[0mX_train\u001b[0m\u001b[1;33m,\u001b[0m \u001b[0my_train\u001b[0m\u001b[1;33m,\u001b[0m \u001b[0mcv\u001b[0m\u001b[1;33m=\u001b[0m\u001b[0mkf\u001b[0m\u001b[1;33m,\u001b[0m \u001b[0mscoring\u001b[0m\u001b[1;33m=\u001b[0m\u001b[1;34m'accuracy'\u001b[0m\u001b[1;33m)\u001b[0m\u001b[1;33m.\u001b[0m\u001b[0mmean\u001b[0m\u001b[1;33m(\u001b[0m\u001b[1;33m)\u001b[0m\u001b[1;33m\u001b[0m\u001b[1;33m\u001b[0m\u001b[0m\n\u001b[0m",
      "\u001b[1;31mNameError\u001b[0m: name 'cross_val_score' is not defined"
     ]
    }
   ],
   "source": []
  },
  {
   "cell_type": "code",
   "execution_count": 166,
   "metadata": {},
   "outputs": [
    {
     "name": "stdout",
     "output_type": "stream",
     "text": [
      "0.35\n"
     ]
    }
   ],
   "source": [
    "print(clf.predict(X_test)[:40].mean())\n"
   ]
  },
  {
   "cell_type": "code",
   "execution_count": 167,
   "metadata": {},
   "outputs": [
    {
     "name": "stdout",
     "output_type": "stream",
     "text": [
      "0.275\n"
     ]
    }
   ],
   "source": [
    "print(y_test[:40].mean())"
   ]
  },
  {
   "cell_type": "code",
   "execution_count": null,
   "metadata": {},
   "outputs": [],
   "source": []
  },
  {
   "cell_type": "code",
   "execution_count": 157,
   "metadata": {},
   "outputs": [
    {
     "data": {
      "text/plain": [
       "array([[4096,  254],\n",
       "       [ 274, 1016]], dtype=int64)"
      ]
     },
     "execution_count": 157,
     "metadata": {},
     "output_type": "execute_result"
    }
   ],
   "source": [
    "# Using confusion matrix\n",
    "confusion_matrix(y_train, clf.predict(X_train))"
   ]
  },
  {
   "cell_type": "code",
   "execution_count": 152,
   "metadata": {
    "collapsed": true
   },
   "outputs": [
    {
     "data": {
      "text/html": [
       "<div>\n",
       "<style scoped>\n",
       "    .dataframe tbody tr th:only-of-type {\n",
       "        vertical-align: middle;\n",
       "    }\n",
       "\n",
       "    .dataframe tbody tr th {\n",
       "        vertical-align: top;\n",
       "    }\n",
       "\n",
       "    .dataframe thead th {\n",
       "        text-align: right;\n",
       "    }\n",
       "</style>\n",
       "<table border=\"1\" class=\"dataframe\">\n",
       "  <thead>\n",
       "    <tr style=\"text-align: right;\">\n",
       "      <th></th>\n",
       "      <th>YearOfObservation_c</th>\n",
       "      <th>Insured_Period_c</th>\n",
       "      <th>Date_of_Occupancy_c</th>\n",
       "      <th>Building_Dimension_c</th>\n",
       "      <th>Residential_0</th>\n",
       "      <th>Residential_1</th>\n",
       "      <th>Building_Painted_0</th>\n",
       "      <th>Building_Painted_1</th>\n",
       "      <th>Building_Fenced_0</th>\n",
       "      <th>Building_Fenced_1</th>\n",
       "      <th>Garden_0</th>\n",
       "      <th>Garden_1</th>\n",
       "      <th>Settlement_0</th>\n",
       "      <th>Settlement_1</th>\n",
       "      <th>Building_Type_0</th>\n",
       "      <th>Building_Type_1</th>\n",
       "      <th>Building_Type_2</th>\n",
       "      <th>Building_Type_3</th>\n",
       "    </tr>\n",
       "  </thead>\n",
       "  <tbody>\n",
       "    <tr>\n",
       "      <th>5602</th>\n",
       "      <td>-1.676925</td>\n",
       "      <td>1.252163</td>\n",
       "      <td>15.146646</td>\n",
       "      <td>-755.766132</td>\n",
       "      <td>1</td>\n",
       "      <td>0</td>\n",
       "      <td>1</td>\n",
       "      <td>0</td>\n",
       "      <td>1</td>\n",
       "      <td>0</td>\n",
       "      <td>1</td>\n",
       "      <td>0</td>\n",
       "      <td>1</td>\n",
       "      <td>0</td>\n",
       "      <td>0</td>\n",
       "      <td>1</td>\n",
       "      <td>0</td>\n",
       "      <td>0</td>\n",
       "    </tr>\n",
       "    <tr>\n",
       "      <th>5483</th>\n",
       "      <td>1.323075</td>\n",
       "      <td>1.252163</td>\n",
       "      <td>15.146646</td>\n",
       "      <td>-1431.766132</td>\n",
       "      <td>0</td>\n",
       "      <td>1</td>\n",
       "      <td>0</td>\n",
       "      <td>1</td>\n",
       "      <td>0</td>\n",
       "      <td>1</td>\n",
       "      <td>0</td>\n",
       "      <td>1</td>\n",
       "      <td>0</td>\n",
       "      <td>1</td>\n",
       "      <td>0</td>\n",
       "      <td>1</td>\n",
       "      <td>0</td>\n",
       "      <td>0</td>\n",
       "    </tr>\n",
       "    <tr>\n",
       "      <th>856</th>\n",
       "      <td>-1.676925</td>\n",
       "      <td>1.252163</td>\n",
       "      <td>15.146646</td>\n",
       "      <td>2468.233868</td>\n",
       "      <td>1</td>\n",
       "      <td>0</td>\n",
       "      <td>1</td>\n",
       "      <td>0</td>\n",
       "      <td>1</td>\n",
       "      <td>0</td>\n",
       "      <td>1</td>\n",
       "      <td>0</td>\n",
       "      <td>1</td>\n",
       "      <td>0</td>\n",
       "      <td>1</td>\n",
       "      <td>0</td>\n",
       "      <td>0</td>\n",
       "      <td>0</td>\n",
       "    </tr>\n",
       "    <tr>\n",
       "      <th>971</th>\n",
       "      <td>-1.676925</td>\n",
       "      <td>1.252163</td>\n",
       "      <td>-4.853354</td>\n",
       "      <td>-981.766132</td>\n",
       "      <td>1</td>\n",
       "      <td>0</td>\n",
       "      <td>0</td>\n",
       "      <td>1</td>\n",
       "      <td>0</td>\n",
       "      <td>1</td>\n",
       "      <td>0</td>\n",
       "      <td>1</td>\n",
       "      <td>0</td>\n",
       "      <td>1</td>\n",
       "      <td>0</td>\n",
       "      <td>1</td>\n",
       "      <td>0</td>\n",
       "      <td>0</td>\n",
       "    </tr>\n",
       "    <tr>\n",
       "      <th>3183</th>\n",
       "      <td>-0.676925</td>\n",
       "      <td>1.252163</td>\n",
       "      <td>15.146646</td>\n",
       "      <td>5975.233868</td>\n",
       "      <td>1</td>\n",
       "      <td>0</td>\n",
       "      <td>0</td>\n",
       "      <td>1</td>\n",
       "      <td>1</td>\n",
       "      <td>0</td>\n",
       "      <td>1</td>\n",
       "      <td>0</td>\n",
       "      <td>1</td>\n",
       "      <td>0</td>\n",
       "      <td>1</td>\n",
       "      <td>0</td>\n",
       "      <td>0</td>\n",
       "      <td>0</td>\n",
       "    </tr>\n",
       "  </tbody>\n",
       "</table>\n",
       "</div>"
      ],
      "text/plain": [
       "      YearOfObservation_c  Insured_Period_c  Date_of_Occupancy_c  \\\n",
       "5602            -1.676925          1.252163            15.146646   \n",
       "5483             1.323075          1.252163            15.146646   \n",
       "856             -1.676925          1.252163            15.146646   \n",
       "971             -1.676925          1.252163            -4.853354   \n",
       "3183            -0.676925          1.252163            15.146646   \n",
       "\n",
       "      Building_Dimension_c  Residential_0  Residential_1  Building_Painted_0  \\\n",
       "5602           -755.766132              1              0                   1   \n",
       "5483          -1431.766132              0              1                   0   \n",
       "856            2468.233868              1              0                   1   \n",
       "971            -981.766132              1              0                   0   \n",
       "3183           5975.233868              1              0                   0   \n",
       "\n",
       "      Building_Painted_1  Building_Fenced_0  Building_Fenced_1  Garden_0  \\\n",
       "5602                   0                  1                  0         1   \n",
       "5483                   1                  0                  1         0   \n",
       "856                    0                  1                  0         1   \n",
       "971                    1                  0                  1         0   \n",
       "3183                   1                  1                  0         1   \n",
       "\n",
       "      Garden_1  Settlement_0  Settlement_1  Building_Type_0  Building_Type_1  \\\n",
       "5602         0             1             0                0                1   \n",
       "5483         1             0             1                0                1   \n",
       "856          0             1             0                1                0   \n",
       "971          1             0             1                0                1   \n",
       "3183         0             1             0                1                0   \n",
       "\n",
       "      Building_Type_2  Building_Type_3  \n",
       "5602                0                0  \n",
       "5483                0                0  \n",
       "856                 0                0  \n",
       "971                 0                0  \n",
       "3183                0                0  "
      ]
     },
     "execution_count": 152,
     "metadata": {},
     "output_type": "execute_result"
    }
   ],
   "source": [
    "X_test.head()"
   ]
  },
  {
   "cell_type": "code",
   "execution_count": 91,
   "metadata": {},
   "outputs": [
    {
     "data": {
      "text/html": [
       "<div>\n",
       "<style scoped>\n",
       "    .dataframe tbody tr th:only-of-type {\n",
       "        vertical-align: middle;\n",
       "    }\n",
       "\n",
       "    .dataframe tbody tr th {\n",
       "        vertical-align: top;\n",
       "    }\n",
       "\n",
       "    .dataframe thead th {\n",
       "        text-align: right;\n",
       "    }\n",
       "</style>\n",
       "<table border=\"1\" class=\"dataframe\">\n",
       "  <thead>\n",
       "    <tr style=\"text-align: right;\">\n",
       "      <th></th>\n",
       "      <th>YearOfObservation_c</th>\n",
       "      <th>Insured_Period_c</th>\n",
       "      <th>Date_of_Occupancy_c</th>\n",
       "      <th>Building_Dimension_c</th>\n",
       "      <th>Residential_0</th>\n",
       "      <th>Residential_1</th>\n",
       "      <th>Building_Painted_0</th>\n",
       "      <th>Building_Painted_1</th>\n",
       "      <th>Building_Fenced_0</th>\n",
       "      <th>Building_Fenced_1</th>\n",
       "      <th>Garden_0</th>\n",
       "      <th>Garden_1</th>\n",
       "      <th>Settlement_0</th>\n",
       "      <th>Settlement_1</th>\n",
       "      <th>Building_Type_0</th>\n",
       "      <th>Building_Type_1</th>\n",
       "      <th>Building_Type_2</th>\n",
       "      <th>Building_Type_3</th>\n",
       "    </tr>\n",
       "  </thead>\n",
       "  <tbody>\n",
       "    <tr>\n",
       "      <th>1631</th>\n",
       "      <td>0.323075</td>\n",
       "      <td>1.252163</td>\n",
       "      <td>40.146646</td>\n",
       "      <td>839.233868</td>\n",
       "      <td>1</td>\n",
       "      <td>0</td>\n",
       "      <td>0</td>\n",
       "      <td>1</td>\n",
       "      <td>0</td>\n",
       "      <td>1</td>\n",
       "      <td>0</td>\n",
       "      <td>1</td>\n",
       "      <td>0</td>\n",
       "      <td>1</td>\n",
       "      <td>1</td>\n",
       "      <td>0</td>\n",
       "      <td>0</td>\n",
       "      <td>0</td>\n",
       "    </tr>\n",
       "    <tr>\n",
       "      <th>5575</th>\n",
       "      <td>-0.676925</td>\n",
       "      <td>1.252163</td>\n",
       "      <td>46.146646</td>\n",
       "      <td>218.233868</td>\n",
       "      <td>1</td>\n",
       "      <td>0</td>\n",
       "      <td>0</td>\n",
       "      <td>1</td>\n",
       "      <td>0</td>\n",
       "      <td>1</td>\n",
       "      <td>0</td>\n",
       "      <td>1</td>\n",
       "      <td>0</td>\n",
       "      <td>1</td>\n",
       "      <td>0</td>\n",
       "      <td>1</td>\n",
       "      <td>0</td>\n",
       "      <td>0</td>\n",
       "    </tr>\n",
       "    <tr>\n",
       "      <th>343</th>\n",
       "      <td>-0.676925</td>\n",
       "      <td>1.252163</td>\n",
       "      <td>15.146646</td>\n",
       "      <td>-703.766132</td>\n",
       "      <td>1</td>\n",
       "      <td>0</td>\n",
       "      <td>0</td>\n",
       "      <td>1</td>\n",
       "      <td>1</td>\n",
       "      <td>0</td>\n",
       "      <td>1</td>\n",
       "      <td>0</td>\n",
       "      <td>1</td>\n",
       "      <td>0</td>\n",
       "      <td>0</td>\n",
       "      <td>0</td>\n",
       "      <td>0</td>\n",
       "      <td>1</td>\n",
       "    </tr>\n",
       "    <tr>\n",
       "      <th>4219</th>\n",
       "      <td>-1.676925</td>\n",
       "      <td>1.252163</td>\n",
       "      <td>-4.853354</td>\n",
       "      <td>-1211.766132</td>\n",
       "      <td>1</td>\n",
       "      <td>0</td>\n",
       "      <td>0</td>\n",
       "      <td>1</td>\n",
       "      <td>0</td>\n",
       "      <td>1</td>\n",
       "      <td>0</td>\n",
       "      <td>1</td>\n",
       "      <td>0</td>\n",
       "      <td>1</td>\n",
       "      <td>0</td>\n",
       "      <td>1</td>\n",
       "      <td>0</td>\n",
       "      <td>0</td>\n",
       "    </tr>\n",
       "    <tr>\n",
       "      <th>6948</th>\n",
       "      <td>-0.676925</td>\n",
       "      <td>-3.747837</td>\n",
       "      <td>-4.853354</td>\n",
       "      <td>2118.233868</td>\n",
       "      <td>0</td>\n",
       "      <td>1</td>\n",
       "      <td>1</td>\n",
       "      <td>0</td>\n",
       "      <td>1</td>\n",
       "      <td>0</td>\n",
       "      <td>1</td>\n",
       "      <td>0</td>\n",
       "      <td>1</td>\n",
       "      <td>0</td>\n",
       "      <td>0</td>\n",
       "      <td>1</td>\n",
       "      <td>0</td>\n",
       "      <td>0</td>\n",
       "    </tr>\n",
       "  </tbody>\n",
       "</table>\n",
       "</div>"
      ],
      "text/plain": [
       "      YearOfObservation_c  Insured_Period_c  Date_of_Occupancy_c  \\\n",
       "1631             0.323075          1.252163            40.146646   \n",
       "5575            -0.676925          1.252163            46.146646   \n",
       "343             -0.676925          1.252163            15.146646   \n",
       "4219            -1.676925          1.252163            -4.853354   \n",
       "6948            -0.676925         -3.747837            -4.853354   \n",
       "\n",
       "      Building_Dimension_c  Residential_0  Residential_1  Building_Painted_0  \\\n",
       "1631            839.233868              1              0                   0   \n",
       "5575            218.233868              1              0                   0   \n",
       "343            -703.766132              1              0                   0   \n",
       "4219          -1211.766132              1              0                   0   \n",
       "6948           2118.233868              0              1                   1   \n",
       "\n",
       "      Building_Painted_1  Building_Fenced_0  Building_Fenced_1  Garden_0  \\\n",
       "1631                   1                  0                  1         0   \n",
       "5575                   1                  0                  1         0   \n",
       "343                    1                  1                  0         1   \n",
       "4219                   1                  0                  1         0   \n",
       "6948                   0                  1                  0         1   \n",
       "\n",
       "      Garden_1  Settlement_0  Settlement_1  Building_Type_0  Building_Type_1  \\\n",
       "1631         1             0             1                1                0   \n",
       "5575         1             0             1                0                1   \n",
       "343          0             1             0                0                0   \n",
       "4219         1             0             1                0                1   \n",
       "6948         0             1             0                0                1   \n",
       "\n",
       "      Building_Type_2  Building_Type_3  \n",
       "1631                0                0  \n",
       "5575                0                0  \n",
       "343                 0                1  \n",
       "4219                0                0  \n",
       "6948                0                0  "
      ]
     },
     "execution_count": 91,
     "metadata": {},
     "output_type": "execute_result"
    }
   ],
   "source": [
    "X_train.head()"
   ]
  },
  {
   "cell_type": "code",
   "execution_count": 92,
   "metadata": {
    "scrolled": true
   },
   "outputs": [
    {
     "data": {
      "text/plain": [
       "array([0.12642345, 0.05394158, 0.17949897, 0.47405637, 0.0168948 ,\n",
       "       0.01913681, 0.01995923, 0.01532019, 0.00563011, 0.0084731 ,\n",
       "       0.00961157, 0.00513925, 0.00366396, 0.00831104, 0.01130024,\n",
       "       0.0179171 , 0.01072906, 0.01399316])"
      ]
     },
     "execution_count": 92,
     "metadata": {},
     "output_type": "execute_result"
    }
   ],
   "source": [
    "clf.feature_importances_"
   ]
  },
  {
   "cell_type": "code",
   "execution_count": 158,
   "metadata": {},
   "outputs": [
    {
     "data": {
      "text/plain": [
       "0.9063829787234042"
      ]
     },
     "execution_count": 158,
     "metadata": {},
     "output_type": "execute_result"
    }
   ],
   "source": [
    "accuracy_score(y_train, clf.predict(X_train))"
   ]
  },
  {
   "cell_type": "code",
   "execution_count": 159,
   "metadata": {},
   "outputs": [
    {
     "name": "stdout",
     "output_type": "stream",
     "text": [
      "              precision    recall  f1-score   support\n",
      "\n",
      "           0       0.94      0.94      0.94      4350\n",
      "           1       0.80      0.79      0.79      1290\n",
      "\n",
      "    accuracy                           0.91      5640\n",
      "   macro avg       0.87      0.86      0.87      5640\n",
      "weighted avg       0.91      0.91      0.91      5640\n",
      "\n"
     ]
    }
   ],
   "source": [
    "print(classification_report(y_train, clf.predict(X_train)))"
   ]
  },
  {
   "cell_type": "code",
   "execution_count": 95,
   "metadata": {},
   "outputs": [],
   "source": [
    "lda = LinearDiscriminantAnalysis()\n",
    "qda = QuadraticDiscriminantAnalysis()"
   ]
  },
  {
   "cell_type": "code",
   "execution_count": 96,
   "metadata": {},
   "outputs": [
    {
     "data": {
      "text/plain": [
       "LinearDiscriminantAnalysis()"
      ]
     },
     "execution_count": 96,
     "metadata": {},
     "output_type": "execute_result"
    }
   ],
   "source": [
    "lda.fit(X_train, y_train)\n",
    "lda.fit(X_train, y_train)"
   ]
  },
  {
   "cell_type": "code",
   "execution_count": 97,
   "metadata": {},
   "outputs": [
    {
     "data": {
      "text/plain": [
       "array([0.7712766, 0.2287234])"
      ]
     },
     "execution_count": 97,
     "metadata": {},
     "output_type": "execute_result"
    }
   ],
   "source": [
    "lda.priors_"
   ]
  },
  {
   "cell_type": "code",
   "execution_count": 98,
   "metadata": {},
   "outputs": [],
   "source": [
    "y_pred = lda.predict(X_test)"
   ]
  },
  {
   "cell_type": "code",
   "execution_count": 99,
   "metadata": {},
   "outputs": [
    {
     "data": {
      "text/plain": [
       "0.7880935506732814"
      ]
     },
     "execution_count": 99,
     "metadata": {},
     "output_type": "execute_result"
    }
   ],
   "source": [
    "accuracy_score(y_test, y_pred)\n",
    "# The accuracy is no better than chance itself. This is expected because LDA assumes that there is no class imbalance"
   ]
  },
  {
   "cell_type": "code",
   "execution_count": 100,
   "metadata": {},
   "outputs": [
    {
     "data": {
      "text/plain": [
       "array([[1057,   31],\n",
       "       [ 268,   55]], dtype=int64)"
      ]
     },
     "execution_count": 100,
     "metadata": {},
     "output_type": "execute_result"
    }
   ],
   "source": [
    "confusion_matrix(y_test, y_pred)"
   ]
  },
  {
   "cell_type": "code",
   "execution_count": 101,
   "metadata": {},
   "outputs": [
    {
     "name": "stdout",
     "output_type": "stream",
     "text": [
      "              precision    recall  f1-score   support\n",
      "\n",
      "           0       0.80      0.97      0.88      1088\n",
      "           1       0.64      0.17      0.27       323\n",
      "\n",
      "    accuracy                           0.79      1411\n",
      "   macro avg       0.72      0.57      0.57      1411\n",
      "weighted avg       0.76      0.79      0.74      1411\n",
      "\n"
     ]
    }
   ],
   "source": [
    "print(classification_report(y_test, y_pred))"
   ]
  },
  {
   "cell_type": "code",
   "execution_count": 102,
   "metadata": {},
   "outputs": [
    {
     "name": "stderr",
     "output_type": "stream",
     "text": [
      "C:\\Users\\Administrator\\anaconda3\\lib\\site-packages\\sklearn\\discriminant_analysis.py:715: UserWarning: Variables are collinear\n",
      "  warnings.warn(\"Variables are collinear\")\n"
     ]
    },
    {
     "data": {
      "text/plain": [
       "QuadraticDiscriminantAnalysis()"
      ]
     },
     "execution_count": 102,
     "metadata": {},
     "output_type": "execute_result"
    }
   ],
   "source": [
    "qda.fit(X_train, y_train)"
   ]
  },
  {
   "cell_type": "code",
   "execution_count": 103,
   "metadata": {},
   "outputs": [],
   "source": [
    "y_pred = qda.predict(X_test)"
   ]
  },
  {
   "cell_type": "code",
   "execution_count": 104,
   "metadata": {},
   "outputs": [
    {
     "data": {
      "text/plain": [
       "0.2820694542877392"
      ]
     },
     "execution_count": 104,
     "metadata": {},
     "output_type": "execute_result"
    }
   ],
   "source": [
    "accuracy_score(y_test, y_pred)"
   ]
  },
  {
   "cell_type": "code",
   "execution_count": 105,
   "metadata": {},
   "outputs": [
    {
     "data": {
      "text/plain": [
       "array([1.])"
      ]
     },
     "execution_count": 105,
     "metadata": {},
     "output_type": "execute_result"
    }
   ],
   "source": [
    "lda.explained_variance_ratio_"
   ]
  },
  {
   "cell_type": "code",
   "execution_count": 106,
   "metadata": {},
   "outputs": [
    {
     "data": {
      "text/html": [
       "<div>\n",
       "<style scoped>\n",
       "    .dataframe tbody tr th:only-of-type {\n",
       "        vertical-align: middle;\n",
       "    }\n",
       "\n",
       "    .dataframe tbody tr th {\n",
       "        vertical-align: top;\n",
       "    }\n",
       "\n",
       "    .dataframe thead th {\n",
       "        text-align: right;\n",
       "    }\n",
       "</style>\n",
       "<table border=\"1\" class=\"dataframe\">\n",
       "  <thead>\n",
       "    <tr style=\"text-align: right;\">\n",
       "      <th></th>\n",
       "      <th>Customer Id</th>\n",
       "      <th>YearOfObservation</th>\n",
       "      <th>Insured_Period</th>\n",
       "      <th>Residential</th>\n",
       "      <th>Building_Painted</th>\n",
       "      <th>Building_Fenced</th>\n",
       "      <th>Garden</th>\n",
       "      <th>Settlement</th>\n",
       "      <th>Building Dimension</th>\n",
       "      <th>Building_Type</th>\n",
       "      <th>Date_of_Occupancy</th>\n",
       "      <th>NumberOfWindows</th>\n",
       "      <th>Geo_Code</th>\n",
       "    </tr>\n",
       "  </thead>\n",
       "  <tbody>\n",
       "    <tr>\n",
       "      <th>0</th>\n",
       "      <td>H11920</td>\n",
       "      <td>2013</td>\n",
       "      <td>1.000000</td>\n",
       "      <td>0</td>\n",
       "      <td>V</td>\n",
       "      <td>N</td>\n",
       "      <td>O</td>\n",
       "      <td>R</td>\n",
       "      <td>300.0</td>\n",
       "      <td>1</td>\n",
       "      <td>1960.0</td>\n",
       "      <td>3</td>\n",
       "      <td>3310</td>\n",
       "    </tr>\n",
       "    <tr>\n",
       "      <th>1</th>\n",
       "      <td>H11921</td>\n",
       "      <td>2016</td>\n",
       "      <td>0.997268</td>\n",
       "      <td>0</td>\n",
       "      <td>V</td>\n",
       "      <td>N</td>\n",
       "      <td>O</td>\n",
       "      <td>R</td>\n",
       "      <td>300.0</td>\n",
       "      <td>1</td>\n",
       "      <td>1960.0</td>\n",
       "      <td>3</td>\n",
       "      <td>3310</td>\n",
       "    </tr>\n",
       "    <tr>\n",
       "      <th>2</th>\n",
       "      <td>H9805</td>\n",
       "      <td>2013</td>\n",
       "      <td>0.369863</td>\n",
       "      <td>0</td>\n",
       "      <td>V</td>\n",
       "      <td>V</td>\n",
       "      <td>V</td>\n",
       "      <td>U</td>\n",
       "      <td>790.0</td>\n",
       "      <td>1</td>\n",
       "      <td>1960.0</td>\n",
       "      <td>.</td>\n",
       "      <td>3310</td>\n",
       "    </tr>\n",
       "    <tr>\n",
       "      <th>3</th>\n",
       "      <td>H7493</td>\n",
       "      <td>2014</td>\n",
       "      <td>1.000000</td>\n",
       "      <td>0</td>\n",
       "      <td>V</td>\n",
       "      <td>N</td>\n",
       "      <td>O</td>\n",
       "      <td>R</td>\n",
       "      <td>1405.0</td>\n",
       "      <td>1</td>\n",
       "      <td>2004.0</td>\n",
       "      <td>3</td>\n",
       "      <td>3321</td>\n",
       "    </tr>\n",
       "    <tr>\n",
       "      <th>4</th>\n",
       "      <td>H7494</td>\n",
       "      <td>2016</td>\n",
       "      <td>1.000000</td>\n",
       "      <td>0</td>\n",
       "      <td>V</td>\n",
       "      <td>N</td>\n",
       "      <td>O</td>\n",
       "      <td>R</td>\n",
       "      <td>1405.0</td>\n",
       "      <td>1</td>\n",
       "      <td>2004.0</td>\n",
       "      <td>3</td>\n",
       "      <td>3321</td>\n",
       "    </tr>\n",
       "  </tbody>\n",
       "</table>\n",
       "</div>"
      ],
      "text/plain": [
       "  Customer Id  YearOfObservation  Insured_Period  Residential  \\\n",
       "0      H11920               2013        1.000000            0   \n",
       "1      H11921               2016        0.997268            0   \n",
       "2       H9805               2013        0.369863            0   \n",
       "3       H7493               2014        1.000000            0   \n",
       "4       H7494               2016        1.000000            0   \n",
       "\n",
       "  Building_Painted Building_Fenced Garden Settlement  Building Dimension  \\\n",
       "0                V               N      O          R               300.0   \n",
       "1                V               N      O          R               300.0   \n",
       "2                V               V      V          U               790.0   \n",
       "3                V               N      O          R              1405.0   \n",
       "4                V               N      O          R              1405.0   \n",
       "\n",
       "   Building_Type  Date_of_Occupancy NumberOfWindows Geo_Code  \n",
       "0              1             1960.0               3     3310  \n",
       "1              1             1960.0               3     3310  \n",
       "2              1             1960.0               .     3310  \n",
       "3              1             2004.0               3     3321  \n",
       "4              1             2004.0               3     3321  "
      ]
     },
     "execution_count": 106,
     "metadata": {},
     "output_type": "execute_result"
    }
   ],
   "source": [
    "test = pd.read_csv('test_data.csv', na_values={' ':np.nan})\n",
    "test.head()"
   ]
  },
  {
   "cell_type": "code",
   "execution_count": 107,
   "metadata": {},
   "outputs": [],
   "source": [
    "test = test.drop(columns='NumberOfWindows')"
   ]
  },
  {
   "cell_type": "code",
   "execution_count": 108,
   "metadata": {},
   "outputs": [
    {
     "data": {
      "text/plain": [
       "V    2240\n",
       "O     825\n",
       "Name: Garden, dtype: int64"
      ]
     },
     "execution_count": 108,
     "metadata": {},
     "output_type": "execute_result"
    }
   ],
   "source": [
    "test.Garden.value_counts()"
   ]
  },
  {
   "cell_type": "code",
   "execution_count": 109,
   "metadata": {},
   "outputs": [],
   "source": [
    "test['Building_Dimension'] = test['Building Dimension']\n",
    "test = test.drop(columns='Building Dimension')"
   ]
  },
  {
   "cell_type": "code",
   "execution_count": 110,
   "metadata": {},
   "outputs": [
    {
     "data": {
      "text/plain": [
       "Customer Id             0\n",
       "YearOfObservation       0\n",
       "Insured_Period          0\n",
       "Residential             0\n",
       "Building_Painted        0\n",
       "Building_Fenced         0\n",
       "Garden                  4\n",
       "Settlement              0\n",
       "Building_Type           0\n",
       "Date_of_Occupancy     728\n",
       "Geo_Code               13\n",
       "Building_Dimension     13\n",
       "dtype: int64"
      ]
     },
     "execution_count": 110,
     "metadata": {},
     "output_type": "execute_result"
    }
   ],
   "source": [
    "test.isnull().sum()"
   ]
  },
  {
   "cell_type": "code",
   "execution_count": 111,
   "metadata": {},
   "outputs": [
    {
     "data": {
      "text/plain": [
       "0    V\n",
       "dtype: object"
      ]
     },
     "execution_count": 111,
     "metadata": {},
     "output_type": "execute_result"
    }
   ],
   "source": [
    "test.Garden.mode()"
   ]
  },
  {
   "cell_type": "code",
   "execution_count": 112,
   "metadata": {},
   "outputs": [],
   "source": [
    "# Replace missing values with median\n",
    "test['Building_Dimension'].fillna(test['Building_Dimension'].median(), inplace=True)\n",
    "test['Date_of_Occupancy'].fillna(test['Date_of_Occupancy'].median(), inplace=True)\n",
    "test['Garden'].fillna(test['Garden'].mode(), inplace=True)\n",
    "# df['Geo_Code'].fillna(df['Geo_Code'].median(), inplace=True)"
   ]
  },
  {
   "cell_type": "code",
   "execution_count": 113,
   "metadata": {},
   "outputs": [],
   "source": [
    "test['Garden'] = test['Garden'].replace('', np.nan).ffill()"
   ]
  },
  {
   "cell_type": "code",
   "execution_count": 114,
   "metadata": {},
   "outputs": [],
   "source": [
    "# test['Garden'].fillna(test['Garden'].mode, inplace=True)"
   ]
  },
  {
   "cell_type": "code",
   "execution_count": 115,
   "metadata": {},
   "outputs": [
    {
     "data": {
      "text/plain": [
       "Customer Id            0\n",
       "YearOfObservation      0\n",
       "Insured_Period         0\n",
       "Residential            0\n",
       "Building_Painted       0\n",
       "Building_Fenced        0\n",
       "Garden                 0\n",
       "Settlement             0\n",
       "Building_Type          0\n",
       "Date_of_Occupancy      0\n",
       "Geo_Code              13\n",
       "Building_Dimension     0\n",
       "dtype: int64"
      ]
     },
     "execution_count": 115,
     "metadata": {},
     "output_type": "execute_result"
    }
   ],
   "source": [
    "test.isnull().sum()"
   ]
  },
  {
   "cell_type": "code",
   "execution_count": 133,
   "metadata": {},
   "outputs": [
    {
     "data": {
      "text/plain": [
       "V    2243\n",
       "O     826\n",
       "Name: Garden, dtype: int64"
      ]
     },
     "execution_count": 133,
     "metadata": {},
     "output_type": "execute_result"
    }
   ],
   "source": [
    "test['Garden'].value_counts()"
   ]
  },
  {
   "cell_type": "code",
   "execution_count": 134,
   "metadata": {},
   "outputs": [],
   "source": [
    "# Convert insured period to months\n",
    "test['Insured_Period'] = test['Insured_Period'] * 12"
   ]
  },
  {
   "cell_type": "code",
   "execution_count": 135,
   "metadata": {},
   "outputs": [],
   "source": [
    "test['Insured_Period'] = test['Insured_Period'].astype(dtype='int32')"
   ]
  },
  {
   "cell_type": "code",
   "execution_count": 136,
   "metadata": {},
   "outputs": [],
   "source": [
    "# Before going ahead, split data into 90% train and 10% test.\n",
    "test['Building_Painted'] = test.Building_Painted.factorize()[0]\n",
    "test['Building_Fenced'] = test.Building_Fenced.factorize()[0]\n",
    "test['Garden'] = test.Garden.factorize()[0]\n",
    "test['Settlement'] = test.Settlement.factorize()[0]"
   ]
  },
  {
   "cell_type": "code",
   "execution_count": 137,
   "metadata": {},
   "outputs": [],
   "source": [
    "# For features used in building linear models, make sure your categorical var begins with a class 0 \n",
    "# and your quantitative variables are centered.\n",
    "\n",
    "recode_building_type = {1:0, 2:1, 3:2, 4:3}\n",
    "test['Building_Type_p'] = test['Building_Type'].map(recode_building_type)"
   ]
  },
  {
   "cell_type": "code",
   "execution_count": 138,
   "metadata": {},
   "outputs": [],
   "source": [
    "test = test.drop(columns='Geo_Code')"
   ]
  },
  {
   "cell_type": "code",
   "execution_count": 139,
   "metadata": {},
   "outputs": [],
   "source": [
    "# Centering quantitative variiables\n",
    "test['YearOfObservation_c'] = test['YearOfObservation'] - test['YearOfObservation'].mean()\n",
    "test['Insured_Period_c'] = test['Insured_Period'] - test['Insured_Period'].mean()\n",
    "test['Date_of_Occupancy_c'] = test['Date_of_Occupancy'] - test['Date_of_Occupancy'].mean()\n",
    "test['Building_Dimension_c'] = test['Building_Dimension'] - test['Building_Dimension'].mean()"
   ]
  },
  {
   "cell_type": "code",
   "execution_count": 140,
   "metadata": {
    "collapsed": true
   },
   "outputs": [
    {
     "data": {
      "text/html": [
       "<div>\n",
       "<style scoped>\n",
       "    .dataframe tbody tr th:only-of-type {\n",
       "        vertical-align: middle;\n",
       "    }\n",
       "\n",
       "    .dataframe tbody tr th {\n",
       "        vertical-align: top;\n",
       "    }\n",
       "\n",
       "    .dataframe thead th {\n",
       "        text-align: right;\n",
       "    }\n",
       "</style>\n",
       "<table border=\"1\" class=\"dataframe\">\n",
       "  <thead>\n",
       "    <tr style=\"text-align: right;\">\n",
       "      <th></th>\n",
       "      <th>Customer Id</th>\n",
       "      <th>YearOfObservation</th>\n",
       "      <th>Insured_Period</th>\n",
       "      <th>Residential</th>\n",
       "      <th>Building_Painted</th>\n",
       "      <th>Building_Fenced</th>\n",
       "      <th>Garden</th>\n",
       "      <th>Settlement</th>\n",
       "      <th>Building_Type</th>\n",
       "      <th>Date_of_Occupancy</th>\n",
       "      <th>Building_Dimension</th>\n",
       "      <th>Building_Type_p</th>\n",
       "      <th>YearOfObservation_c</th>\n",
       "      <th>Insured_Period_c</th>\n",
       "      <th>Date_of_Occupancy_c</th>\n",
       "      <th>Building_Dimension_c</th>\n",
       "    </tr>\n",
       "  </thead>\n",
       "  <tbody>\n",
       "    <tr>\n",
       "      <th>0</th>\n",
       "      <td>H11920</td>\n",
       "      <td>2013</td>\n",
       "      <td>12</td>\n",
       "      <td>0</td>\n",
       "      <td>0</td>\n",
       "      <td>0</td>\n",
       "      <td>0</td>\n",
       "      <td>0</td>\n",
       "      <td>1</td>\n",
       "      <td>1960.0</td>\n",
       "      <td>300.0</td>\n",
       "      <td>0</td>\n",
       "      <td>-0.593679</td>\n",
       "      <td>1.091561</td>\n",
       "      <td>-7.070707</td>\n",
       "      <td>-1363.542522</td>\n",
       "    </tr>\n",
       "    <tr>\n",
       "      <th>1</th>\n",
       "      <td>H11921</td>\n",
       "      <td>2016</td>\n",
       "      <td>11</td>\n",
       "      <td>0</td>\n",
       "      <td>0</td>\n",
       "      <td>0</td>\n",
       "      <td>0</td>\n",
       "      <td>0</td>\n",
       "      <td>1</td>\n",
       "      <td>1960.0</td>\n",
       "      <td>300.0</td>\n",
       "      <td>0</td>\n",
       "      <td>2.406321</td>\n",
       "      <td>0.091561</td>\n",
       "      <td>-7.070707</td>\n",
       "      <td>-1363.542522</td>\n",
       "    </tr>\n",
       "    <tr>\n",
       "      <th>2</th>\n",
       "      <td>H9805</td>\n",
       "      <td>2013</td>\n",
       "      <td>4</td>\n",
       "      <td>0</td>\n",
       "      <td>0</td>\n",
       "      <td>1</td>\n",
       "      <td>1</td>\n",
       "      <td>1</td>\n",
       "      <td>1</td>\n",
       "      <td>1960.0</td>\n",
       "      <td>790.0</td>\n",
       "      <td>0</td>\n",
       "      <td>-0.593679</td>\n",
       "      <td>-6.908439</td>\n",
       "      <td>-7.070707</td>\n",
       "      <td>-873.542522</td>\n",
       "    </tr>\n",
       "    <tr>\n",
       "      <th>3</th>\n",
       "      <td>H7493</td>\n",
       "      <td>2014</td>\n",
       "      <td>12</td>\n",
       "      <td>0</td>\n",
       "      <td>0</td>\n",
       "      <td>0</td>\n",
       "      <td>0</td>\n",
       "      <td>0</td>\n",
       "      <td>1</td>\n",
       "      <td>2004.0</td>\n",
       "      <td>1405.0</td>\n",
       "      <td>0</td>\n",
       "      <td>0.406321</td>\n",
       "      <td>1.091561</td>\n",
       "      <td>36.929293</td>\n",
       "      <td>-258.542522</td>\n",
       "    </tr>\n",
       "    <tr>\n",
       "      <th>4</th>\n",
       "      <td>H7494</td>\n",
       "      <td>2016</td>\n",
       "      <td>12</td>\n",
       "      <td>0</td>\n",
       "      <td>0</td>\n",
       "      <td>0</td>\n",
       "      <td>0</td>\n",
       "      <td>0</td>\n",
       "      <td>1</td>\n",
       "      <td>2004.0</td>\n",
       "      <td>1405.0</td>\n",
       "      <td>0</td>\n",
       "      <td>2.406321</td>\n",
       "      <td>1.091561</td>\n",
       "      <td>36.929293</td>\n",
       "      <td>-258.542522</td>\n",
       "    </tr>\n",
       "  </tbody>\n",
       "</table>\n",
       "</div>"
      ],
      "text/plain": [
       "  Customer Id  YearOfObservation  Insured_Period  Residential  \\\n",
       "0      H11920               2013              12            0   \n",
       "1      H11921               2016              11            0   \n",
       "2       H9805               2013               4            0   \n",
       "3       H7493               2014              12            0   \n",
       "4       H7494               2016              12            0   \n",
       "\n",
       "   Building_Painted  Building_Fenced  Garden  Settlement  Building_Type  \\\n",
       "0                 0                0       0           0              1   \n",
       "1                 0                0       0           0              1   \n",
       "2                 0                1       1           1              1   \n",
       "3                 0                0       0           0              1   \n",
       "4                 0                0       0           0              1   \n",
       "\n",
       "   Date_of_Occupancy  Building_Dimension  Building_Type_p  \\\n",
       "0             1960.0               300.0                0   \n",
       "1             1960.0               300.0                0   \n",
       "2             1960.0               790.0                0   \n",
       "3             2004.0              1405.0                0   \n",
       "4             2004.0              1405.0                0   \n",
       "\n",
       "   YearOfObservation_c  Insured_Period_c  Date_of_Occupancy_c  \\\n",
       "0            -0.593679          1.091561            -7.070707   \n",
       "1             2.406321          0.091561            -7.070707   \n",
       "2            -0.593679         -6.908439            -7.070707   \n",
       "3             0.406321          1.091561            36.929293   \n",
       "4             2.406321          1.091561            36.929293   \n",
       "\n",
       "   Building_Dimension_c  \n",
       "0          -1363.542522  \n",
       "1          -1363.542522  \n",
       "2           -873.542522  \n",
       "3           -258.542522  \n",
       "4           -258.542522  "
      ]
     },
     "execution_count": 140,
     "metadata": {},
     "output_type": "execute_result"
    }
   ],
   "source": [
    "test.head()"
   ]
  },
  {
   "cell_type": "code",
   "execution_count": 141,
   "metadata": {},
   "outputs": [],
   "source": [
    "test_clean = test[['Customer Id', 'YearOfObservation_c', 'Insured_Period_c', 'Residential', 'Building_Painted', \n",
    "                      'Building_Fenced', 'Garden', 'Settlement', 'Building_Type_p', 'Date_of_Occupancy_c', 'Building_Dimension_c']]"
   ]
  },
  {
   "cell_type": "code",
   "execution_count": 142,
   "metadata": {},
   "outputs": [],
   "source": [
    "# test_clean_id = test_clean['Customer Id']\n",
    "# test_clean = test_clean.drop(columns='Customer Id')"
   ]
  },
  {
   "cell_type": "code",
   "execution_count": 143,
   "metadata": {},
   "outputs": [],
   "source": [
    "# Do one hot encoding with pd.get_dummies\n",
    "test_clean_residential = pd.get_dummies(test_clean['Residential'], prefix='Residential')\n",
    "test_clean_painted = pd.get_dummies(test_clean['Building_Painted'], prefix='Building_Painted')\n",
    "test_clean_fenced = pd.get_dummies(test_clean['Building_Fenced'], prefix='Building_Fenced')\n",
    "test_clean_garden = pd.get_dummies(test_clean['Garden'], prefix='Garden')\n",
    "test_clean_settlement = pd.get_dummies(test_clean['Settlement'], prefix='Settlement')\n",
    "test_clean_building_type = pd.get_dummies(test_clean['Building_Type_p'], prefix='Building_Type')"
   ]
  },
  {
   "cell_type": "code",
   "execution_count": 127,
   "metadata": {},
   "outputs": [],
   "source": [
    "# test_clean_garden"
   ]
  },
  {
   "cell_type": "code",
   "execution_count": 144,
   "metadata": {},
   "outputs": [],
   "source": [
    "test_clean = test_clean.drop(columns=['Residential', 'Building_Painted', 'Building_Fenced', 'Garden', 'Settlement',\n",
    "                                           'Building_Type_p'])\n",
    "test_clean = pd.concat([test_clean, test_clean_residential, test_clean_painted, test_clean_fenced, \n",
    "                        test_clean_garden, test_clean_settlement, test_clean_building_type], axis=1)"
   ]
  },
  {
   "cell_type": "code",
   "execution_count": 145,
   "metadata": {},
   "outputs": [
    {
     "data": {
      "text/html": [
       "<div>\n",
       "<style scoped>\n",
       "    .dataframe tbody tr th:only-of-type {\n",
       "        vertical-align: middle;\n",
       "    }\n",
       "\n",
       "    .dataframe tbody tr th {\n",
       "        vertical-align: top;\n",
       "    }\n",
       "\n",
       "    .dataframe thead th {\n",
       "        text-align: right;\n",
       "    }\n",
       "</style>\n",
       "<table border=\"1\" class=\"dataframe\">\n",
       "  <thead>\n",
       "    <tr style=\"text-align: right;\">\n",
       "      <th></th>\n",
       "      <th>Customer Id</th>\n",
       "      <th>YearOfObservation_c</th>\n",
       "      <th>Insured_Period_c</th>\n",
       "      <th>Date_of_Occupancy_c</th>\n",
       "      <th>Building_Dimension_c</th>\n",
       "      <th>Residential_0</th>\n",
       "      <th>Residential_1</th>\n",
       "      <th>Building_Painted_0</th>\n",
       "      <th>Building_Painted_1</th>\n",
       "      <th>Building_Fenced_0</th>\n",
       "      <th>Building_Fenced_1</th>\n",
       "      <th>Garden_0</th>\n",
       "      <th>Garden_1</th>\n",
       "      <th>Settlement_0</th>\n",
       "      <th>Settlement_1</th>\n",
       "      <th>Building_Type_0</th>\n",
       "      <th>Building_Type_1</th>\n",
       "      <th>Building_Type_2</th>\n",
       "      <th>Building_Type_3</th>\n",
       "    </tr>\n",
       "  </thead>\n",
       "  <tbody>\n",
       "    <tr>\n",
       "      <th>0</th>\n",
       "      <td>H11920</td>\n",
       "      <td>-0.593679</td>\n",
       "      <td>1.091561</td>\n",
       "      <td>-7.070707</td>\n",
       "      <td>-1363.542522</td>\n",
       "      <td>1</td>\n",
       "      <td>0</td>\n",
       "      <td>1</td>\n",
       "      <td>0</td>\n",
       "      <td>1</td>\n",
       "      <td>0</td>\n",
       "      <td>1</td>\n",
       "      <td>0</td>\n",
       "      <td>1</td>\n",
       "      <td>0</td>\n",
       "      <td>1</td>\n",
       "      <td>0</td>\n",
       "      <td>0</td>\n",
       "      <td>0</td>\n",
       "    </tr>\n",
       "    <tr>\n",
       "      <th>1</th>\n",
       "      <td>H11921</td>\n",
       "      <td>2.406321</td>\n",
       "      <td>0.091561</td>\n",
       "      <td>-7.070707</td>\n",
       "      <td>-1363.542522</td>\n",
       "      <td>1</td>\n",
       "      <td>0</td>\n",
       "      <td>1</td>\n",
       "      <td>0</td>\n",
       "      <td>1</td>\n",
       "      <td>0</td>\n",
       "      <td>1</td>\n",
       "      <td>0</td>\n",
       "      <td>1</td>\n",
       "      <td>0</td>\n",
       "      <td>1</td>\n",
       "      <td>0</td>\n",
       "      <td>0</td>\n",
       "      <td>0</td>\n",
       "    </tr>\n",
       "    <tr>\n",
       "      <th>2</th>\n",
       "      <td>H9805</td>\n",
       "      <td>-0.593679</td>\n",
       "      <td>-6.908439</td>\n",
       "      <td>-7.070707</td>\n",
       "      <td>-873.542522</td>\n",
       "      <td>1</td>\n",
       "      <td>0</td>\n",
       "      <td>1</td>\n",
       "      <td>0</td>\n",
       "      <td>0</td>\n",
       "      <td>1</td>\n",
       "      <td>0</td>\n",
       "      <td>1</td>\n",
       "      <td>0</td>\n",
       "      <td>1</td>\n",
       "      <td>1</td>\n",
       "      <td>0</td>\n",
       "      <td>0</td>\n",
       "      <td>0</td>\n",
       "    </tr>\n",
       "    <tr>\n",
       "      <th>3</th>\n",
       "      <td>H7493</td>\n",
       "      <td>0.406321</td>\n",
       "      <td>1.091561</td>\n",
       "      <td>36.929293</td>\n",
       "      <td>-258.542522</td>\n",
       "      <td>1</td>\n",
       "      <td>0</td>\n",
       "      <td>1</td>\n",
       "      <td>0</td>\n",
       "      <td>1</td>\n",
       "      <td>0</td>\n",
       "      <td>1</td>\n",
       "      <td>0</td>\n",
       "      <td>1</td>\n",
       "      <td>0</td>\n",
       "      <td>1</td>\n",
       "      <td>0</td>\n",
       "      <td>0</td>\n",
       "      <td>0</td>\n",
       "    </tr>\n",
       "    <tr>\n",
       "      <th>4</th>\n",
       "      <td>H7494</td>\n",
       "      <td>2.406321</td>\n",
       "      <td>1.091561</td>\n",
       "      <td>36.929293</td>\n",
       "      <td>-258.542522</td>\n",
       "      <td>1</td>\n",
       "      <td>0</td>\n",
       "      <td>1</td>\n",
       "      <td>0</td>\n",
       "      <td>1</td>\n",
       "      <td>0</td>\n",
       "      <td>1</td>\n",
       "      <td>0</td>\n",
       "      <td>1</td>\n",
       "      <td>0</td>\n",
       "      <td>1</td>\n",
       "      <td>0</td>\n",
       "      <td>0</td>\n",
       "      <td>0</td>\n",
       "    </tr>\n",
       "  </tbody>\n",
       "</table>\n",
       "</div>"
      ],
      "text/plain": [
       "  Customer Id  YearOfObservation_c  Insured_Period_c  Date_of_Occupancy_c  \\\n",
       "0      H11920            -0.593679          1.091561            -7.070707   \n",
       "1      H11921             2.406321          0.091561            -7.070707   \n",
       "2       H9805            -0.593679         -6.908439            -7.070707   \n",
       "3       H7493             0.406321          1.091561            36.929293   \n",
       "4       H7494             2.406321          1.091561            36.929293   \n",
       "\n",
       "   Building_Dimension_c  Residential_0  Residential_1  Building_Painted_0  \\\n",
       "0          -1363.542522              1              0                   1   \n",
       "1          -1363.542522              1              0                   1   \n",
       "2           -873.542522              1              0                   1   \n",
       "3           -258.542522              1              0                   1   \n",
       "4           -258.542522              1              0                   1   \n",
       "\n",
       "   Building_Painted_1  Building_Fenced_0  Building_Fenced_1  Garden_0  \\\n",
       "0                   0                  1                  0         1   \n",
       "1                   0                  1                  0         1   \n",
       "2                   0                  0                  1         0   \n",
       "3                   0                  1                  0         1   \n",
       "4                   0                  1                  0         1   \n",
       "\n",
       "   Garden_1  Settlement_0  Settlement_1  Building_Type_0  Building_Type_1  \\\n",
       "0         0             1             0                1                0   \n",
       "1         0             1             0                1                0   \n",
       "2         1             0             1                1                0   \n",
       "3         0             1             0                1                0   \n",
       "4         0             1             0                1                0   \n",
       "\n",
       "   Building_Type_2  Building_Type_3  \n",
       "0                0                0  \n",
       "1                0                0  \n",
       "2                0                0  \n",
       "3                0                0  \n",
       "4                0                0  "
      ]
     },
     "execution_count": 145,
     "metadata": {},
     "output_type": "execute_result"
    }
   ],
   "source": [
    "test_clean.head()"
   ]
  },
  {
   "cell_type": "code",
   "execution_count": 169,
   "metadata": {},
   "outputs": [
    {
     "data": {
      "text/html": [
       "<div>\n",
       "<style scoped>\n",
       "    .dataframe tbody tr th:only-of-type {\n",
       "        vertical-align: middle;\n",
       "    }\n",
       "\n",
       "    .dataframe tbody tr th {\n",
       "        vertical-align: top;\n",
       "    }\n",
       "\n",
       "    .dataframe thead th {\n",
       "        text-align: right;\n",
       "    }\n",
       "</style>\n",
       "<table border=\"1\" class=\"dataframe\">\n",
       "  <thead>\n",
       "    <tr style=\"text-align: right;\">\n",
       "      <th></th>\n",
       "      <th>YearOfObservation_c</th>\n",
       "      <th>Insured_Period_c</th>\n",
       "      <th>Date_of_Occupancy_c</th>\n",
       "      <th>Building_Dimension_c</th>\n",
       "      <th>Residential_0</th>\n",
       "      <th>Residential_1</th>\n",
       "      <th>Building_Painted_0</th>\n",
       "      <th>Building_Painted_1</th>\n",
       "      <th>Building_Fenced_0</th>\n",
       "      <th>Building_Fenced_1</th>\n",
       "      <th>Garden_0</th>\n",
       "      <th>Garden_1</th>\n",
       "      <th>Settlement_0</th>\n",
       "      <th>Settlement_1</th>\n",
       "      <th>Building_Type_0</th>\n",
       "      <th>Building_Type_1</th>\n",
       "      <th>Building_Type_2</th>\n",
       "      <th>Building_Type_3</th>\n",
       "    </tr>\n",
       "  </thead>\n",
       "  <tbody>\n",
       "    <tr>\n",
       "      <th>1631</th>\n",
       "      <td>0.323075</td>\n",
       "      <td>1.252163</td>\n",
       "      <td>40.146646</td>\n",
       "      <td>839.233868</td>\n",
       "      <td>1</td>\n",
       "      <td>0</td>\n",
       "      <td>0</td>\n",
       "      <td>1</td>\n",
       "      <td>0</td>\n",
       "      <td>1</td>\n",
       "      <td>0</td>\n",
       "      <td>1</td>\n",
       "      <td>0</td>\n",
       "      <td>1</td>\n",
       "      <td>1</td>\n",
       "      <td>0</td>\n",
       "      <td>0</td>\n",
       "      <td>0</td>\n",
       "    </tr>\n",
       "    <tr>\n",
       "      <th>5575</th>\n",
       "      <td>-0.676925</td>\n",
       "      <td>1.252163</td>\n",
       "      <td>46.146646</td>\n",
       "      <td>218.233868</td>\n",
       "      <td>1</td>\n",
       "      <td>0</td>\n",
       "      <td>0</td>\n",
       "      <td>1</td>\n",
       "      <td>0</td>\n",
       "      <td>1</td>\n",
       "      <td>0</td>\n",
       "      <td>1</td>\n",
       "      <td>0</td>\n",
       "      <td>1</td>\n",
       "      <td>0</td>\n",
       "      <td>1</td>\n",
       "      <td>0</td>\n",
       "      <td>0</td>\n",
       "    </tr>\n",
       "    <tr>\n",
       "      <th>343</th>\n",
       "      <td>-0.676925</td>\n",
       "      <td>1.252163</td>\n",
       "      <td>15.146646</td>\n",
       "      <td>-703.766132</td>\n",
       "      <td>1</td>\n",
       "      <td>0</td>\n",
       "      <td>0</td>\n",
       "      <td>1</td>\n",
       "      <td>1</td>\n",
       "      <td>0</td>\n",
       "      <td>1</td>\n",
       "      <td>0</td>\n",
       "      <td>1</td>\n",
       "      <td>0</td>\n",
       "      <td>0</td>\n",
       "      <td>0</td>\n",
       "      <td>0</td>\n",
       "      <td>1</td>\n",
       "    </tr>\n",
       "    <tr>\n",
       "      <th>4219</th>\n",
       "      <td>-1.676925</td>\n",
       "      <td>1.252163</td>\n",
       "      <td>-4.853354</td>\n",
       "      <td>-1211.766132</td>\n",
       "      <td>1</td>\n",
       "      <td>0</td>\n",
       "      <td>0</td>\n",
       "      <td>1</td>\n",
       "      <td>0</td>\n",
       "      <td>1</td>\n",
       "      <td>0</td>\n",
       "      <td>1</td>\n",
       "      <td>0</td>\n",
       "      <td>1</td>\n",
       "      <td>0</td>\n",
       "      <td>1</td>\n",
       "      <td>0</td>\n",
       "      <td>0</td>\n",
       "    </tr>\n",
       "    <tr>\n",
       "      <th>6948</th>\n",
       "      <td>-0.676925</td>\n",
       "      <td>-3.747837</td>\n",
       "      <td>-4.853354</td>\n",
       "      <td>2118.233868</td>\n",
       "      <td>0</td>\n",
       "      <td>1</td>\n",
       "      <td>1</td>\n",
       "      <td>0</td>\n",
       "      <td>1</td>\n",
       "      <td>0</td>\n",
       "      <td>1</td>\n",
       "      <td>0</td>\n",
       "      <td>1</td>\n",
       "      <td>0</td>\n",
       "      <td>0</td>\n",
       "      <td>1</td>\n",
       "      <td>0</td>\n",
       "      <td>0</td>\n",
       "    </tr>\n",
       "  </tbody>\n",
       "</table>\n",
       "</div>"
      ],
      "text/plain": [
       "      YearOfObservation_c  Insured_Period_c  Date_of_Occupancy_c  \\\n",
       "1631             0.323075          1.252163            40.146646   \n",
       "5575            -0.676925          1.252163            46.146646   \n",
       "343             -0.676925          1.252163            15.146646   \n",
       "4219            -1.676925          1.252163            -4.853354   \n",
       "6948            -0.676925         -3.747837            -4.853354   \n",
       "\n",
       "      Building_Dimension_c  Residential_0  Residential_1  Building_Painted_0  \\\n",
       "1631            839.233868              1              0                   0   \n",
       "5575            218.233868              1              0                   0   \n",
       "343            -703.766132              1              0                   0   \n",
       "4219          -1211.766132              1              0                   0   \n",
       "6948           2118.233868              0              1                   1   \n",
       "\n",
       "      Building_Painted_1  Building_Fenced_0  Building_Fenced_1  Garden_0  \\\n",
       "1631                   1                  0                  1         0   \n",
       "5575                   1                  0                  1         0   \n",
       "343                    1                  1                  0         1   \n",
       "4219                   1                  0                  1         0   \n",
       "6948                   0                  1                  0         1   \n",
       "\n",
       "      Garden_1  Settlement_0  Settlement_1  Building_Type_0  Building_Type_1  \\\n",
       "1631         1             0             1                1                0   \n",
       "5575         1             0             1                0                1   \n",
       "343          0             1             0                0                0   \n",
       "4219         1             0             1                0                1   \n",
       "6948         0             1             0                0                1   \n",
       "\n",
       "      Building_Type_2  Building_Type_3  \n",
       "1631                0                0  \n",
       "5575                0                0  \n",
       "343                 0                1  \n",
       "4219                0                0  \n",
       "6948                0                0  "
      ]
     },
     "execution_count": 169,
     "metadata": {},
     "output_type": "execute_result"
    }
   ],
   "source": [
    "X_train.head()"
   ]
  },
  {
   "cell_type": "code",
   "execution_count": 170,
   "metadata": {},
   "outputs": [],
   "source": [
    "features = ['YearOfObservation_c', 'Insured_Period_c', 'Date_of_Occupancy_c', 'Residential_0', 'Residential_1', 'Building_Painted_0', 'Building_Painted_1',\n",
    "            'Building_Fenced_0', 'Building_Fenced_1', 'Garden_0', 'Garden_1', 'Settlement_0', 'Settlement_1',\n",
    "            'Building_Type_0', 'Building_Type_1', 'Building_Type_2', 'Building_Type_3', 'Building_Dimension_c']"
   ]
  },
  {
   "cell_type": "code",
   "execution_count": 129,
   "metadata": {},
   "outputs": [],
   "source": [
    "# test_clean.head()"
   ]
  },
  {
   "cell_type": "code",
   "execution_count": 130,
   "metadata": {},
   "outputs": [],
   "source": [
    "# test_clean['Garden_-1'].value_counts()"
   ]
  },
  {
   "cell_type": "code",
   "execution_count": 131,
   "metadata": {},
   "outputs": [],
   "source": [
    "# X_train.head()"
   ]
  },
  {
   "cell_type": "code",
   "execution_count": 168,
   "metadata": {
    "collapsed": true
   },
   "outputs": [
    {
     "data": {
      "text/html": [
       "<div>\n",
       "<style scoped>\n",
       "    .dataframe tbody tr th:only-of-type {\n",
       "        vertical-align: middle;\n",
       "    }\n",
       "\n",
       "    .dataframe tbody tr th {\n",
       "        vertical-align: top;\n",
       "    }\n",
       "\n",
       "    .dataframe thead th {\n",
       "        text-align: right;\n",
       "    }\n",
       "</style>\n",
       "<table border=\"1\" class=\"dataframe\">\n",
       "  <thead>\n",
       "    <tr style=\"text-align: right;\">\n",
       "      <th></th>\n",
       "      <th>YearOfObservation_c</th>\n",
       "      <th>Insured_Period_c</th>\n",
       "      <th>Residential_0</th>\n",
       "      <th>Residential_1</th>\n",
       "      <th>Building_Painted_0</th>\n",
       "      <th>Building_Painted_1</th>\n",
       "      <th>Building_Fenced_0</th>\n",
       "      <th>Building_Fenced_1</th>\n",
       "      <th>Garden_0</th>\n",
       "      <th>Garden_1</th>\n",
       "      <th>Settlement_0</th>\n",
       "      <th>Settlement_1</th>\n",
       "      <th>Building_Type_0</th>\n",
       "      <th>Building_Type_1</th>\n",
       "      <th>Building_Type_2</th>\n",
       "      <th>Building_Type_3</th>\n",
       "      <th>Date_of_Occupancy_c</th>\n",
       "      <th>Building_Dimension_c</th>\n",
       "    </tr>\n",
       "  </thead>\n",
       "  <tbody>\n",
       "    <tr>\n",
       "      <th>0</th>\n",
       "      <td>-0.593679</td>\n",
       "      <td>1.091561</td>\n",
       "      <td>1</td>\n",
       "      <td>0</td>\n",
       "      <td>1</td>\n",
       "      <td>0</td>\n",
       "      <td>1</td>\n",
       "      <td>0</td>\n",
       "      <td>1</td>\n",
       "      <td>0</td>\n",
       "      <td>1</td>\n",
       "      <td>0</td>\n",
       "      <td>1</td>\n",
       "      <td>0</td>\n",
       "      <td>0</td>\n",
       "      <td>0</td>\n",
       "      <td>-7.070707</td>\n",
       "      <td>-1363.542522</td>\n",
       "    </tr>\n",
       "    <tr>\n",
       "      <th>1</th>\n",
       "      <td>2.406321</td>\n",
       "      <td>0.091561</td>\n",
       "      <td>1</td>\n",
       "      <td>0</td>\n",
       "      <td>1</td>\n",
       "      <td>0</td>\n",
       "      <td>1</td>\n",
       "      <td>0</td>\n",
       "      <td>1</td>\n",
       "      <td>0</td>\n",
       "      <td>1</td>\n",
       "      <td>0</td>\n",
       "      <td>1</td>\n",
       "      <td>0</td>\n",
       "      <td>0</td>\n",
       "      <td>0</td>\n",
       "      <td>-7.070707</td>\n",
       "      <td>-1363.542522</td>\n",
       "    </tr>\n",
       "    <tr>\n",
       "      <th>2</th>\n",
       "      <td>-0.593679</td>\n",
       "      <td>-6.908439</td>\n",
       "      <td>1</td>\n",
       "      <td>0</td>\n",
       "      <td>1</td>\n",
       "      <td>0</td>\n",
       "      <td>0</td>\n",
       "      <td>1</td>\n",
       "      <td>0</td>\n",
       "      <td>1</td>\n",
       "      <td>0</td>\n",
       "      <td>1</td>\n",
       "      <td>1</td>\n",
       "      <td>0</td>\n",
       "      <td>0</td>\n",
       "      <td>0</td>\n",
       "      <td>-7.070707</td>\n",
       "      <td>-873.542522</td>\n",
       "    </tr>\n",
       "    <tr>\n",
       "      <th>3</th>\n",
       "      <td>0.406321</td>\n",
       "      <td>1.091561</td>\n",
       "      <td>1</td>\n",
       "      <td>0</td>\n",
       "      <td>1</td>\n",
       "      <td>0</td>\n",
       "      <td>1</td>\n",
       "      <td>0</td>\n",
       "      <td>1</td>\n",
       "      <td>0</td>\n",
       "      <td>1</td>\n",
       "      <td>0</td>\n",
       "      <td>1</td>\n",
       "      <td>0</td>\n",
       "      <td>0</td>\n",
       "      <td>0</td>\n",
       "      <td>36.929293</td>\n",
       "      <td>-258.542522</td>\n",
       "    </tr>\n",
       "    <tr>\n",
       "      <th>4</th>\n",
       "      <td>2.406321</td>\n",
       "      <td>1.091561</td>\n",
       "      <td>1</td>\n",
       "      <td>0</td>\n",
       "      <td>1</td>\n",
       "      <td>0</td>\n",
       "      <td>1</td>\n",
       "      <td>0</td>\n",
       "      <td>1</td>\n",
       "      <td>0</td>\n",
       "      <td>1</td>\n",
       "      <td>0</td>\n",
       "      <td>1</td>\n",
       "      <td>0</td>\n",
       "      <td>0</td>\n",
       "      <td>0</td>\n",
       "      <td>36.929293</td>\n",
       "      <td>-258.542522</td>\n",
       "    </tr>\n",
       "    <tr>\n",
       "      <th>...</th>\n",
       "      <td>...</td>\n",
       "      <td>...</td>\n",
       "      <td>...</td>\n",
       "      <td>...</td>\n",
       "      <td>...</td>\n",
       "      <td>...</td>\n",
       "      <td>...</td>\n",
       "      <td>...</td>\n",
       "      <td>...</td>\n",
       "      <td>...</td>\n",
       "      <td>...</td>\n",
       "      <td>...</td>\n",
       "      <td>...</td>\n",
       "      <td>...</td>\n",
       "      <td>...</td>\n",
       "      <td>...</td>\n",
       "      <td>...</td>\n",
       "      <td>...</td>\n",
       "    </tr>\n",
       "    <tr>\n",
       "      <th>3064</th>\n",
       "      <td>1.406321</td>\n",
       "      <td>1.091561</td>\n",
       "      <td>1</td>\n",
       "      <td>0</td>\n",
       "      <td>1</td>\n",
       "      <td>0</td>\n",
       "      <td>0</td>\n",
       "      <td>1</td>\n",
       "      <td>0</td>\n",
       "      <td>1</td>\n",
       "      <td>0</td>\n",
       "      <td>1</td>\n",
       "      <td>0</td>\n",
       "      <td>0</td>\n",
       "      <td>0</td>\n",
       "      <td>1</td>\n",
       "      <td>-67.070707</td>\n",
       "      <td>-763.542522</td>\n",
       "    </tr>\n",
       "    <tr>\n",
       "      <th>3065</th>\n",
       "      <td>-1.593679</td>\n",
       "      <td>1.091561</td>\n",
       "      <td>1</td>\n",
       "      <td>0</td>\n",
       "      <td>1</td>\n",
       "      <td>0</td>\n",
       "      <td>0</td>\n",
       "      <td>1</td>\n",
       "      <td>0</td>\n",
       "      <td>1</td>\n",
       "      <td>0</td>\n",
       "      <td>1</td>\n",
       "      <td>0</td>\n",
       "      <td>1</td>\n",
       "      <td>0</td>\n",
       "      <td>0</td>\n",
       "      <td>-19.070707</td>\n",
       "      <td>-763.542522</td>\n",
       "    </tr>\n",
       "    <tr>\n",
       "      <th>3066</th>\n",
       "      <td>-1.593679</td>\n",
       "      <td>1.091561</td>\n",
       "      <td>1</td>\n",
       "      <td>0</td>\n",
       "      <td>1</td>\n",
       "      <td>0</td>\n",
       "      <td>0</td>\n",
       "      <td>1</td>\n",
       "      <td>0</td>\n",
       "      <td>1</td>\n",
       "      <td>0</td>\n",
       "      <td>1</td>\n",
       "      <td>0</td>\n",
       "      <td>1</td>\n",
       "      <td>0</td>\n",
       "      <td>0</td>\n",
       "      <td>25.929293</td>\n",
       "      <td>-763.542522</td>\n",
       "    </tr>\n",
       "    <tr>\n",
       "      <th>3067</th>\n",
       "      <td>-0.593679</td>\n",
       "      <td>1.091561</td>\n",
       "      <td>1</td>\n",
       "      <td>0</td>\n",
       "      <td>1</td>\n",
       "      <td>0</td>\n",
       "      <td>0</td>\n",
       "      <td>1</td>\n",
       "      <td>0</td>\n",
       "      <td>1</td>\n",
       "      <td>0</td>\n",
       "      <td>1</td>\n",
       "      <td>1</td>\n",
       "      <td>0</td>\n",
       "      <td>0</td>\n",
       "      <td>0</td>\n",
       "      <td>-167.070707</td>\n",
       "      <td>-763.542522</td>\n",
       "    </tr>\n",
       "    <tr>\n",
       "      <th>3068</th>\n",
       "      <td>-1.593679</td>\n",
       "      <td>1.091561</td>\n",
       "      <td>1</td>\n",
       "      <td>0</td>\n",
       "      <td>1</td>\n",
       "      <td>0</td>\n",
       "      <td>0</td>\n",
       "      <td>1</td>\n",
       "      <td>0</td>\n",
       "      <td>1</td>\n",
       "      <td>0</td>\n",
       "      <td>1</td>\n",
       "      <td>0</td>\n",
       "      <td>1</td>\n",
       "      <td>0</td>\n",
       "      <td>0</td>\n",
       "      <td>-17.070707</td>\n",
       "      <td>-763.542522</td>\n",
       "    </tr>\n",
       "  </tbody>\n",
       "</table>\n",
       "<p>3069 rows × 18 columns</p>\n",
       "</div>"
      ],
      "text/plain": [
       "      YearOfObservation_c  Insured_Period_c  Residential_0  Residential_1  \\\n",
       "0               -0.593679          1.091561              1              0   \n",
       "1                2.406321          0.091561              1              0   \n",
       "2               -0.593679         -6.908439              1              0   \n",
       "3                0.406321          1.091561              1              0   \n",
       "4                2.406321          1.091561              1              0   \n",
       "...                   ...               ...            ...            ...   \n",
       "3064             1.406321          1.091561              1              0   \n",
       "3065            -1.593679          1.091561              1              0   \n",
       "3066            -1.593679          1.091561              1              0   \n",
       "3067            -0.593679          1.091561              1              0   \n",
       "3068            -1.593679          1.091561              1              0   \n",
       "\n",
       "      Building_Painted_0  Building_Painted_1  Building_Fenced_0  \\\n",
       "0                      1                   0                  1   \n",
       "1                      1                   0                  1   \n",
       "2                      1                   0                  0   \n",
       "3                      1                   0                  1   \n",
       "4                      1                   0                  1   \n",
       "...                  ...                 ...                ...   \n",
       "3064                   1                   0                  0   \n",
       "3065                   1                   0                  0   \n",
       "3066                   1                   0                  0   \n",
       "3067                   1                   0                  0   \n",
       "3068                   1                   0                  0   \n",
       "\n",
       "      Building_Fenced_1  Garden_0  Garden_1  Settlement_0  Settlement_1  \\\n",
       "0                     0         1         0             1             0   \n",
       "1                     0         1         0             1             0   \n",
       "2                     1         0         1             0             1   \n",
       "3                     0         1         0             1             0   \n",
       "4                     0         1         0             1             0   \n",
       "...                 ...       ...       ...           ...           ...   \n",
       "3064                  1         0         1             0             1   \n",
       "3065                  1         0         1             0             1   \n",
       "3066                  1         0         1             0             1   \n",
       "3067                  1         0         1             0             1   \n",
       "3068                  1         0         1             0             1   \n",
       "\n",
       "      Building_Type_0  Building_Type_1  Building_Type_2  Building_Type_3  \\\n",
       "0                   1                0                0                0   \n",
       "1                   1                0                0                0   \n",
       "2                   1                0                0                0   \n",
       "3                   1                0                0                0   \n",
       "4                   1                0                0                0   \n",
       "...               ...              ...              ...              ...   \n",
       "3064                0                0                0                1   \n",
       "3065                0                1                0                0   \n",
       "3066                0                1                0                0   \n",
       "3067                1                0                0                0   \n",
       "3068                0                1                0                0   \n",
       "\n",
       "      Date_of_Occupancy_c  Building_Dimension_c  \n",
       "0               -7.070707          -1363.542522  \n",
       "1               -7.070707          -1363.542522  \n",
       "2               -7.070707           -873.542522  \n",
       "3               36.929293           -258.542522  \n",
       "4               36.929293           -258.542522  \n",
       "...                   ...                   ...  \n",
       "3064           -67.070707           -763.542522  \n",
       "3065           -19.070707           -763.542522  \n",
       "3066            25.929293           -763.542522  \n",
       "3067          -167.070707           -763.542522  \n",
       "3068           -17.070707           -763.542522  \n",
       "\n",
       "[3069 rows x 18 columns]"
      ]
     },
     "execution_count": 168,
     "metadata": {},
     "output_type": "execute_result"
    }
   ],
   "source": []
  },
  {
   "cell_type": "code",
   "execution_count": 171,
   "metadata": {},
   "outputs": [],
   "source": [
    "predictions = clf.predict(test_clean[features])"
   ]
  },
  {
   "cell_type": "code",
   "execution_count": 172,
   "metadata": {},
   "outputs": [],
   "source": [
    "submission = pd.DataFrame({'Customer Id':test_clean['Customer Id'],'Claim':predictions})"
   ]
  },
  {
   "cell_type": "code",
   "execution_count": 173,
   "metadata": {},
   "outputs": [
    {
     "data": {
      "text/html": [
       "<div>\n",
       "<style scoped>\n",
       "    .dataframe tbody tr th:only-of-type {\n",
       "        vertical-align: middle;\n",
       "    }\n",
       "\n",
       "    .dataframe tbody tr th {\n",
       "        vertical-align: top;\n",
       "    }\n",
       "\n",
       "    .dataframe thead th {\n",
       "        text-align: right;\n",
       "    }\n",
       "</style>\n",
       "<table border=\"1\" class=\"dataframe\">\n",
       "  <thead>\n",
       "    <tr style=\"text-align: right;\">\n",
       "      <th></th>\n",
       "      <th>Customer Id</th>\n",
       "      <th>Claim</th>\n",
       "    </tr>\n",
       "  </thead>\n",
       "  <tbody>\n",
       "    <tr>\n",
       "      <th>0</th>\n",
       "      <td>H11920</td>\n",
       "      <td>0</td>\n",
       "    </tr>\n",
       "    <tr>\n",
       "      <th>1</th>\n",
       "      <td>H11921</td>\n",
       "      <td>0</td>\n",
       "    </tr>\n",
       "    <tr>\n",
       "      <th>2</th>\n",
       "      <td>H9805</td>\n",
       "      <td>0</td>\n",
       "    </tr>\n",
       "    <tr>\n",
       "      <th>3</th>\n",
       "      <td>H7493</td>\n",
       "      <td>0</td>\n",
       "    </tr>\n",
       "    <tr>\n",
       "      <th>4</th>\n",
       "      <td>H7494</td>\n",
       "      <td>0</td>\n",
       "    </tr>\n",
       "  </tbody>\n",
       "</table>\n",
       "</div>"
      ],
      "text/plain": [
       "  Customer Id  Claim\n",
       "0      H11920      0\n",
       "1      H11921      0\n",
       "2       H9805      0\n",
       "3       H7493      0\n",
       "4       H7494      0"
      ]
     },
     "execution_count": 173,
     "metadata": {},
     "output_type": "execute_result"
    }
   ],
   "source": [
    "submission.head()"
   ]
  },
  {
   "cell_type": "code",
   "execution_count": 174,
   "metadata": {},
   "outputs": [
    {
     "name": "stdout",
     "output_type": "stream",
     "text": [
      "Saved file: Submission.csv\n"
     ]
    }
   ],
   "source": [
    "filename = 'Submission.csv'\n",
    "\n",
    "submission.to_csv(filename,index=False)\n",
    "\n",
    "print('Saved file: ' + filename)"
   ]
  },
  {
   "cell_type": "code",
   "execution_count": null,
   "metadata": {},
   "outputs": [],
   "source": []
  }
 ],
 "metadata": {
  "kernelspec": {
   "display_name": "Python 3",
   "language": "python",
   "name": "python3"
  },
  "language_info": {
   "codemirror_mode": {
    "name": "ipython",
    "version": 3
   },
   "file_extension": ".py",
   "mimetype": "text/x-python",
   "name": "python",
   "nbconvert_exporter": "python",
   "pygments_lexer": "ipython3",
   "version": "3.6.7"
  }
 },
 "nbformat": 4,
 "nbformat_minor": 4
}
